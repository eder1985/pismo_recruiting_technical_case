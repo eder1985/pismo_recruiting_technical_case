{
 "cells": [
  {
   "cell_type": "markdown",
   "id": "13c17833-ae7d-421d-a202-67f7bd6e15da",
   "metadata": {},
   "source": [
    "# Installing faker lib"
   ]
  },
  {
   "cell_type": "code",
   "execution_count": 73,
   "id": "ae28e2df-c25a-4a0a-9428-db4768cd6f3e",
   "metadata": {
    "tags": []
   },
   "outputs": [
    {
     "name": "stdout",
     "output_type": "stream",
     "text": [
      "Requirement already satisfied: faker in c:\\users\\eder\\appdata\\local\\packages\\pythonsoftwarefoundation.python.3.9_qbz5n2kfra8p0\\localcache\\local-packages\\python39\\site-packages (19.2.0)\n",
      "Requirement already satisfied: python-dateutil>=2.4 in c:\\users\\eder\\appdata\\local\\packages\\pythonsoftwarefoundation.python.3.9_qbz5n2kfra8p0\\localcache\\local-packages\\python39\\site-packages (from faker) (2.8.2)\n",
      "Requirement already satisfied: six>=1.5 in c:\\users\\eder\\appdata\\local\\packages\\pythonsoftwarefoundation.python.3.9_qbz5n2kfra8p0\\localcache\\local-packages\\python39\\site-packages (from python-dateutil>=2.4->faker) (1.16.0)\n",
      "Note: you may need to restart the kernel to use updated packages.\n"
     ]
    },
    {
     "name": "stderr",
     "output_type": "stream",
     "text": [
      "WARNING: You are using pip version 22.0.4; however, version 23.2.1 is available.\n",
      "You should consider upgrading via the 'C:\\Users\\Eder\\AppData\\Local\\Microsoft\\WindowsApps\\PythonSoftwareFoundation.Python.3.9_qbz5n2kfra8p0\\python.exe -m pip install --upgrade pip' command.\n"
     ]
    }
   ],
   "source": [
    "%pip install faker"
   ]
  },
  {
   "cell_type": "code",
   "execution_count": 6,
   "id": "b09f623a-a917-40b2-935e-9f3418eeb5d0",
   "metadata": {
    "tags": []
   },
   "outputs": [],
   "source": [
    "from faker import Faker\n",
    "from faker.providers import BaseProvider\n",
    "from datetime import datetime\n",
    "import pandas as pd\n",
    "import random\n",
    "import json\n",
    "\n",
    "fake = Faker()"
   ]
  },
  {
   "cell_type": "markdown",
   "id": "c1271033-3194-4676-b653-7329269465bd",
   "metadata": {},
   "source": [
    "# Generating fake `event_id`: random UUIDs "
   ]
  },
  {
   "cell_type": "code",
   "execution_count": 14,
   "id": "fbb2e109-25d6-4b7d-9a2d-b27defaf30c7",
   "metadata": {},
   "outputs": [
    {
     "name": "stdout",
     "output_type": "stream",
     "text": [
      "cc733c92-6853-45f6-8e49-bec741188ebb\n"
     ]
    }
   ],
   "source": [
    "Faker.seed(4321)\n",
    "fake_event_id = fake.uuid4()\n",
    "print(fake_event_id)"
   ]
  },
  {
   "cell_type": "markdown",
   "id": "20155f18-3a4c-4ffc-ba04-cb2e68d1de4c",
   "metadata": {
    "tags": []
   },
   "source": [
    "# Generating fake `timestamp`: random timestamps with values until 3 years ago"
   ]
  },
  {
   "cell_type": "code",
   "execution_count": 39,
   "id": "05c17a17",
   "metadata": {},
   "outputs": [
    {
     "name": "stdout",
     "output_type": "stream",
     "text": [
      "2022-07-12T18:10:16\n"
     ]
    }
   ],
   "source": [
    "fake_timestamp = datetime.strftime(fake.date_time_between(start_date='-3y', end_date='now'),\"%Y-%m-%dT%H:%M:%S\")\n",
    "print(fake_timestamp)"
   ]
  },
  {
   "cell_type": "markdown",
   "id": "cf00e3d1-b80f-4f2b-80cc-1d9d38aedb62",
   "metadata": {
    "tags": []
   },
   "source": [
    "# Generating fake `domain`: random values based on valid grade names list"
   ]
  },
  {
   "cell_type": "code",
   "execution_count": 64,
   "id": "6f69aa9d-0b6b-4155-9d95-ffe79f430eb2",
   "metadata": {
    "tags": []
   },
   "outputs": [
    {
     "name": "stdout",
     "output_type": "stream",
     "text": [
      "account\n"
     ]
    }
   ],
   "source": [
    "class ProjectDomainProvider(BaseProvider):\n",
    "    def project_domain_name(self):\n",
    "        list_project_domain_names = ['account','transaction']\n",
    "        return random.choice(list_project_domain_names)\n",
    "\n",
    "fake.add_provider(ProjectDomainProvider)\n",
    "\n",
    "fake_project_domain_name = fake.project_domain_name()\n",
    "print(fake_project_domain_name)"
   ]
  },
  {
   "cell_type": "markdown",
   "id": "89e61378-9300-4c0e-b2a1-d548f3658d92",
   "metadata": {
    "tags": []
   },
   "source": [
    "# Generating fake `status`: random values based on list"
   ]
  },
  {
   "cell_type": "code",
   "execution_count": 61,
   "id": "38144fc2-3bdf-4cd2-aaba-f7387dc2749a",
   "metadata": {
    "tags": []
   },
   "outputs": [
    {
     "name": "stdout",
     "output_type": "stream",
     "text": [
      "INACTIVE\n"
     ]
    }
   ],
   "source": [
    "class StatusTypeProvider(BaseProvider):\n",
    "    def status_type(self):\n",
    "        list_status_types = ['ACTIVE','INACTIVE','SUSPENDED','BLOCKED', 'DELETED']\n",
    "        return random.choice(list_status_types)\n",
    "\n",
    "fake.add_provider(StatusTypeProvider)\n",
    "\n",
    "fake_status_type = fake.status_type()\n",
    "print(fake_status_type)"
   ]
  },
  {
   "cell_type": "markdown",
   "id": "bd343fca",
   "metadata": {},
   "source": [
    "# Generating fake `data`: random dict based on list"
   ]
  },
  {
   "cell_type": "code",
   "execution_count": 72,
   "id": "2db54d38",
   "metadata": {},
   "outputs": [
    {
     "name": "stdout",
     "output_type": "stream",
     "text": [
      "The original dictionary is :  {'Gfg': 1, 'is': 2, 'best': 3}\n",
      "The random pair is :  [('is', 2), ('best', 3), ('Gfg', 1)]\n"
     ]
    },
    {
     "name": "stderr",
     "output_type": "stream",
     "text": [
      "C:\\Users\\Eder\\AppData\\Local\\Temp\\ipykernel_2400\\2300216194.py:12: DeprecationWarning: Sampling from a set deprecated\n",
      "since Python 3.9 and will be removed in a subsequent version.\n",
      "  res = random.sample(test_dict.items(), 3)\n"
     ]
    }
   ],
   "source": [
    "import random\n",
    " \n",
    "# Initialize dictionary\n",
    "test_dict = {'Gfg' : 1, 'is' : 2, 'best' : 3}\n",
    "  \n",
    "# printing original dictionary\n",
    "print(\"The original dictionary is : \", test_dict)\n",
    "  \n",
    "# Method 3: Using random.sample()\n",
    "# Get random dictionary pair in dictionary\n",
    "# Using random.sample()\n",
    "res = random.sample(test_dict.items(), 3)\n",
    "  \n",
    "# printing result\n",
    "print(\"The random pair is : \", res)\n",
    "#This code is contributed by Edula Vinay Kumar Reddy"
   ]
  },
  {
   "cell_type": "markdown",
   "id": "b71c70e2-9a78-4595-84fd-0c733c652e23",
   "metadata": {},
   "source": [
    "# Writing file with fake values"
   ]
  },
  {
   "cell_type": "code",
   "execution_count": 68,
   "id": "7a932254",
   "metadata": {},
   "outputs": [
    {
     "name": "stdout",
     "output_type": "stream",
     "text": [
      "Done.\n"
     ]
    }
   ],
   "source": [
    "from json import dumps\n",
    "from faker import Faker\n",
    "import collections\n",
    "\n",
    "database = []\n",
    "filename = 'fake_events'\n",
    "length = 10\n",
    "\n",
    "for x in range(length):\n",
    "    database.append(collections.OrderedDict([\n",
    "        ('event_id', fake.uuid4()),\n",
    "        ('timestamp', datetime.strftime(fake.date_time_between(start_date='-3y', end_date='now'),\"%Y-%m-%dT%H:%M:%S\")),\n",
    "        ('domain', fake.project_domain_name()),\n",
    "        ('event_type', \"status-change\"),\n",
    "        ('data', collections.OrderedDict([\n",
    "            ('id', fake.random_number(digits=6)),\n",
    "            ('old_status', fake.status_type()),\n",
    "            ('new_status', fake.status_type()),\n",
    "            ('reason', fake.sentence(nb_words=5))\n",
    "        ]))\n",
    "    ]))\n",
    "\n",
    "with open('../data/input/%s.json' % filename, 'w') as output:\n",
    "    # turns date_between into string, circumvent json serialization\n",
    "    output.write(dumps(database, indent=4, sort_keys=False, default=str))\n",
    "print(\"Done.\")"
   ]
  },
  {
   "cell_type": "code",
   "execution_count": 69,
   "id": "38c17cf3-460f-4a7e-aab4-d9a6081ce53e",
   "metadata": {
    "tags": []
   },
   "outputs": [
    {
     "data": {
      "text/html": [
       "<div>\n",
       "<style scoped>\n",
       "    .dataframe tbody tr th:only-of-type {\n",
       "        vertical-align: middle;\n",
       "    }\n",
       "\n",
       "    .dataframe tbody tr th {\n",
       "        vertical-align: top;\n",
       "    }\n",
       "\n",
       "    .dataframe thead th {\n",
       "        text-align: right;\n",
       "    }\n",
       "</style>\n",
       "<table border=\"1\" class=\"dataframe\">\n",
       "  <thead>\n",
       "    <tr style=\"text-align: right;\">\n",
       "      <th></th>\n",
       "      <th>event_id</th>\n",
       "      <th>timestamp</th>\n",
       "      <th>domain</th>\n",
       "      <th>event_type</th>\n",
       "      <th>data</th>\n",
       "    </tr>\n",
       "  </thead>\n",
       "  <tbody>\n",
       "    <tr>\n",
       "      <th>0</th>\n",
       "      <td>ed3ea95a-27a7-4cc2-930a-4ef3755c26e0</td>\n",
       "      <td>2022-02-13 08:24:55</td>\n",
       "      <td>account</td>\n",
       "      <td>status-change</td>\n",
       "      <td>{'id': 391724, 'old_status': 'SUSPENDED', 'new...</td>\n",
       "    </tr>\n",
       "    <tr>\n",
       "      <th>1</th>\n",
       "      <td>18ef6b8f-b11b-482a-b9d8-e8349c1879f1</td>\n",
       "      <td>2022-12-03 15:53:05</td>\n",
       "      <td>account</td>\n",
       "      <td>status-change</td>\n",
       "      <td>{'id': 996768, 'old_status': 'BLOCKED', 'new_s...</td>\n",
       "    </tr>\n",
       "    <tr>\n",
       "      <th>2</th>\n",
       "      <td>c0f0edad-0d0e-4fba-b87b-ff8c91f86231</td>\n",
       "      <td>2021-08-31 03:10:03</td>\n",
       "      <td>account</td>\n",
       "      <td>status-change</td>\n",
       "      <td>{'id': 131531, 'old_status': 'SUSPENDED', 'new...</td>\n",
       "    </tr>\n",
       "    <tr>\n",
       "      <th>3</th>\n",
       "      <td>8fc61235-29b3-4d07-af91-07b976424bd2</td>\n",
       "      <td>2023-05-03 16:24:01</td>\n",
       "      <td>transaction</td>\n",
       "      <td>status-change</td>\n",
       "      <td>{'id': 96451, 'old_status': 'INACTIVE', 'new_s...</td>\n",
       "    </tr>\n",
       "    <tr>\n",
       "      <th>4</th>\n",
       "      <td>2fac4e12-d3e9-4f77-add0-b94530bde8ed</td>\n",
       "      <td>2021-11-11 05:34:41</td>\n",
       "      <td>transaction</td>\n",
       "      <td>status-change</td>\n",
       "      <td>{'id': 263209, 'old_status': 'ACTIVE', 'new_st...</td>\n",
       "    </tr>\n",
       "    <tr>\n",
       "      <th>5</th>\n",
       "      <td>18ff76eb-dbb2-4c70-93fd-998b8bebd7bc</td>\n",
       "      <td>2022-09-20 02:36:10</td>\n",
       "      <td>account</td>\n",
       "      <td>status-change</td>\n",
       "      <td>{'id': 653657, 'old_status': 'BLOCKED', 'new_s...</td>\n",
       "    </tr>\n",
       "    <tr>\n",
       "      <th>6</th>\n",
       "      <td>b253ca06-e16c-463a-b6e4-fa596793571d</td>\n",
       "      <td>2023-07-03 14:32:05</td>\n",
       "      <td>transaction</td>\n",
       "      <td>status-change</td>\n",
       "      <td>{'id': 264737, 'old_status': 'BLOCKED', 'new_s...</td>\n",
       "    </tr>\n",
       "    <tr>\n",
       "      <th>7</th>\n",
       "      <td>6d9263fc-54b0-4dfb-ac1a-c38186492c16</td>\n",
       "      <td>2022-01-25 02:37:51</td>\n",
       "      <td>account</td>\n",
       "      <td>status-change</td>\n",
       "      <td>{'id': 563936, 'old_status': 'BLOCKED', 'new_s...</td>\n",
       "    </tr>\n",
       "    <tr>\n",
       "      <th>8</th>\n",
       "      <td>60e31da4-abeb-40f6-a566-35909d31cf83</td>\n",
       "      <td>2022-02-27 01:38:27</td>\n",
       "      <td>transaction</td>\n",
       "      <td>status-change</td>\n",
       "      <td>{'id': 86233, 'old_status': 'BLOCKED', 'new_st...</td>\n",
       "    </tr>\n",
       "    <tr>\n",
       "      <th>9</th>\n",
       "      <td>93acd235-0376-41b2-b5a2-d1dfe8e8953c</td>\n",
       "      <td>2020-12-12 14:05:24</td>\n",
       "      <td>transaction</td>\n",
       "      <td>status-change</td>\n",
       "      <td>{'id': 375147, 'old_status': 'INACTIVE', 'new_...</td>\n",
       "    </tr>\n",
       "  </tbody>\n",
       "</table>\n",
       "</div>"
      ],
      "text/plain": [
       "                               event_id           timestamp       domain  \\\n",
       "0  ed3ea95a-27a7-4cc2-930a-4ef3755c26e0 2022-02-13 08:24:55      account   \n",
       "1  18ef6b8f-b11b-482a-b9d8-e8349c1879f1 2022-12-03 15:53:05      account   \n",
       "2  c0f0edad-0d0e-4fba-b87b-ff8c91f86231 2021-08-31 03:10:03      account   \n",
       "3  8fc61235-29b3-4d07-af91-07b976424bd2 2023-05-03 16:24:01  transaction   \n",
       "4  2fac4e12-d3e9-4f77-add0-b94530bde8ed 2021-11-11 05:34:41  transaction   \n",
       "5  18ff76eb-dbb2-4c70-93fd-998b8bebd7bc 2022-09-20 02:36:10      account   \n",
       "6  b253ca06-e16c-463a-b6e4-fa596793571d 2023-07-03 14:32:05  transaction   \n",
       "7  6d9263fc-54b0-4dfb-ac1a-c38186492c16 2022-01-25 02:37:51      account   \n",
       "8  60e31da4-abeb-40f6-a566-35909d31cf83 2022-02-27 01:38:27  transaction   \n",
       "9  93acd235-0376-41b2-b5a2-d1dfe8e8953c 2020-12-12 14:05:24  transaction   \n",
       "\n",
       "      event_type                                               data  \n",
       "0  status-change  {'id': 391724, 'old_status': 'SUSPENDED', 'new...  \n",
       "1  status-change  {'id': 996768, 'old_status': 'BLOCKED', 'new_s...  \n",
       "2  status-change  {'id': 131531, 'old_status': 'SUSPENDED', 'new...  \n",
       "3  status-change  {'id': 96451, 'old_status': 'INACTIVE', 'new_s...  \n",
       "4  status-change  {'id': 263209, 'old_status': 'ACTIVE', 'new_st...  \n",
       "5  status-change  {'id': 653657, 'old_status': 'BLOCKED', 'new_s...  \n",
       "6  status-change  {'id': 264737, 'old_status': 'BLOCKED', 'new_s...  \n",
       "7  status-change  {'id': 563936, 'old_status': 'BLOCKED', 'new_s...  \n",
       "8  status-change  {'id': 86233, 'old_status': 'BLOCKED', 'new_st...  \n",
       "9  status-change  {'id': 375147, 'old_status': 'INACTIVE', 'new_...  "
      ]
     },
     "execution_count": 69,
     "metadata": {},
     "output_type": "execute_result"
    }
   ],
   "source": [
    "fake_data = pd.read_json(\"../data/input/fake_events.json\")\n",
    "fake_data"
   ]
  }
 ],
 "metadata": {
  "kernelspec": {
   "display_name": "Python 3 (ipykernel)",
   "language": "python",
   "name": "python3"
  },
  "language_info": {
   "codemirror_mode": {
    "name": "ipython",
    "version": 3
   },
   "file_extension": ".py",
   "mimetype": "text/x-python",
   "name": "python",
   "nbconvert_exporter": "python",
   "pygments_lexer": "ipython3",
   "version": "3.9.13"
  }
 },
 "nbformat": 4,
 "nbformat_minor": 5
}
