{
  "nbformat": 4,
  "nbformat_minor": 0,
  "metadata": {
    "colab": {
      "provenance": [],
      "collapsed_sections": [
        "yXufyZSDnPEX",
        "VZwsr57lwPgq",
        "eUazdCEmu_sp",
        "yTVjYqeRuxWn"
      ],
      "include_colab_link": true
    },
    "kernelspec": {
      "display_name": "Python 3",
      "language": "python",
      "name": "python3"
    },
    "language_info": {
      "codemirror_mode": {
        "name": "ipython",
        "version": 3
      },
      "file_extension": ".py",
      "mimetype": "text/x-python",
      "name": "python",
      "nbconvert_exporter": "python",
      "pygments_lexer": "ipython3",
      "version": "3.6.5"
    }
  },
  "cells": [
    {
      "cell_type": "markdown",
      "metadata": {
        "id": "view-in-github",
        "colab_type": "text"
      },
      "source": [
        "<a href=\"https://colab.research.google.com/github/eder1985/pismo_recruiting_technical_case/blob/main/work/notebooks/Colab_Pismo_Recruiting_Technical_Case.ipynb\" target=\"_parent\"><img src=\"https://colab.research.google.com/assets/colab-badge.svg\" alt=\"Open In Colab\"/></a>"
      ]
    },
    {
      "cell_type": "markdown",
      "metadata": {
        "id": "iox_ufgbqDXa"
      },
      "source": [
        "<h1><center>Pismo Recruiting Technical Case</center></h1>\n",
        "\n",
        "---\n",
        "\n"
      ]
    },
    {
      "cell_type": "markdown",
      "metadata": {
        "id": "FFnYZltvqLgt"
      },
      "source": [
        "## Objective\n",
        "The objective of this notebook is to:\n",
        "><li>Give a proper understanding about the different PySpark functions available. </li>\n",
        "><li>A short introduction to Google Colab, as that is the platform on which this notebook is written on. </li>\n",
        "\n",
        "Once you complete this notebook, you should be able to write pyspark programs in an efficent way. The ideal way to use this is by going through the examples given and then trying them on Colab. At the end there are a few hands on questions which you can use to evaluate yourself."
      ]
    },
    {
      "cell_type": "markdown",
      "source": [
        "## 1. Pre-requisites"
      ],
      "metadata": {
        "id": "JCAgeiPdnkA2"
      }
    },
    {
      "cell_type": "markdown",
      "metadata": {
        "id": "Dd6t0uFzuR4X"
      },
      "source": [
        "### Installing Spark"
      ]
    },
    {
      "cell_type": "markdown",
      "metadata": {
        "id": "6apGVff5h4ca"
      },
      "source": [
        "Install Dependencies:\n",
        "\n",
        "\n",
        "1.   Java 8\n",
        "2.   Apache Spark with hadoop and\n",
        "3.   Findspark (used to locate the spark in the system)\n"
      ]
    },
    {
      "cell_type": "code",
      "metadata": {
        "id": "tt7ZS1_wGgjn"
      },
      "source": [
        "!apt-get install openjdk-8-jdk-headless -qq > /dev/null\n",
        "!wget -q http://archive.apache.org/dist/spark/spark-3.1.1/spark-3.1.1-bin-hadoop3.2.tgz\n",
        "!tar xf spark-3.1.1-bin-hadoop3.2.tgz\n",
        "!pip install -q findspark"
      ],
      "execution_count": 24,
      "outputs": []
    },
    {
      "cell_type": "markdown",
      "metadata": {
        "id": "C3x0ZRLxjMVr"
      },
      "source": [
        "Set Environment Variables:"
      ]
    },
    {
      "cell_type": "code",
      "metadata": {
        "id": "sdOOq4twHN1K"
      },
      "source": [
        "import os\n",
        "os.environ[\"JAVA_HOME\"] = \"/usr/lib/jvm/java-8-openjdk-amd64\"\n",
        "os.environ[\"SPARK_HOME\"] = \"/content/spark-3.1.1-bin-hadoop3.2\""
      ],
      "execution_count": 25,
      "outputs": []
    },
    {
      "cell_type": "code",
      "metadata": {
        "id": "3ACYMwhgHTYz",
        "colab": {
          "base_uri": "https://localhost:8080/"
        },
        "outputId": "9346c054-ab0c-4559-b4b8-5867f1c8e071"
      },
      "source": [
        "!ls"
      ],
      "execution_count": null,
      "outputs": [
        {
          "output_type": "stream",
          "text": [
            "sample_data  spark-3.1.1-bin-hadoop3.2\tspark-3.1.1-bin-hadoop3.2.tgz\n"
          ],
          "name": "stdout"
        }
      ]
    },
    {
      "cell_type": "code",
      "metadata": {
        "id": "KR1zLBk1998Z",
        "colab": {
          "base_uri": "https://localhost:8080/",
          "height": 219
        },
        "outputId": "62cc3641-c6c4-4b8d-85f6-f05b7f1a916e"
      },
      "source": [
        "import findspark\n",
        "findspark.init()\n",
        "\n",
        "from pyspark.sql import SparkSession\n",
        "from pyspark.sql.functions import *\n",
        "\n",
        "spark = SparkSession.builder.master(\"local[*]\").getOrCreate()\n",
        "spark.conf.set(\"spark.sql.repl.eagerEval.enabled\", True) # Property used to format output tables better\n",
        "spark"
      ],
      "execution_count": 52,
      "outputs": [
        {
          "output_type": "execute_result",
          "data": {
            "text/plain": [
              "<pyspark.sql.session.SparkSession at 0x7ae568a85480>"
            ],
            "text/html": [
              "\n",
              "            <div>\n",
              "                <p><b>SparkSession - in-memory</b></p>\n",
              "                \n",
              "        <div>\n",
              "            <p><b>SparkContext</b></p>\n",
              "\n",
              "            <p><a href=\"http://3b7248297f6f:4040\">Spark UI</a></p>\n",
              "\n",
              "            <dl>\n",
              "              <dt>Version</dt>\n",
              "                <dd><code>v3.1.1</code></dd>\n",
              "              <dt>Master</dt>\n",
              "                <dd><code>local[*]</code></dd>\n",
              "              <dt>AppName</dt>\n",
              "                <dd><code>pyspark-shell</code></dd>\n",
              "            </dl>\n",
              "        </div>\n",
              "        \n",
              "            </div>\n",
              "        "
            ]
          },
          "metadata": {},
          "execution_count": 52
        }
      ]
    },
    {
      "cell_type": "markdown",
      "metadata": {
        "id": "yXufyZSDnPEX"
      },
      "source": [
        "## 2. Generate Fake Data"
      ]
    },
    {
      "cell_type": "markdown",
      "source": [
        "### Installing libs"
      ],
      "metadata": {
        "id": "lFjhBqLzopOx"
      }
    },
    {
      "cell_type": "code",
      "source": [
        "!pip install -q faker"
      ],
      "metadata": {
        "colab": {
          "base_uri": "https://localhost:8080/"
        },
        "id": "qKtqR1_EotAp",
        "outputId": "021ac0e1-8a83-486e-ac91-d77c06c4e698"
      },
      "execution_count": null,
      "outputs": [
        {
          "output_type": "stream",
          "name": "stdout",
          "text": [
            "\u001b[?25l     \u001b[90m━━━━━━━━━━━━━━━━━━━━━━━━━━━━━━━━━━━━━━━━\u001b[0m \u001b[32m0.0/1.7 MB\u001b[0m \u001b[31m?\u001b[0m eta \u001b[36m-:--:--\u001b[0m\r\u001b[2K     \u001b[91m━\u001b[0m\u001b[90m╺\u001b[0m\u001b[90m━━━━━━━━━━━━━━━━━━━━━━━━━━━━━━━━━━━━━━\u001b[0m \u001b[32m0.1/1.7 MB\u001b[0m \u001b[31m1.7 MB/s\u001b[0m eta \u001b[36m0:00:01\u001b[0m\r\u001b[2K     \u001b[91m━━━━━━━━━━━━━━━━━━━━━━━━━━━━━━━━━━━━━━━\u001b[0m\u001b[91m╸\u001b[0m \u001b[32m1.7/1.7 MB\u001b[0m \u001b[31m25.1 MB/s\u001b[0m eta \u001b[36m0:00:01\u001b[0m\r\u001b[2K     \u001b[90m━━━━━━━━━━━━━━━━━━━━━━━━━━━━━━━━━━━━━━━━\u001b[0m \u001b[32m1.7/1.7 MB\u001b[0m \u001b[31m19.3 MB/s\u001b[0m eta \u001b[36m0:00:00\u001b[0m\n",
            "\u001b[?25h"
          ]
        }
      ]
    },
    {
      "cell_type": "markdown",
      "metadata": {
        "id": "13c17833-ae7d-421d-a202-67f7bd6e15da"
      },
      "source": [
        "### Imports"
      ]
    },
    {
      "cell_type": "code",
      "execution_count": null,
      "metadata": {
        "tags": [],
        "id": "b09f623a-a917-40b2-935e-9f3418eeb5d0"
      },
      "outputs": [],
      "source": [
        "from faker import Faker\n",
        "from faker.providers import BaseProvider\n",
        "from datetime import datetime\n",
        "from json import dumps\n",
        "import pandas as pd\n",
        "import random\n",
        "import collections\n",
        "import glob\n",
        "import os"
      ]
    },
    {
      "cell_type": "markdown",
      "metadata": {
        "id": "c1271033-3194-4676-b653-7329269465bd"
      },
      "source": [
        "### Generating fake `event_id`: random UUIDs"
      ]
    },
    {
      "cell_type": "code",
      "execution_count": null,
      "metadata": {
        "id": "fbb2e109-25d6-4b7d-9a2d-b27defaf30c7",
        "outputId": "d122deb3-7fff-48c6-bae2-4b5cbde058a2",
        "colab": {
          "base_uri": "https://localhost:8080/"
        }
      },
      "outputs": [
        {
          "output_type": "stream",
          "name": "stdout",
          "text": [
            "8dfb2a88-0b16-4681-ab20-27edfe0be021\n"
          ]
        }
      ],
      "source": [
        "fake = Faker()\n",
        "Faker.seed(random.randrange(0, 99999999999999999999, 1))\n",
        "fake_event_id = fake.uuid4()\n",
        "print(fake_event_id)"
      ]
    },
    {
      "cell_type": "markdown",
      "metadata": {
        "tags": [],
        "id": "20155f18-3a4c-4ffc-ba04-cb2e68d1de4c"
      },
      "source": [
        "### Generating fake `timestamp`: random timestamps with values until 3 years ago"
      ]
    },
    {
      "cell_type": "code",
      "execution_count": null,
      "metadata": {
        "id": "05c17a17",
        "outputId": "eb2b8376-c631-46cb-98c9-704752fdc876",
        "colab": {
          "base_uri": "https://localhost:8080/"
        }
      },
      "outputs": [
        {
          "output_type": "stream",
          "name": "stdout",
          "text": [
            "2022-04-15T05:54:52\n"
          ]
        }
      ],
      "source": [
        "fake_timestamp = datetime.strftime(fake.date_time_between(start_date='-3y', end_date='now'),\"%Y-%m-%dT%H:%M:%S\")\n",
        "print(fake_timestamp)"
      ]
    },
    {
      "cell_type": "markdown",
      "metadata": {
        "tags": [],
        "id": "cf00e3d1-b80f-4f2b-80cc-1d9d38aedb62"
      },
      "source": [
        "### Generating fake `domain`: random values based on valid grade names list"
      ]
    },
    {
      "cell_type": "code",
      "execution_count": null,
      "metadata": {
        "tags": [],
        "id": "6f69aa9d-0b6b-4155-9d95-ffe79f430eb2",
        "outputId": "cc4002ac-9fa1-496b-b2a0-5dd32f6e1b8a",
        "colab": {
          "base_uri": "https://localhost:8080/"
        }
      },
      "outputs": [
        {
          "output_type": "stream",
          "name": "stdout",
          "text": [
            "account\n"
          ]
        }
      ],
      "source": [
        "class ProjectDomainProvider(BaseProvider):\n",
        "    def project_domain_name(self):\n",
        "        list_project_domain_names = ['account','transaction']\n",
        "        return random.choice(list_project_domain_names)\n",
        "\n",
        "fake.add_provider(ProjectDomainProvider)\n",
        "\n",
        "fake_project_domain_name = fake.project_domain_name()\n",
        "print(fake_project_domain_name)"
      ]
    },
    {
      "cell_type": "markdown",
      "metadata": {
        "tags": [],
        "id": "89e61378-9300-4c0e-b2a1-d548f3658d92"
      },
      "source": [
        "### Generating fake `status`: random values based on list"
      ]
    },
    {
      "cell_type": "code",
      "execution_count": null,
      "metadata": {
        "tags": [],
        "id": "38144fc2-3bdf-4cd2-aaba-f7387dc2749a",
        "outputId": "fca45751-d7a0-4c64-da14-8c204e24a33c",
        "colab": {
          "base_uri": "https://localhost:8080/"
        }
      },
      "outputs": [
        {
          "output_type": "stream",
          "name": "stdout",
          "text": [
            "SUSPENDED\n"
          ]
        }
      ],
      "source": [
        "class StatusTypeProvider(BaseProvider):\n",
        "    def status_type(self):\n",
        "        list_status_types = ['ACTIVE','INACTIVE','SUSPENDED','BLOCKED', 'DELETED']\n",
        "        return random.choice(list_status_types)\n",
        "\n",
        "fake.add_provider(StatusTypeProvider)\n",
        "\n",
        "fake_status_type = fake.status_type()\n",
        "print(fake_status_type)"
      ]
    },
    {
      "cell_type": "markdown",
      "metadata": {
        "id": "daf470cd"
      },
      "source": [
        "### Generating custom fake `uuid`: random values based on list"
      ]
    },
    {
      "cell_type": "code",
      "execution_count": 46,
      "metadata": {
        "id": "bc529de4"
      },
      "outputs": [],
      "source": [
        "class CustomUUIDProvider(BaseProvider):\n",
        "    def custom_uuid(self):\n",
        "        list_uuids = [\n",
        "            '1a1a1a1a-1a1a-1a1a-1a1a-1a1a1a1a1a1a',\n",
        "            '2b2b2b2b-2b2b-2b2b-2b2b-2b2b2b2b2b2b'\n",
        "            ]\n",
        "        return random.choice(list_uuids)"
      ]
    },
    {
      "cell_type": "markdown",
      "metadata": {
        "id": "b71c70e2-9a78-4595-84fd-0c733c652e23"
      },
      "source": [
        "### Defining `write_fake_data` and `read_fake_data` functions"
      ]
    },
    {
      "cell_type": "code",
      "execution_count": 47,
      "metadata": {
        "id": "8aeda55c"
      },
      "outputs": [],
      "source": [
        "def write_fake_data(fake, length, destination_path, unique_uuid = True):\n",
        "\n",
        "    database = []\n",
        "    current_time = datetime.now().strftime(\"%Y%m%d%H%M%S\")\n",
        "    filename = 'fake_events_'+current_time\n",
        "\n",
        "    for x in range(length):\n",
        "        uuid = fake.uuid4() if unique_uuid else fake.custom_uuid()\n",
        "        project_domain_name = fake.project_domain_name()\n",
        "        event_type = project_domain_name + \"-status-change\"\n",
        "\n",
        "        database.append(collections.OrderedDict([\n",
        "            ('event_id', uuid),\n",
        "            ('timestamp', datetime.strftime(fake.date_time_between(start_date='-3y', end_date='now'),\"%Y-%m-%dT%H:%M:%S\")),\n",
        "            ('domain', project_domain_name),\n",
        "            ('event_type', event_type),\n",
        "            ('data', collections.OrderedDict([\n",
        "                ('id', fake.random_number(digits=6)),\n",
        "                ('old_status', fake.status_type()),\n",
        "                ('new_status', fake.status_type()),\n",
        "                ('reason', fake.sentence(nb_words=5))\n",
        "            ]))\n",
        "        ]))\n",
        "\n",
        "    with open('%s%s.json' % (destination_path, filename), 'w') as output:\n",
        "        output.write(dumps(database, indent=4, sort_keys=False, default=str))\n",
        "\n",
        "    print(\"Done.\")\n",
        "\n",
        "def read_fake_data(json_filepath):\n",
        "    json_files = [os.path.normpath(i) for i in glob.glob(json_filepath)]\n",
        "    df = pd.concat([pd.read_json(f) for f in json_files])\n",
        "    return df"
      ]
    },
    {
      "cell_type": "markdown",
      "metadata": {
        "id": "7768a0c8"
      },
      "source": [
        "### Writing and reading fake data"
      ]
    },
    {
      "cell_type": "code",
      "execution_count": 67,
      "metadata": {
        "id": "82a2a3c9"
      },
      "outputs": [],
      "source": [
        "def run(unique_uuid = True):\n",
        "    fake = Faker()\n",
        "    Faker.seed(random.randrange(0, 99999999999999999999, 1))\n",
        "    fake.add_provider(ProjectDomainProvider)\n",
        "    fake.add_provider(StatusTypeProvider)\n",
        "    fake.add_provider(CustomUUIDProvider)\n",
        "\n",
        "    length = 10\n",
        "    destination_path = 'work/data/raw/events/'\n",
        "    write_fake_data(fake, length, destination_path,unique_uuid)\n",
        "\n",
        "    json_filepath = destination_path+'*.json'\n",
        "    fake_data = read_fake_data(json_filepath)\n",
        "    print(fake_data)"
      ]
    },
    {
      "cell_type": "code",
      "execution_count": 68,
      "metadata": {
        "id": "2a05df7b",
        "outputId": "c37911be-3af7-474d-8cf9-346816eddd37",
        "colab": {
          "base_uri": "https://localhost:8080/"
        }
      },
      "outputs": [
        {
          "output_type": "stream",
          "name": "stdout",
          "text": [
            "Done.\n",
            "                               event_id           timestamp       domain  \\\n",
            "0  0f74cba8-2eb8-403c-9547-9d0c3ddc3f8f 2023-01-10 00:26:49  transaction   \n",
            "1  5a23b2fe-7319-4f1d-9737-7d35920ca6e1 2021-12-08 15:34:10      account   \n",
            "2  71569876-00ff-4305-863f-e5a6434750a9 2022-10-15 11:09:04      account   \n",
            "3  8f4a0141-6211-45a1-bd2f-49135bbb0fa7 2021-07-29 20:09:22      account   \n",
            "4  47fd49c0-6b8b-4eb8-9431-93b41a6fa306 2022-03-31 15:42:51      account   \n",
            "5  5762c582-9724-43e6-9425-b9aecae58f71 2020-12-24 08:57:22  transaction   \n",
            "6  c7591dca-eef6-494f-8f87-f78bc805886f 2021-10-15 13:42:11  transaction   \n",
            "7  00422dc9-cdaf-401c-b03a-b791571f03c2 2023-03-25 13:21:06  transaction   \n",
            "8  9ee5f5d7-d4b7-4f3b-a850-dc8fb0b8718e 2023-03-16 16:41:46      account   \n",
            "9  5ae60398-6b79-44a9-843e-1fbfdddb3606 2022-08-03 21:30:26      account   \n",
            "\n",
            "                  event_type  \\\n",
            "0  transaction-status-change   \n",
            "1      account-status-change   \n",
            "2      account-status-change   \n",
            "3      account-status-change   \n",
            "4      account-status-change   \n",
            "5  transaction-status-change   \n",
            "6  transaction-status-change   \n",
            "7  transaction-status-change   \n",
            "8      account-status-change   \n",
            "9      account-status-change   \n",
            "\n",
            "                                                data  \n",
            "0  {'id': 501533, 'old_status': 'INACTIVE', 'new_...  \n",
            "1  {'id': 388045, 'old_status': 'ACTIVE', 'new_st...  \n",
            "2  {'id': 8911, 'old_status': 'BLOCKED', 'new_sta...  \n",
            "3  {'id': 232911, 'old_status': 'BLOCKED', 'new_s...  \n",
            "4  {'id': 729349, 'old_status': 'SUSPENDED', 'new...  \n",
            "5  {'id': 833291, 'old_status': 'ACTIVE', 'new_st...  \n",
            "6  {'id': 749460, 'old_status': 'BLOCKED', 'new_s...  \n",
            "7  {'id': 18328, 'old_status': 'DELETED', 'new_st...  \n",
            "8  {'id': 922809, 'old_status': 'BLOCKED', 'new_s...  \n",
            "9  {'id': 485885, 'old_status': 'SUSPENDED', 'new...  \n"
          ]
        }
      ],
      "source": [
        "run()"
      ]
    },
    {
      "cell_type": "code",
      "execution_count": 69,
      "metadata": {
        "id": "64906f56",
        "outputId": "06ea9779-8829-49fc-ff6f-7dbed740419e",
        "colab": {
          "base_uri": "https://localhost:8080/"
        }
      },
      "outputs": [
        {
          "output_type": "stream",
          "name": "stdout",
          "text": [
            "Done.\n",
            "                               event_id           timestamp       domain  \\\n",
            "0  0f74cba8-2eb8-403c-9547-9d0c3ddc3f8f 2023-01-10 00:26:49  transaction   \n",
            "1  5a23b2fe-7319-4f1d-9737-7d35920ca6e1 2021-12-08 15:34:10      account   \n",
            "2  71569876-00ff-4305-863f-e5a6434750a9 2022-10-15 11:09:04      account   \n",
            "3  8f4a0141-6211-45a1-bd2f-49135bbb0fa7 2021-07-29 20:09:22      account   \n",
            "4  47fd49c0-6b8b-4eb8-9431-93b41a6fa306 2022-03-31 15:42:51      account   \n",
            "5  5762c582-9724-43e6-9425-b9aecae58f71 2020-12-24 08:57:22  transaction   \n",
            "6  c7591dca-eef6-494f-8f87-f78bc805886f 2021-10-15 13:42:11  transaction   \n",
            "7  00422dc9-cdaf-401c-b03a-b791571f03c2 2023-03-25 13:21:06  transaction   \n",
            "8  9ee5f5d7-d4b7-4f3b-a850-dc8fb0b8718e 2023-03-16 16:41:46      account   \n",
            "9  5ae60398-6b79-44a9-843e-1fbfdddb3606 2022-08-03 21:30:26      account   \n",
            "0  1a1a1a1a-1a1a-1a1a-1a1a-1a1a1a1a1a1a 2023-02-07 15:19:35  transaction   \n",
            "1  1a1a1a1a-1a1a-1a1a-1a1a-1a1a1a1a1a1a 2021-11-11 14:16:21      account   \n",
            "2  1a1a1a1a-1a1a-1a1a-1a1a-1a1a1a1a1a1a 2020-08-08 18:54:25      account   \n",
            "3  1a1a1a1a-1a1a-1a1a-1a1a-1a1a1a1a1a1a 2020-10-23 13:48:11  transaction   \n",
            "4  1a1a1a1a-1a1a-1a1a-1a1a-1a1a1a1a1a1a 2022-10-12 11:21:23      account   \n",
            "5  2b2b2b2b-2b2b-2b2b-2b2b-2b2b2b2b2b2b 2023-03-19 11:34:53  transaction   \n",
            "6  2b2b2b2b-2b2b-2b2b-2b2b-2b2b2b2b2b2b 2023-04-07 13:52:39      account   \n",
            "7  1a1a1a1a-1a1a-1a1a-1a1a-1a1a1a1a1a1a 2022-10-02 23:09:43  transaction   \n",
            "8  1a1a1a1a-1a1a-1a1a-1a1a-1a1a1a1a1a1a 2022-05-05 08:58:39  transaction   \n",
            "9  2b2b2b2b-2b2b-2b2b-2b2b-2b2b2b2b2b2b 2020-08-28 16:06:26  transaction   \n",
            "\n",
            "                  event_type  \\\n",
            "0  transaction-status-change   \n",
            "1      account-status-change   \n",
            "2      account-status-change   \n",
            "3      account-status-change   \n",
            "4      account-status-change   \n",
            "5  transaction-status-change   \n",
            "6  transaction-status-change   \n",
            "7  transaction-status-change   \n",
            "8      account-status-change   \n",
            "9      account-status-change   \n",
            "0  transaction-status-change   \n",
            "1      account-status-change   \n",
            "2      account-status-change   \n",
            "3  transaction-status-change   \n",
            "4      account-status-change   \n",
            "5  transaction-status-change   \n",
            "6      account-status-change   \n",
            "7  transaction-status-change   \n",
            "8  transaction-status-change   \n",
            "9  transaction-status-change   \n",
            "\n",
            "                                                data  \n",
            "0  {'id': 501533, 'old_status': 'INACTIVE', 'new_...  \n",
            "1  {'id': 388045, 'old_status': 'ACTIVE', 'new_st...  \n",
            "2  {'id': 8911, 'old_status': 'BLOCKED', 'new_sta...  \n",
            "3  {'id': 232911, 'old_status': 'BLOCKED', 'new_s...  \n",
            "4  {'id': 729349, 'old_status': 'SUSPENDED', 'new...  \n",
            "5  {'id': 833291, 'old_status': 'ACTIVE', 'new_st...  \n",
            "6  {'id': 749460, 'old_status': 'BLOCKED', 'new_s...  \n",
            "7  {'id': 18328, 'old_status': 'DELETED', 'new_st...  \n",
            "8  {'id': 922809, 'old_status': 'BLOCKED', 'new_s...  \n",
            "9  {'id': 485885, 'old_status': 'SUSPENDED', 'new...  \n",
            "0  {'id': 524960, 'old_status': 'BLOCKED', 'new_s...  \n",
            "1  {'id': 265718, 'old_status': 'ACTIVE', 'new_st...  \n",
            "2  {'id': 455573, 'old_status': 'DELETED', 'new_s...  \n",
            "3  {'id': 990372, 'old_status': 'INACTIVE', 'new_...  \n",
            "4  {'id': 621034, 'old_status': 'DELETED', 'new_s...  \n",
            "5  {'id': 133051, 'old_status': 'DELETED', 'new_s...  \n",
            "6  {'id': 352021, 'old_status': 'ACTIVE', 'new_st...  \n",
            "7  {'id': 809720, 'old_status': 'ACTIVE', 'new_st...  \n",
            "8  {'id': 275753, 'old_status': 'DELETED', 'new_s...  \n",
            "9  {'id': 512626, 'old_status': 'INACTIVE', 'new_...  \n"
          ]
        }
      ],
      "source": [
        "run(unique_uuid = False)"
      ]
    },
    {
      "cell_type": "markdown",
      "metadata": {
        "id": "hmIqq6xPK7m7"
      },
      "source": [
        "## 3. Exploring the Dataset"
      ]
    },
    {
      "cell_type": "markdown",
      "metadata": {
        "id": "VZwsr57lwPgq"
      },
      "source": [
        "### Loading the Dataset"
      ]
    },
    {
      "cell_type": "code",
      "metadata": {
        "id": "Wpq2jYvIMOJy",
        "colab": {
          "base_uri": "https://localhost:8080/"
        },
        "outputId": "7a9a674a-91df-448b-c6f1-ca8763dd5459"
      },
      "source": [
        "!ls work/data/raw/events/ -la"
      ],
      "execution_count": 71,
      "outputs": [
        {
          "output_type": "stream",
          "name": "stdout",
          "text": [
            "total 16\n",
            "drwxr-xr-x 2 root root 4096 Jul 25 22:20 .\n",
            "drwxr-xr-x 4 root root 4096 Jul 25 22:17 ..\n",
            "-rw-r--r-- 1 root root 3776 Jul 25 22:19 fake_events_20230725221956.json\n",
            "-rw-r--r-- 1 root root 3772 Jul 25 22:20 fake_events_20230725222009.json\n"
          ]
        }
      ]
    },
    {
      "cell_type": "code",
      "metadata": {
        "id": "hz6ALr5mMqZt",
        "colab": {
          "base_uri": "https://localhost:8080/"
        },
        "outputId": "c9e495e7-cdbb-42d9-e627-aa63c84b11dd"
      },
      "source": [
        "raw_events = spark.read.option(\"multiline\",\"true\").json('work/data/raw/events/')\n",
        "raw_events.show(5, truncate = False)"
      ],
      "execution_count": 72,
      "outputs": [
        {
          "output_type": "stream",
          "name": "stdout",
          "text": [
            "+----------------------------------------------------------------+-----------+------------------------------------+-------------------------+-------------------+\n",
            "|data                                                            |domain     |event_id                            |event_type               |timestamp          |\n",
            "+----------------------------------------------------------------+-----------+------------------------------------+-------------------------+-------------------+\n",
            "|{501533, DELETED, INACTIVE, Happy store upon go say.}           |transaction|0f74cba8-2eb8-403c-9547-9d0c3ddc3f8f|transaction-status-change|2023-01-10T00:26:49|\n",
            "|{388045, SUSPENDED, ACTIVE, Be short within performance couple.}|account    |5a23b2fe-7319-4f1d-9737-7d35920ca6e1|account-status-change    |2021-12-08T15:34:10|\n",
            "|{8911, DELETED, BLOCKED, Operation enjoy billion.}              |account    |71569876-00ff-4305-863f-e5a6434750a9|account-status-change    |2022-10-15T11:09:04|\n",
            "|{232911, DELETED, BLOCKED, Father whom stand receive push off.} |account    |8f4a0141-6211-45a1-bd2f-49135bbb0fa7|account-status-change    |2021-07-29T20:09:22|\n",
            "|{729349, ACTIVE, SUSPENDED, Agree price PM.}                    |account    |47fd49c0-6b8b-4eb8-9431-93b41a6fa306|account-status-change    |2022-03-31T15:42:51|\n",
            "+----------------------------------------------------------------+-----------+------------------------------------+-------------------------+-------------------+\n",
            "only showing top 5 rows\n",
            "\n"
          ]
        }
      ]
    },
    {
      "cell_type": "markdown",
      "metadata": {
        "id": "3lfS2DhHuhPl"
      },
      "source": [
        "### Dataframe Raw Schema"
      ]
    },
    {
      "cell_type": "code",
      "metadata": {
        "id": "CCGTFlCWRPw4",
        "colab": {
          "base_uri": "https://localhost:8080/"
        },
        "outputId": "22ca169c-036d-4102-ae39-1bfeb66e4281"
      },
      "source": [
        "raw_events.printSchema()"
      ],
      "execution_count": 73,
      "outputs": [
        {
          "output_type": "stream",
          "name": "stdout",
          "text": [
            "root\n",
            " |-- data: struct (nullable = true)\n",
            " |    |-- id: long (nullable = true)\n",
            " |    |-- new_status: string (nullable = true)\n",
            " |    |-- old_status: string (nullable = true)\n",
            " |    |-- reason: string (nullable = true)\n",
            " |-- domain: string (nullable = true)\n",
            " |-- event_id: string (nullable = true)\n",
            " |-- event_type: string (nullable = true)\n",
            " |-- timestamp: string (nullable = true)\n",
            "\n"
          ]
        }
      ]
    },
    {
      "cell_type": "code",
      "source": [
        "events = raw_events\\\n",
        "  .withColumn(\"timestamp\",to_timestamp(\"timestamp\"))\\\n",
        "  .withColumn(\"day\",to_date(\"timestamp\"))"
      ],
      "metadata": {
        "id": "w3bLSJ8CDHeC"
      },
      "execution_count": 74,
      "outputs": []
    },
    {
      "cell_type": "code",
      "source": [
        "events.printSchema()"
      ],
      "metadata": {
        "colab": {
          "base_uri": "https://localhost:8080/"
        },
        "id": "bXPssEQIDUok",
        "outputId": "5cc5b19e-66bf-49fd-ae66-940ba1c8c8ac"
      },
      "execution_count": 65,
      "outputs": [
        {
          "output_type": "stream",
          "name": "stdout",
          "text": [
            "root\n",
            " |-- data: struct (nullable = true)\n",
            " |    |-- id: long (nullable = true)\n",
            " |    |-- new_status: string (nullable = true)\n",
            " |    |-- old_status: string (nullable = true)\n",
            " |    |-- reason: string (nullable = true)\n",
            " |-- domain: string (nullable = true)\n",
            " |-- event_id: string (nullable = true)\n",
            " |-- event_type: string (nullable = true)\n",
            " |-- timestamp: timestamp (nullable = true)\n",
            " |-- day: date (nullable = true)\n",
            "\n"
          ]
        }
      ]
    },
    {
      "cell_type": "code",
      "source": [
        "events \\\n",
        "  .write \\\n",
        "  .partitionBy(\"event_type\", \"day\") \\\n",
        "  .mode(\"overwrite\") \\\n",
        "  .parquet(\"work/data/trusted/events/\")"
      ],
      "metadata": {
        "id": "7mpU4oGYEeIV"
      },
      "execution_count": 75,
      "outputs": []
    },
    {
      "cell_type": "code",
      "source": [],
      "metadata": {
        "id": "qXHU7PTqJXMV"
      },
      "execution_count": null,
      "outputs": []
    }
  ]
}