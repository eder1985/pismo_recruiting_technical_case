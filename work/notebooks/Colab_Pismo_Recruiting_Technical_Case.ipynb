{
  "nbformat": 4,
  "nbformat_minor": 0,
  "metadata": {
    "colab": {
      "provenance": [],
      "collapsed_sections": [
        "yXufyZSDnPEX",
        "13c17833-ae7d-421d-a202-67f7bd6e15da",
        "c1271033-3194-4676-b653-7329269465bd",
        "20155f18-3a4c-4ffc-ba04-cb2e68d1de4c",
        "89e61378-9300-4c0e-b2a1-d548f3658d92",
        "daf470cd",
        "b8ovekGDVPXJ",
        "qDxe9aMmVayK"
      ],
      "include_colab_link": true
    },
    "kernelspec": {
      "display_name": "Python 3",
      "language": "python",
      "name": "python3"
    },
    "language_info": {
      "codemirror_mode": {
        "name": "ipython",
        "version": 3
      },
      "file_extension": ".py",
      "mimetype": "text/x-python",
      "name": "python",
      "nbconvert_exporter": "python",
      "pygments_lexer": "ipython3",
      "version": "3.6.5"
    }
  },
  "cells": [
    {
      "cell_type": "markdown",
      "metadata": {
        "id": "view-in-github",
        "colab_type": "text"
      },
      "source": [
        "<a href=\"https://colab.research.google.com/github/eder1985/pismo_recruiting_technical_case/blob/main/work/notebooks/Colab_Pismo_Recruiting_Technical_Case.ipynb\" target=\"_parent\"><img src=\"https://colab.research.google.com/assets/colab-badge.svg\" alt=\"Open In Colab\"/></a>"
      ]
    },
    {
      "cell_type": "markdown",
      "metadata": {
        "id": "iox_ufgbqDXa"
      },
      "source": [
        "<h1><center>Pismo Recruiting Technical Case</center></h1>\n",
        "\n",
        "---\n",
        "\n"
      ]
    },
    {
      "cell_type": "markdown",
      "source": [
        "## 1. Pre-requisites"
      ],
      "metadata": {
        "id": "JCAgeiPdnkA2"
      }
    },
    {
      "cell_type": "markdown",
      "metadata": {
        "id": "Dd6t0uFzuR4X"
      },
      "source": [
        "### Installing Spark"
      ]
    },
    {
      "cell_type": "markdown",
      "metadata": {
        "id": "6apGVff5h4ca"
      },
      "source": [
        "Install Dependencies:\n",
        "\n",
        "\n",
        "1.   Java 8\n",
        "2.   Apache Spark with hadoop and\n",
        "3.   Findspark (used to locate the spark in the system)\n"
      ]
    },
    {
      "cell_type": "code",
      "metadata": {
        "id": "tt7ZS1_wGgjn"
      },
      "source": [
        "!apt-get install openjdk-8-jdk-headless -qq > /dev/null\n",
        "!wget -q http://archive.apache.org/dist/spark/spark-3.1.1/spark-3.1.1-bin-hadoop3.2.tgz\n",
        "!tar xf spark-3.1.1-bin-hadoop3.2.tgz\n",
        "!pip install -q findspark"
      ],
      "execution_count": 2,
      "outputs": []
    },
    {
      "cell_type": "markdown",
      "metadata": {
        "id": "C3x0ZRLxjMVr"
      },
      "source": [
        "Set Environment Variables:"
      ]
    },
    {
      "cell_type": "code",
      "metadata": {
        "id": "sdOOq4twHN1K"
      },
      "source": [
        "import os\n",
        "os.environ[\"JAVA_HOME\"] = \"/usr/lib/jvm/java-8-openjdk-amd64\"\n",
        "os.environ[\"SPARK_HOME\"] = \"/content/spark-3.1.1-bin-hadoop3.2\""
      ],
      "execution_count": 3,
      "outputs": []
    },
    {
      "cell_type": "code",
      "metadata": {
        "id": "3ACYMwhgHTYz",
        "colab": {
          "base_uri": "https://localhost:8080/"
        },
        "outputId": "a48b5fc8-8bcd-41f8-f5a4-68b0eb930b7d"
      },
      "source": [
        "!ls"
      ],
      "execution_count": 4,
      "outputs": [
        {
          "output_type": "stream",
          "name": "stdout",
          "text": [
            "sample_data  spark-3.1.1-bin-hadoop3.2\tspark-3.1.1-bin-hadoop3.2.tgz  work\n"
          ]
        }
      ]
    },
    {
      "cell_type": "code",
      "metadata": {
        "id": "KR1zLBk1998Z",
        "colab": {
          "base_uri": "https://localhost:8080/",
          "height": 222
        },
        "outputId": "57fa51a3-97eb-49fb-b53c-5b16ca2f7cfc"
      },
      "source": [
        "import findspark\n",
        "findspark.init()\n",
        "\n",
        "from pyspark.sql import SparkSession\n",
        "from pyspark.sql.functions import *\n",
        "\n",
        "spark = SparkSession.builder.master(\"local[*]\").getOrCreate()\n",
        "spark.conf.set(\"spark.sql.repl.eagerEval.enabled\", True) # Property used to format output tables better\n",
        "spark"
      ],
      "execution_count": 5,
      "outputs": [
        {
          "output_type": "execute_result",
          "data": {
            "text/plain": [
              "<pyspark.sql.session.SparkSession at 0x7f0f701c8a30>"
            ],
            "text/html": [
              "\n",
              "            <div>\n",
              "                <p><b>SparkSession - in-memory</b></p>\n",
              "                \n",
              "        <div>\n",
              "            <p><b>SparkContext</b></p>\n",
              "\n",
              "            <p><a href=\"http://ee1295e940f9:4040\">Spark UI</a></p>\n",
              "\n",
              "            <dl>\n",
              "              <dt>Version</dt>\n",
              "                <dd><code>v3.1.1</code></dd>\n",
              "              <dt>Master</dt>\n",
              "                <dd><code>local[*]</code></dd>\n",
              "              <dt>AppName</dt>\n",
              "                <dd><code>pyspark-shell</code></dd>\n",
              "            </dl>\n",
              "        </div>\n",
              "        \n",
              "            </div>\n",
              "        "
            ]
          },
          "metadata": {},
          "execution_count": 5
        }
      ]
    },
    {
      "cell_type": "code",
      "source": [
        "!python --version"
      ],
      "metadata": {
        "id": "u60Xjw0vufwU",
        "outputId": "905cc6ac-dd03-4cb5-b5f3-0c4d9758a3d3",
        "colab": {
          "base_uri": "https://localhost:8080/"
        }
      },
      "execution_count": 6,
      "outputs": [
        {
          "output_type": "stream",
          "name": "stdout",
          "text": [
            "Python 3.10.6\n"
          ]
        }
      ]
    },
    {
      "cell_type": "markdown",
      "source": [
        "### Creating data folders"
      ],
      "metadata": {
        "id": "2FEYvFYKGANl"
      }
    },
    {
      "cell_type": "code",
      "source": [
        "!mkdir -p work/data/raw/events/\n",
        "!mkdir -p work/data/staging/events/\n",
        "!mkdir -p work/data/processed/events/\n",
        "!mkdir -p work/data/trusted/events/"
      ],
      "metadata": {
        "id": "_ipysz4fGTQm"
      },
      "execution_count": 7,
      "outputs": []
    },
    {
      "cell_type": "markdown",
      "metadata": {
        "id": "yXufyZSDnPEX"
      },
      "source": [
        "## 2. Generate Fake Data"
      ]
    },
    {
      "cell_type": "markdown",
      "source": [
        "### Installing libs"
      ],
      "metadata": {
        "id": "lFjhBqLzopOx"
      }
    },
    {
      "cell_type": "code",
      "source": [
        "!pip install -q faker"
      ],
      "metadata": {
        "colab": {
          "base_uri": "https://localhost:8080/"
        },
        "id": "qKtqR1_EotAp",
        "outputId": "2feae5c5-c003-4901-f559-f9a150b16ebf"
      },
      "execution_count": 8,
      "outputs": [
        {
          "output_type": "stream",
          "name": "stdout",
          "text": [
            "\u001b[?25l     \u001b[90m━━━━━━━━━━━━━━━━━━━━━━━━━━━━━━━━━━━━━━━━\u001b[0m \u001b[32m0.0/1.7 MB\u001b[0m \u001b[31m?\u001b[0m eta \u001b[36m-:--:--\u001b[0m\r\u001b[2K     \u001b[91m━━━━━\u001b[0m\u001b[90m╺\u001b[0m\u001b[90m━━━━━━━━━━━━━━━━━━━━━━━━━━━━━━━━━━\u001b[0m \u001b[32m0.2/1.7 MB\u001b[0m \u001b[31m6.6 MB/s\u001b[0m eta \u001b[36m0:00:01\u001b[0m\r\u001b[2K     \u001b[91m━━━━━━━━━━━━━━━━━━━━━━━━━━━━━━━━━━━━━━━\u001b[0m\u001b[91m╸\u001b[0m \u001b[32m1.7/1.7 MB\u001b[0m \u001b[31m27.3 MB/s\u001b[0m eta \u001b[36m0:00:01\u001b[0m\r\u001b[2K     \u001b[90m━━━━━━━━━━━━━━━━━━━━━━━━━━━━━━━━━━━━━━━━\u001b[0m \u001b[32m1.7/1.7 MB\u001b[0m \u001b[31m22.3 MB/s\u001b[0m eta \u001b[36m0:00:00\u001b[0m\n",
            "\u001b[?25h"
          ]
        }
      ]
    },
    {
      "cell_type": "markdown",
      "metadata": {
        "id": "13c17833-ae7d-421d-a202-67f7bd6e15da"
      },
      "source": [
        "### Imports"
      ]
    },
    {
      "cell_type": "code",
      "execution_count": 9,
      "metadata": {
        "tags": [],
        "id": "b09f623a-a917-40b2-935e-9f3418eeb5d0"
      },
      "outputs": [],
      "source": [
        "from faker import Faker\n",
        "from faker.providers import BaseProvider\n",
        "from datetime import datetime\n",
        "from json import dumps\n",
        "import pandas as pd\n",
        "import random\n",
        "import collections\n",
        "import glob\n",
        "import os"
      ]
    },
    {
      "cell_type": "markdown",
      "metadata": {
        "id": "c1271033-3194-4676-b653-7329269465bd"
      },
      "source": [
        "### Generating fake `event_id`: random UUIDs for unique and non-repeated event_id values"
      ]
    },
    {
      "cell_type": "code",
      "execution_count": 10,
      "metadata": {
        "id": "fbb2e109-25d6-4b7d-9a2d-b27defaf30c7",
        "outputId": "58cb99a8-2da1-4a5d-b3ba-a76c95569922",
        "colab": {
          "base_uri": "https://localhost:8080/"
        }
      },
      "outputs": [
        {
          "output_type": "stream",
          "name": "stdout",
          "text": [
            "dd003587-c9d9-47ae-8a7e-f3fb41c83d2b\n"
          ]
        }
      ],
      "source": [
        "fake = Faker()\n",
        "Faker.seed(random.randrange(0, 99999999999999999999, 1))\n",
        "fake_event_id = fake.uuid4()\n",
        "print(fake_event_id)"
      ]
    },
    {
      "cell_type": "markdown",
      "metadata": {
        "id": "daf470cd"
      },
      "source": [
        "### Generating custom fake `event_id`: random UUIDs for duplicate event_id scenario"
      ]
    },
    {
      "cell_type": "code",
      "execution_count": 11,
      "metadata": {
        "id": "bc529de4"
      },
      "outputs": [],
      "source": [
        "class CustomUUIDProvider(BaseProvider):\n",
        "    def custom_uuid(self):\n",
        "        list_uuids = [\n",
        "            '1a1a1a1a-1a1a-1a1a-1a1a-1a1a1a1a1a1a',\n",
        "            '2b2b2b2b-2b2b-2b2b-2b2b-2b2b2b2b2b2b',\n",
        "            '3c3c3c3c-3c3c-3c3c-3c3c-3c3c3c3c3c3c'\n",
        "            ]\n",
        "        return random.choice(list_uuids)"
      ]
    },
    {
      "cell_type": "markdown",
      "metadata": {
        "tags": [],
        "id": "20155f18-3a4c-4ffc-ba04-cb2e68d1de4c"
      },
      "source": [
        "### Generating fake `timestamp`: random timestamps with values until 3 years ago"
      ]
    },
    {
      "cell_type": "code",
      "execution_count": 12,
      "metadata": {
        "id": "05c17a17",
        "outputId": "2d1b014f-8c56-4101-b863-7afb16b8c6a8",
        "colab": {
          "base_uri": "https://localhost:8080/"
        }
      },
      "outputs": [
        {
          "output_type": "stream",
          "name": "stdout",
          "text": [
            "2023-04-28T21:39:21\n"
          ]
        }
      ],
      "source": [
        "fake_timestamp = datetime.strftime(fake.date_time_between(start_date='-3y', end_date='now'),\"%Y-%m-%dT%H:%M:%S\")\n",
        "print(fake_timestamp)"
      ]
    },
    {
      "cell_type": "markdown",
      "source": [
        "### Generating custom fake `event_type`: random values based on list\n"
      ],
      "metadata": {
        "id": "b8ovekGDVPXJ"
      }
    },
    {
      "cell_type": "code",
      "source": [
        "class EventTypeProvider(BaseProvider):\n",
        "    def event_type(self):\n",
        "        list_event_types = ['account-status-change','transaction-new-value']\n",
        "        return random.choice(list_event_types)\n",
        "\n",
        "fake.add_provider(EventTypeProvider)\n",
        "\n",
        "fake_event_type = fake.event_type()\n",
        "print(fake_event_type)"
      ],
      "metadata": {
        "colab": {
          "base_uri": "https://localhost:8080/"
        },
        "id": "tF37ArUqPIia",
        "outputId": "f94b07da-157e-486f-98df-9c42df6f36e3"
      },
      "execution_count": 13,
      "outputs": [
        {
          "output_type": "stream",
          "name": "stdout",
          "text": [
            "account-status-change\n"
          ]
        }
      ]
    },
    {
      "cell_type": "markdown",
      "metadata": {
        "tags": [],
        "id": "89e61378-9300-4c0e-b2a1-d548f3658d92"
      },
      "source": [
        "### Generating fake `status`: random values based on list"
      ]
    },
    {
      "cell_type": "code",
      "execution_count": 14,
      "metadata": {
        "tags": [],
        "id": "38144fc2-3bdf-4cd2-aaba-f7387dc2749a",
        "outputId": "19e2e0ca-daaa-455c-a94b-da7cd7208ed0",
        "colab": {
          "base_uri": "https://localhost:8080/"
        }
      },
      "outputs": [
        {
          "output_type": "stream",
          "name": "stdout",
          "text": [
            "SUSPENDED\n"
          ]
        }
      ],
      "source": [
        "class StatusTypeProvider(BaseProvider):\n",
        "    def status_type(self):\n",
        "        list_status_types = ['ACTIVE','INACTIVE','SUSPENDED','BLOCKED', 'DELETED']\n",
        "        return random.choice(list_status_types)\n",
        "\n",
        "fake.add_provider(StatusTypeProvider)\n",
        "\n",
        "fake_status_type = fake.status_type()\n",
        "print(fake_status_type)"
      ]
    },
    {
      "cell_type": "markdown",
      "source": [
        "### Generating custom fake `data`: values based on dict"
      ],
      "metadata": {
        "id": "qDxe9aMmVayK"
      }
    },
    {
      "cell_type": "code",
      "source": [
        "def custom_data(fake):\n",
        "  dict_data = {\n",
        "      \"account-status-change\": collections.OrderedDict([\n",
        "          ('id', fake.random_number(digits=6)),\n",
        "          ('old_status', fake.status_type()),\n",
        "          ('new_status', fake.status_type()),\n",
        "          ('reason', fake.sentence(nb_words=5))\n",
        "      ]),\n",
        "      \"transaction-new-value\": collections.OrderedDict([\n",
        "          ('id', fake.random_number(digits=6)),\n",
        "          ('account_orig_id', fake.random_number(digits=6)),\n",
        "          ('account_dest_id', fake.random_number(digits=6)),\n",
        "          ('amount', fake.pyfloat(positive=True)),\n",
        "          ('currency', fake.currency_code())\n",
        "      ])\n",
        "  }\n",
        "  return dict_data\n",
        "\n",
        "fake_custom_data = custom_data(fake).get(fake.event_type())\n",
        "print(fake_custom_data)"
      ],
      "metadata": {
        "colab": {
          "base_uri": "https://localhost:8080/"
        },
        "id": "VTAwzRoVI1My",
        "outputId": "2cc5bcf3-cff7-460f-bc05-57ad6ebd25bb"
      },
      "execution_count": 15,
      "outputs": [
        {
          "output_type": "stream",
          "name": "stdout",
          "text": [
            "OrderedDict([('id', 915423), ('account_orig_id', 624054), ('account_dest_id', 111988), ('amount', 8290345.63304253), ('currency', 'GIP')])\n"
          ]
        }
      ]
    },
    {
      "cell_type": "markdown",
      "metadata": {
        "id": "b71c70e2-9a78-4595-84fd-0c733c652e23"
      },
      "source": [
        "### Defining `write_fake_data` and `read_fake_data` functions"
      ]
    },
    {
      "cell_type": "code",
      "execution_count": 16,
      "metadata": {
        "id": "8aeda55c"
      },
      "outputs": [],
      "source": [
        "def write_fake_data(fake, length, destination_path, unique_uuid = True):\n",
        "\n",
        "    database = []\n",
        "    current_time = datetime.now().strftime(\"%Y%m%d%H%M%S\")\n",
        "    filename = 'fake_events_'+current_time\n",
        "\n",
        "    for x in range(length):\n",
        "        uuid = fake.uuid4() if unique_uuid else fake.custom_uuid()\n",
        "        event_type = fake.event_type()\n",
        "        project_domain_name = event_type.split('-')[0]\n",
        "\n",
        "        database.append(collections.OrderedDict([\n",
        "            ('event_id', uuid),\n",
        "            ('timestamp', datetime.strftime(fake.date_time_between(start_date='-3y', end_date='now'),\"%Y-%m-%dT%H:%M:%S\")),\n",
        "            ('domain', project_domain_name),\n",
        "            ('event_type', event_type),\n",
        "            ('data', custom_data(fake).get(event_type))\n",
        "        ]))\n",
        "\n",
        "    with open('%s%s.json' % (destination_path, filename), 'w') as output:\n",
        "        output.write(dumps(database, indent=4, sort_keys=False, default=str))\n",
        "\n",
        "    print(\"Done.\")\n",
        "\n",
        "def read_fake_data(json_filepath):\n",
        "    json_files = [os.path.normpath(i) for i in glob.glob(json_filepath)]\n",
        "    df = pd.concat([pd.read_json(f) for f in json_files])\n",
        "    return df\n",
        "\n",
        "def run(length, unique_uuid = True):\n",
        "    fake = Faker()\n",
        "    Faker.seed(random.randrange(0, 99999999999999999999, 1))\n",
        "    fake.add_provider(StatusTypeProvider)\n",
        "    fake.add_provider(CustomUUIDProvider)\n",
        "    fake.add_provider(EventTypeProvider)\n",
        "\n",
        "    destination_path = 'work/data/raw/events/'\n",
        "    write_fake_data(fake, length, destination_path,unique_uuid)\n",
        "\n",
        "    json_filepath = destination_path+'*.json'\n",
        "    fake_data = read_fake_data(json_filepath)\n",
        "    print(fake_data)"
      ]
    },
    {
      "cell_type": "markdown",
      "metadata": {
        "id": "7768a0c8"
      },
      "source": [
        "### Writing and reading fake data"
      ]
    },
    {
      "cell_type": "markdown",
      "source": [
        "> Writing json file with 1000 unique events"
      ],
      "metadata": {
        "id": "fOqjcnSDLTcG"
      }
    },
    {
      "cell_type": "code",
      "execution_count": 17,
      "metadata": {
        "id": "2a05df7b",
        "outputId": "36f446d4-0453-4659-a5cf-8a4138f19a72",
        "colab": {
          "base_uri": "https://localhost:8080/"
        }
      },
      "outputs": [
        {
          "output_type": "stream",
          "name": "stdout",
          "text": [
            "Done.\n",
            "                                 event_id           timestamp       domain  \\\n",
            "0    d7e041fc-c1be-4d39-9a70-b7d703edcc44 2022-04-05 18:08:56      account   \n",
            "1    5bf712fb-8da4-4c97-804e-3c6cf5cf32d2 2021-01-16 17:10:26  transaction   \n",
            "2    c0f5aded-0413-4f7d-8895-4d73b866c8be 2022-03-16 15:36:01      account   \n",
            "3    9cdbd576-d267-4902-a6d2-5064fecfca49 2021-12-13 10:27:59      account   \n",
            "4    8b11fb0d-6fc7-42d2-9591-d194c69868f4 2022-07-08 17:17:09      account   \n",
            "..                                    ...                 ...          ...   \n",
            "995  0e645f8c-c32f-47be-9006-9dfab3187f05 2020-11-15 23:59:01  transaction   \n",
            "996  b101430d-f5d2-46c0-a6fc-7c8643a3a153 2020-08-31 07:47:53  transaction   \n",
            "997  21c84f50-7da5-4971-8088-ca3c718dcd1f 2023-03-21 16:51:18      account   \n",
            "998  b13c3103-a682-4e47-b75f-9abbc18cbff7 2023-01-08 18:22:10  transaction   \n",
            "999  d3cf5e32-163e-4d23-8ede-5475c416dbb2 2021-03-01 00:20:05  transaction   \n",
            "\n",
            "                event_type                                               data  \n",
            "0    account-status-change  {'id': 140096, 'old_status': 'DELETED', 'new_s...  \n",
            "1    transaction-new-value  {'id': 247213, 'account_orig_id': 797264, 'acc...  \n",
            "2    account-status-change  {'id': 417243, 'old_status': 'ACTIVE', 'new_st...  \n",
            "3    account-status-change  {'id': 221633, 'old_status': 'DELETED', 'new_s...  \n",
            "4    account-status-change  {'id': 139369, 'old_status': 'DELETED', 'new_s...  \n",
            "..                     ...                                                ...  \n",
            "995  transaction-new-value  {'id': 981677, 'account_orig_id': 196817, 'acc...  \n",
            "996  transaction-new-value  {'id': 283224, 'account_orig_id': 956905, 'acc...  \n",
            "997  account-status-change  {'id': 463366, 'old_status': 'BLOCKED', 'new_s...  \n",
            "998  transaction-new-value  {'id': 415099, 'account_orig_id': 196146, 'acc...  \n",
            "999  transaction-new-value  {'id': 154021, 'account_orig_id': 600504, 'acc...  \n",
            "\n",
            "[1000 rows x 5 columns]\n"
          ]
        }
      ],
      "source": [
        "run(1000)"
      ]
    },
    {
      "cell_type": "markdown",
      "source": [
        "> Writing json file with 100 events with duplicate rows"
      ],
      "metadata": {
        "id": "FOczWQcMLQpY"
      }
    },
    {
      "cell_type": "code",
      "execution_count": 18,
      "metadata": {
        "id": "64906f56",
        "outputId": "19c124fd-0b08-4ac3-db3a-99e68fd1ba9f",
        "colab": {
          "base_uri": "https://localhost:8080/"
        }
      },
      "outputs": [
        {
          "output_type": "stream",
          "name": "stdout",
          "text": [
            "Done.\n",
            "                                event_id           timestamp       domain  \\\n",
            "0   d7e041fc-c1be-4d39-9a70-b7d703edcc44 2022-04-05 18:08:56      account   \n",
            "1   5bf712fb-8da4-4c97-804e-3c6cf5cf32d2 2021-01-16 17:10:26  transaction   \n",
            "2   c0f5aded-0413-4f7d-8895-4d73b866c8be 2022-03-16 15:36:01      account   \n",
            "3   9cdbd576-d267-4902-a6d2-5064fecfca49 2021-12-13 10:27:59      account   \n",
            "4   8b11fb0d-6fc7-42d2-9591-d194c69868f4 2022-07-08 17:17:09      account   \n",
            "..                                   ...                 ...          ...   \n",
            "95  2b2b2b2b-2b2b-2b2b-2b2b-2b2b2b2b2b2b 2021-12-27 14:26:26      account   \n",
            "96  1a1a1a1a-1a1a-1a1a-1a1a-1a1a1a1a1a1a 2023-01-18 12:39:45  transaction   \n",
            "97  1a1a1a1a-1a1a-1a1a-1a1a-1a1a1a1a1a1a 2021-09-18 16:25:49  transaction   \n",
            "98  2b2b2b2b-2b2b-2b2b-2b2b-2b2b2b2b2b2b 2022-08-30 22:23:56  transaction   \n",
            "99  3c3c3c3c-3c3c-3c3c-3c3c-3c3c3c3c3c3c 2022-10-28 09:54:09  transaction   \n",
            "\n",
            "               event_type                                               data  \n",
            "0   account-status-change  {'id': 140096, 'old_status': 'DELETED', 'new_s...  \n",
            "1   transaction-new-value  {'id': 247213, 'account_orig_id': 797264, 'acc...  \n",
            "2   account-status-change  {'id': 417243, 'old_status': 'ACTIVE', 'new_st...  \n",
            "3   account-status-change  {'id': 221633, 'old_status': 'DELETED', 'new_s...  \n",
            "4   account-status-change  {'id': 139369, 'old_status': 'DELETED', 'new_s...  \n",
            "..                    ...                                                ...  \n",
            "95  account-status-change  {'id': 908114, 'old_status': 'DELETED', 'new_s...  \n",
            "96  transaction-new-value  {'id': 231784, 'account_orig_id': 537926, 'acc...  \n",
            "97  transaction-new-value  {'id': 215286, 'account_orig_id': 823010, 'acc...  \n",
            "98  transaction-new-value  {'id': 655490, 'account_orig_id': 67224, 'acco...  \n",
            "99  transaction-new-value  {'id': 610515, 'account_orig_id': 830888, 'acc...  \n",
            "\n",
            "[1100 rows x 5 columns]\n"
          ]
        }
      ],
      "source": [
        "run(100,unique_uuid = False)"
      ]
    },
    {
      "cell_type": "markdown",
      "metadata": {
        "id": "hmIqq6xPK7m7"
      },
      "source": [
        "## 3. Raw -> Staging: Read raw json files and write parquet files into staging area"
      ]
    },
    {
      "cell_type": "markdown",
      "metadata": {
        "id": "VZwsr57lwPgq"
      },
      "source": [
        "### Steps:\n",
        "\n",
        "- List raw json files\n",
        "- Define raw_events_schema with only StringType for not lost data\n",
        "- Load raw_events dataframe\n",
        "- Write raw data into staging area in parquet format"
      ]
    },
    {
      "cell_type": "code",
      "metadata": {
        "id": "Wpq2jYvIMOJy",
        "colab": {
          "base_uri": "https://localhost:8080/"
        },
        "outputId": "6ef80cac-d2bc-406f-f930-a36546b2f1db"
      },
      "source": [
        "!ls work/data/raw/events/ -la"
      ],
      "execution_count": 19,
      "outputs": [
        {
          "output_type": "stream",
          "name": "stdout",
          "text": [
            "total 428\n",
            "drwxr-xr-x 2 root root   4096 Jul 27 20:25 .\n",
            "drwxr-xr-x 3 root root   4096 Jul 27 20:20 ..\n",
            "-rw-r--r-- 1 root root 387083 Jul 27 20:25 fake_events_20230727202516.json\n",
            "-rw-r--r-- 1 root root  38719 Jul 27 20:25 fake_events_20230727202521.json\n"
          ]
        }
      ]
    },
    {
      "cell_type": "code",
      "source": [
        "\n",
        "from pyspark.sql.types import StructType,StructField, StringType\n",
        "\n",
        "raw_events_schema = StructType([\n",
        "      StructField(\"data\",StringType(),True),\n",
        "      StructField(\"domain\",StringType(),True),\n",
        "      StructField(\"event_id\",StringType(),True),\n",
        "      StructField(\"event_type\",StringType(),True),\n",
        "      StructField(\"timestamp\",StringType(),True)\n",
        "  ])"
      ],
      "metadata": {
        "id": "omRVi0RCd_ZU"
      },
      "execution_count": 20,
      "outputs": []
    },
    {
      "cell_type": "code",
      "metadata": {
        "id": "hz6ALr5mMqZt",
        "colab": {
          "base_uri": "https://localhost:8080/"
        },
        "outputId": "79783757-4847-4ac8-d5d0-ecfd3c6207ff"
      },
      "source": [
        "raw_events = spark.read.option(\"multiline\",\"true\").schema(raw_events_schema).json('work/data/raw/events/')\n",
        "raw_events.show(5, truncate = False)"
      ],
      "execution_count": 21,
      "outputs": [
        {
          "output_type": "stream",
          "name": "stdout",
          "text": [
            "+---------------------------------------------------------------------------------------------------------+-----------+------------------------------------+---------------------+-------------------+\n",
            "|data                                                                                                     |domain     |event_id                            |event_type           |timestamp          |\n",
            "+---------------------------------------------------------------------------------------------------------+-----------+------------------------------------+---------------------+-------------------+\n",
            "|{\"id\":140096,\"old_status\":\"DELETED\",\"new_status\":\"DELETED\",\"reason\":\"Still hand card.\"}                  |account    |d7e041fc-c1be-4d39-9a70-b7d703edcc44|account-status-change|2022-04-05T18:08:56|\n",
            "|{\"id\":247213,\"account_orig_id\":797264,\"account_dest_id\":26309,\"amount\":2.17856064888852,\"currency\":\"THB\"}|transaction|5bf712fb-8da4-4c97-804e-3c6cf5cf32d2|transaction-new-value|2021-01-16T17:10:26|\n",
            "|{\"id\":417243,\"old_status\":\"ACTIVE\",\"new_status\":\"SUSPENDED\",\"reason\":\"Seat lot bit road sign pick.\"}     |account    |c0f5aded-0413-4f7d-8895-4d73b866c8be|account-status-change|2022-03-16T15:36:01|\n",
            "|{\"id\":221633,\"old_status\":\"DELETED\",\"new_status\":\"ACTIVE\",\"reason\":\"Order ask charge concern body.\"}     |account    |9cdbd576-d267-4902-a6d2-5064fecfca49|account-status-change|2021-12-13T10:27:59|\n",
            "|{\"id\":139369,\"old_status\":\"DELETED\",\"new_status\":\"BLOCKED\",\"reason\":\"Mission film rather significant.\"}  |account    |8b11fb0d-6fc7-42d2-9591-d194c69868f4|account-status-change|2022-07-08T17:17:09|\n",
            "+---------------------------------------------------------------------------------------------------------+-----------+------------------------------------+---------------------+-------------------+\n",
            "only showing top 5 rows\n",
            "\n"
          ]
        }
      ]
    },
    {
      "cell_type": "code",
      "source": [
        "raw_events.count()"
      ],
      "metadata": {
        "colab": {
          "base_uri": "https://localhost:8080/"
        },
        "id": "IhOELKOjeJ_K",
        "outputId": "ea6ca1a9-e2d1-4f04-f642-079572344b39"
      },
      "execution_count": 22,
      "outputs": [
        {
          "output_type": "execute_result",
          "data": {
            "text/plain": [
              "1100"
            ]
          },
          "metadata": {},
          "execution_count": 22
        }
      ]
    },
    {
      "cell_type": "code",
      "metadata": {
        "id": "CCGTFlCWRPw4",
        "colab": {
          "base_uri": "https://localhost:8080/"
        },
        "outputId": "6490d752-855a-4e5b-ce0b-562f4a1a4f0b"
      },
      "source": [
        "raw_events.printSchema()"
      ],
      "execution_count": 23,
      "outputs": [
        {
          "output_type": "stream",
          "name": "stdout",
          "text": [
            "root\n",
            " |-- data: string (nullable = true)\n",
            " |-- domain: string (nullable = true)\n",
            " |-- event_id: string (nullable = true)\n",
            " |-- event_type: string (nullable = true)\n",
            " |-- timestamp: string (nullable = true)\n",
            "\n"
          ]
        }
      ]
    },
    {
      "cell_type": "code",
      "source": [
        "raw_events.write \\\n",
        "    .mode(\"overwrite\") \\\n",
        "    .parquet(\"work/data/staging/events/\")"
      ],
      "metadata": {
        "id": "__bR8dndCIn9"
      },
      "execution_count": 48,
      "outputs": []
    },
    {
      "cell_type": "code",
      "source": [
        "staging_events = spark.read.parquet('work/data/staging/events/')\n",
        "staging_events.show()"
      ],
      "metadata": {
        "id": "4gnvthHAD9Vn",
        "outputId": "1a7c86b3-35ce-4313-9f45-b399fd15590e",
        "colab": {
          "base_uri": "https://localhost:8080/"
        }
      },
      "execution_count": 26,
      "outputs": [
        {
          "output_type": "stream",
          "name": "stdout",
          "text": [
            "+--------------------+-----------+--------------------+--------------------+-------------------+\n",
            "|                data|     domain|            event_id|          event_type|          timestamp|\n",
            "+--------------------+-----------+--------------------+--------------------+-------------------+\n",
            "|{\"id\":140096,\"old...|    account|d7e041fc-c1be-4d3...|account-status-ch...|2022-04-05T18:08:56|\n",
            "|{\"id\":247213,\"acc...|transaction|5bf712fb-8da4-4c9...|transaction-new-v...|2021-01-16T17:10:26|\n",
            "|{\"id\":417243,\"old...|    account|c0f5aded-0413-4f7...|account-status-ch...|2022-03-16T15:36:01|\n",
            "|{\"id\":221633,\"old...|    account|9cdbd576-d267-490...|account-status-ch...|2021-12-13T10:27:59|\n",
            "|{\"id\":139369,\"old...|    account|8b11fb0d-6fc7-42d...|account-status-ch...|2022-07-08T17:17:09|\n",
            "|{\"id\":467381,\"old...|    account|7f408e72-953d-443...|account-status-ch...|2020-12-01T14:56:19|\n",
            "|{\"id\":181151,\"acc...|transaction|f2527564-153c-4bb...|transaction-new-v...|2022-05-01T04:04:13|\n",
            "|{\"id\":63972,\"acco...|transaction|46927777-6172-4e7...|transaction-new-v...|2022-01-09T09:04:06|\n",
            "|{\"id\":826357,\"acc...|transaction|703c362f-1598-4f4...|transaction-new-v...|2021-10-13T16:15:32|\n",
            "|{\"id\":483089,\"old...|    account|c51490f4-f569-436...|account-status-ch...|2022-09-25T03:44:03|\n",
            "|{\"id\":173598,\"old...|    account|439ca1e7-c2a1-45a...|account-status-ch...|2022-09-12T13:25:36|\n",
            "|{\"id\":354470,\"old...|    account|f0d290fb-b5b0-429...|account-status-ch...|2021-06-13T07:24:16|\n",
            "|{\"id\":79294,\"acco...|transaction|557f5044-b2a9-4f6...|transaction-new-v...|2022-11-19T16:04:16|\n",
            "|{\"id\":236929,\"old...|    account|697c475a-f120-4fa...|account-status-ch...|2021-03-09T14:37:29|\n",
            "|{\"id\":979602,\"acc...|transaction|b85114e8-58a9-4c7...|transaction-new-v...|2022-03-23T02:44:32|\n",
            "|{\"id\":732776,\"old...|    account|5b0f1d1e-b4b2-4fa...|account-status-ch...|2021-10-07T06:50:57|\n",
            "|{\"id\":436636,\"acc...|transaction|b6773c1b-1221-445...|transaction-new-v...|2023-06-21T23:30:31|\n",
            "|{\"id\":848054,\"old...|    account|7d138d0d-43b3-4df...|account-status-ch...|2020-09-27T00:27:20|\n",
            "|{\"id\":120489,\"acc...|transaction|ea04aaa8-eb6f-412...|transaction-new-v...|2022-07-06T08:06:13|\n",
            "|{\"id\":478139,\"old...|    account|ffd1a411-4660-477...|account-status-ch...|2020-11-24T12:11:11|\n",
            "+--------------------+-----------+--------------------+--------------------+-------------------+\n",
            "only showing top 20 rows\n",
            "\n"
          ]
        }
      ]
    },
    {
      "cell_type": "code",
      "source": [
        "staging_events.printSchema()"
      ],
      "metadata": {
        "id": "Cl0Z_x9MEMyG",
        "outputId": "17c63a0d-7c79-4775-aab0-a654cd1ab033",
        "colab": {
          "base_uri": "https://localhost:8080/"
        }
      },
      "execution_count": 27,
      "outputs": [
        {
          "output_type": "stream",
          "name": "stdout",
          "text": [
            "root\n",
            " |-- data: string (nullable = true)\n",
            " |-- domain: string (nullable = true)\n",
            " |-- event_id: string (nullable = true)\n",
            " |-- event_type: string (nullable = true)\n",
            " |-- timestamp: string (nullable = true)\n",
            "\n"
          ]
        }
      ]
    },
    {
      "cell_type": "markdown",
      "source": [
        "## 4. Applying transformations"
      ],
      "metadata": {
        "id": "wTi73UPdNtEH"
      }
    },
    {
      "cell_type": "markdown",
      "source": [
        "### Columns `timestamp` and `day` transformations"
      ],
      "metadata": {
        "id": "ld3n1QtOOJth"
      }
    },
    {
      "cell_type": "code",
      "source": [
        "partial_events = staging_events\\\n",
        "  .withColumn(\"timestamp\",to_timestamp(\"timestamp\"))\\\n",
        "  .withColumn(\"day\",to_date(\"timestamp\"))"
      ],
      "metadata": {
        "id": "w3bLSJ8CDHeC"
      },
      "execution_count": 28,
      "outputs": []
    },
    {
      "cell_type": "code",
      "source": [
        "partial_events.printSchema()"
      ],
      "metadata": {
        "colab": {
          "base_uri": "https://localhost:8080/"
        },
        "id": "bXPssEQIDUok",
        "outputId": "eef0e02b-228c-4296-f159-426e3afe39eb"
      },
      "execution_count": 29,
      "outputs": [
        {
          "output_type": "stream",
          "name": "stdout",
          "text": [
            "root\n",
            " |-- data: string (nullable = true)\n",
            " |-- domain: string (nullable = true)\n",
            " |-- event_id: string (nullable = true)\n",
            " |-- event_type: string (nullable = true)\n",
            " |-- timestamp: timestamp (nullable = true)\n",
            " |-- day: date (nullable = true)\n",
            "\n"
          ]
        }
      ]
    },
    {
      "cell_type": "markdown",
      "source": [
        "### Drop duplicated events"
      ],
      "metadata": {
        "id": "o2YhR1zaPMPz"
      }
    },
    {
      "cell_type": "code",
      "source": [
        "from pyspark.sql.functions import countDistinct\n",
        "\n",
        "# Count\n",
        "partial_events.select(countDistinct(\"event_id\", \"event_type\").alias(\"distinct_events\")).show()\n"
      ],
      "metadata": {
        "colab": {
          "base_uri": "https://localhost:8080/"
        },
        "id": "m3CzLy3uPNTm",
        "outputId": "1d2c1b6a-0944-4ed0-f556-51c876c4d5ce"
      },
      "execution_count": 30,
      "outputs": [
        {
          "output_type": "stream",
          "name": "stdout",
          "text": [
            "+---------------+\n",
            "|distinct_events|\n",
            "+---------------+\n",
            "|           1006|\n",
            "+---------------+\n",
            "\n"
          ]
        }
      ]
    },
    {
      "cell_type": "code",
      "source": [
        "grouped_events = partial_events \\\n",
        "  .groupBy( \\\n",
        "      col(\"event_id\"), \\\n",
        "      col(\"event_type\")) \\\n",
        "  .agg( \\\n",
        "      max(col(\"timestamp\")))\n",
        "\n",
        "grouped_events.show(truncate = False)"
      ],
      "metadata": {
        "colab": {
          "base_uri": "https://localhost:8080/"
        },
        "id": "9qZgfsFaTXkz",
        "outputId": "0e3c8d78-8345-43ef-bcb2-6c32a197364f"
      },
      "execution_count": 31,
      "outputs": [
        {
          "output_type": "stream",
          "name": "stdout",
          "text": [
            "+------------------------------------+---------------------+-------------------+\n",
            "|event_id                            |event_type           |max(timestamp)     |\n",
            "+------------------------------------+---------------------+-------------------+\n",
            "|131516b4-8700-4a86-af18-cefd070e3632|transaction-new-value|2021-07-23 16:18:39|\n",
            "|0857511d-4f44-4094-9c4a-6cf757fe064d|account-status-change|2022-06-17 17:13:20|\n",
            "|55b16a54-8033-4f8d-b87a-3cedbdf24bcb|transaction-new-value|2021-07-01 05:38:41|\n",
            "|5c428b2c-33c6-4a0b-8935-c01fc135a462|account-status-change|2022-10-12 09:06:09|\n",
            "|f8c6f537-eec5-4d21-8437-2613f240a362|account-status-change|2022-07-23 07:21:58|\n",
            "|cdbb2c77-ce63-4403-9a69-d734637d1f00|account-status-change|2022-12-11 21:45:19|\n",
            "|fca646e5-eea2-4462-99d1-60e47a32196a|transaction-new-value|2021-11-30 06:25:06|\n",
            "|e7a3567e-3bbc-4699-801b-6cb21e4df87a|account-status-change|2021-07-02 16:46:38|\n",
            "|ebb249c1-0d5b-47c6-b01b-14cd272a997c|account-status-change|2022-04-25 04:38:01|\n",
            "|c267e5fc-e9f9-4bae-8245-f0e07f438de3|transaction-new-value|2023-04-04 04:43:06|\n",
            "|a33d4f00-cd7a-4185-a0c4-378bc8b64340|transaction-new-value|2021-01-11 08:22:21|\n",
            "|18e34843-a4e4-4777-be9f-bee643edfe13|account-status-change|2023-01-27 23:29:19|\n",
            "|4b25bf0a-938e-4269-98f5-86cf1d3a69d0|transaction-new-value|2022-02-25 11:12:48|\n",
            "|d7acb068-1d01-4264-b431-8a581896db1d|transaction-new-value|2020-09-22 00:19:47|\n",
            "|7e96d36c-1a14-4d02-9832-b9ac5962de82|transaction-new-value|2023-04-21 16:21:12|\n",
            "|23f3c47e-70cd-4330-abb0-c5fcbfbd173d|transaction-new-value|2022-03-06 13:18:26|\n",
            "|ac3d2254-8798-4f6f-b456-c5537cf875b6|transaction-new-value|2020-08-11 11:57:48|\n",
            "|3cfb2ba6-bc5d-4204-a753-efcaa6f20599|transaction-new-value|2020-11-26 11:17:04|\n",
            "|77c1203c-cbbf-4c27-b883-95bd4ad088ab|transaction-new-value|2023-03-25 22:19:41|\n",
            "|375d8446-064b-4f75-81f7-e4124f62ab56|transaction-new-value|2023-04-20 23:18:44|\n",
            "+------------------------------------+---------------------+-------------------+\n",
            "only showing top 20 rows\n",
            "\n"
          ]
        }
      ]
    },
    {
      "cell_type": "code",
      "source": [
        "trusted_events = grouped_events \\\n",
        "    .join(partial_events, [\"event_id\",\"event_type\"]) \\\n",
        "    .dropDuplicates([\"event_id\",\"event_type\"]) \\\n",
        "    .drop(\"timestamp\") \\\n",
        "    .withColumnRenamed(\"max(timestamp)\", \"timestamp\")\n",
        "trusted_events.show()"
      ],
      "metadata": {
        "colab": {
          "base_uri": "https://localhost:8080/"
        },
        "id": "DvCINDM_fBCH",
        "outputId": "f6ab6717-5d66-417c-ecc0-565f73a02031"
      },
      "execution_count": 32,
      "outputs": [
        {
          "output_type": "stream",
          "name": "stdout",
          "text": [
            "+--------------------+--------------------+-------------------+--------------------+-----------+----------+\n",
            "|            event_id|          event_type|          timestamp|                data|     domain|       day|\n",
            "+--------------------+--------------------+-------------------+--------------------+-----------+----------+\n",
            "|0857511d-4f44-409...|account-status-ch...|2022-06-17 17:13:20|{\"id\":400923,\"old...|    account|2022-06-17|\n",
            "|131516b4-8700-4a8...|transaction-new-v...|2021-07-23 16:18:39|{\"id\":866148,\"acc...|transaction|2021-07-23|\n",
            "|55b16a54-8033-4f8...|transaction-new-v...|2021-07-01 05:38:41|{\"id\":23589,\"acco...|transaction|2021-07-01|\n",
            "|5c428b2c-33c6-4a0...|account-status-ch...|2022-10-12 09:06:09|{\"id\":771939,\"old...|    account|2022-10-12|\n",
            "|cdbb2c77-ce63-440...|account-status-ch...|2022-12-11 21:45:19|{\"id\":302324,\"old...|    account|2022-12-11|\n",
            "|e7a3567e-3bbc-469...|account-status-ch...|2021-07-02 16:46:38|{\"id\":187466,\"old...|    account|2021-07-02|\n",
            "|f8c6f537-eec5-4d2...|account-status-ch...|2022-07-23 07:21:58|{\"id\":332205,\"old...|    account|2022-07-23|\n",
            "|fca646e5-eea2-446...|transaction-new-v...|2021-11-30 06:25:06|{\"id\":826767,\"acc...|transaction|2021-11-30|\n",
            "|a33d4f00-cd7a-418...|transaction-new-v...|2021-01-11 08:22:21|{\"id\":639813,\"acc...|transaction|2021-01-11|\n",
            "|c267e5fc-e9f9-4ba...|transaction-new-v...|2023-04-04 04:43:06|{\"id\":251571,\"acc...|transaction|2023-04-04|\n",
            "|ebb249c1-0d5b-47c...|account-status-ch...|2022-04-25 04:38:01|{\"id\":799152,\"old...|    account|2022-04-25|\n",
            "|18e34843-a4e4-477...|account-status-ch...|2023-01-27 23:29:19|{\"id\":523178,\"old...|    account|2023-01-27|\n",
            "|23f3c47e-70cd-433...|transaction-new-v...|2022-03-06 13:18:26|{\"id\":862679,\"acc...|transaction|2022-03-06|\n",
            "|4b25bf0a-938e-426...|transaction-new-v...|2022-02-25 11:12:48|{\"id\":83602,\"acco...|transaction|2022-02-25|\n",
            "|7e96d36c-1a14-4d0...|transaction-new-v...|2023-04-21 16:21:12|{\"id\":336120,\"acc...|transaction|2023-04-21|\n",
            "|ac3d2254-8798-4f6...|transaction-new-v...|2020-08-11 11:57:48|{\"id\":699857,\"acc...|transaction|2020-08-11|\n",
            "|d7acb068-1d01-426...|transaction-new-v...|2020-09-22 00:19:47|{\"id\":840631,\"acc...|transaction|2020-09-22|\n",
            "|0282eb01-b2fa-44c...|account-status-ch...|2021-05-16 07:45:53|{\"id\":681395,\"old...|    account|2021-05-16|\n",
            "|375d8446-064b-4f7...|transaction-new-v...|2023-04-20 23:18:44|{\"id\":966544,\"acc...|transaction|2023-04-20|\n",
            "|3cfb2ba6-bc5d-420...|transaction-new-v...|2020-11-26 11:17:04|{\"id\":943304,\"acc...|transaction|2020-11-26|\n",
            "+--------------------+--------------------+-------------------+--------------------+-----------+----------+\n",
            "only showing top 20 rows\n",
            "\n"
          ]
        }
      ]
    },
    {
      "cell_type": "code",
      "source": [
        "trusted_events.count()"
      ],
      "metadata": {
        "colab": {
          "base_uri": "https://localhost:8080/"
        },
        "id": "EHh4FVNra9oj",
        "outputId": "7ebcc7b6-2838-4857-9507-e2bc9e47718c"
      },
      "execution_count": 33,
      "outputs": [
        {
          "output_type": "execute_result",
          "data": {
            "text/plain": [
              "1006"
            ]
          },
          "metadata": {},
          "execution_count": 33
        }
      ]
    },
    {
      "cell_type": "markdown",
      "source": [
        "### Flatten `data` column by event-type\n",
        "\n",
        "> Each event-type has its own schema"
      ],
      "metadata": {
        "id": "C7MhyzpNiFye"
      }
    },
    {
      "cell_type": "code",
      "source": [
        "trusted_events.groupBy('event_type').agg(count(col('event_type'))).show(truncate=False)"
      ],
      "metadata": {
        "colab": {
          "base_uri": "https://localhost:8080/"
        },
        "id": "aSTpSNgZnphd",
        "outputId": "d73858ad-3ab8-4609-a6a9-8efde1e6e836"
      },
      "execution_count": 34,
      "outputs": [
        {
          "output_type": "stream",
          "name": "stdout",
          "text": [
            "+---------------------+-----------------+\n",
            "|event_type           |count(event_type)|\n",
            "+---------------------+-----------------+\n",
            "|account-status-change|515              |\n",
            "|transaction-new-value|491              |\n",
            "+---------------------+-----------------+\n",
            "\n"
          ]
        }
      ]
    },
    {
      "cell_type": "code",
      "source": [
        "def distinct_values(df, col):\n",
        "    list_distinct_values = df.select(col).distinct().toPandas()[col].to_list()\n",
        "    return list_distinct_values\n",
        "\n",
        "def flatten_df(df):\n",
        "    json_schema = spark.read.json(df.rdd.map(lambda row: row.data)).schema\n",
        "    df2 = df.withColumn(\"data\", from_json(\"data\", json_schema))\n",
        "    col1 = df2.columns\n",
        "    col1.remove(\"data\")\n",
        "    col2 = df2.select(\"data.*\").columns\n",
        "    append_str =\"data.\"\n",
        "    col3 = [append_str + val for val in col2]\n",
        "    col_list = col1 + col3\n",
        "    df3 = df2.select(*col_list).drop(\"data\")\n",
        "    return df3\n",
        "\n",
        "def write_trusted_data(df):\n",
        "    df.printSchema()\n",
        "    df.write \\\n",
        "    .partitionBy(\"event_type\", \"day\") \\\n",
        "    .mode(\"append\") \\\n",
        "    .parquet(\"work/data/trusted/events/\")"
      ],
      "metadata": {
        "id": "_h22aGoZnM9x"
      },
      "execution_count": 36,
      "outputs": []
    },
    {
      "cell_type": "markdown",
      "source": [
        "## 5. Staging -> Trusted: Write trusted/transformed data in parquet format\n",
        "\n",
        "\n",
        "\n"
      ],
      "metadata": {
        "id": "uytFlYymN3uq"
      }
    },
    {
      "cell_type": "code",
      "source": [
        "for value in distinct_values(trusted_events, 'event_type'):\n",
        "    filtered_df = trusted_events.filter(col('event_type') == value)\n",
        "    flattened_df = flatten_df(filtered_df)\n",
        "    write_trusted_data(flattened_df)"
      ],
      "metadata": {
        "colab": {
          "base_uri": "https://localhost:8080/"
        },
        "id": "7mpU4oGYEeIV",
        "outputId": "80793d3f-749e-412b-f0ba-abed9182fee1"
      },
      "execution_count": 37,
      "outputs": [
        {
          "output_type": "stream",
          "name": "stdout",
          "text": [
            "root\n",
            " |-- event_id: string (nullable = true)\n",
            " |-- event_type: string (nullable = true)\n",
            " |-- timestamp: timestamp (nullable = true)\n",
            " |-- domain: string (nullable = true)\n",
            " |-- day: date (nullable = true)\n",
            " |-- id: long (nullable = true)\n",
            " |-- new_status: string (nullable = true)\n",
            " |-- old_status: string (nullable = true)\n",
            " |-- reason: string (nullable = true)\n",
            "\n",
            "root\n",
            " |-- event_id: string (nullable = true)\n",
            " |-- event_type: string (nullable = true)\n",
            " |-- timestamp: timestamp (nullable = true)\n",
            " |-- domain: string (nullable = true)\n",
            " |-- day: date (nullable = true)\n",
            " |-- account_dest_id: long (nullable = true)\n",
            " |-- account_orig_id: long (nullable = true)\n",
            " |-- amount: double (nullable = true)\n",
            " |-- currency: string (nullable = true)\n",
            " |-- id: long (nullable = true)\n",
            "\n"
          ]
        }
      ]
    },
    {
      "cell_type": "markdown",
      "source": [
        "## 6. Read transformed data in parquet format"
      ],
      "metadata": {
        "id": "dnLQAFReSTN7"
      }
    },
    {
      "cell_type": "code",
      "source": [
        "!ls -la work/data/trusted/events/"
      ],
      "metadata": {
        "colab": {
          "base_uri": "https://localhost:8080/"
        },
        "id": "cKfCK5-e-CV_",
        "outputId": "47ea0dd8-54a0-40c1-8703-692840027ac6"
      },
      "execution_count": 38,
      "outputs": [
        {
          "output_type": "stream",
          "name": "stdout",
          "text": [
            "total 52\n",
            "drwxr-xr-x   4 root root  4096 Jul 27 20:39  .\n",
            "drwxr-xr-x   3 root root  4096 Jul 27 20:20  ..\n",
            "drwxr-xr-x 421 root root 20480 Jul 27 20:39 'event_type=account-status-change'\n",
            "drwxr-xr-x 394 root root 20480 Jul 27 20:39 'event_type=transaction-new-value'\n",
            "-rw-r--r--   1 root root     0 Jul 27 20:39  _SUCCESS\n",
            "-rw-r--r--   1 root root     8 Jul 27 20:39  ._SUCCESS.crc\n"
          ]
        }
      ]
    },
    {
      "cell_type": "code",
      "source": [
        "trusted_transaction_events = spark.read.parquet('work/data/trusted/events/event_type=transaction-new-value')\n",
        "trusted_transaction_events.show()"
      ],
      "metadata": {
        "colab": {
          "base_uri": "https://localhost:8080/"
        },
        "id": "Bt-w_lgESWi2",
        "outputId": "832961f6-4a13-40d2-c06a-2066c3429af2"
      },
      "execution_count": 39,
      "outputs": [
        {
          "output_type": "stream",
          "name": "stdout",
          "text": [
            "+--------------------+-------------------+-----------+---------------+---------------+-------------------+--------+------+----------+\n",
            "|            event_id|          timestamp|     domain|account_dest_id|account_orig_id|             amount|currency|    id|       day|\n",
            "+--------------------+-------------------+-----------+---------------+---------------+-------------------+--------+------+----------+\n",
            "|8e087607-df4b-493...|2021-05-08 01:26:15|transaction|         183270|         476985|     206949.1867367|     GMD|602324|2021-05-08|\n",
            "|13087a41-df29-474...|2022-09-03 05:18:05|transaction|         795371|         145173|     4.575345477454|     PLN|620976|2022-09-03|\n",
            "|5edcb757-4c8c-42d...|2022-09-03 09:05:12|transaction|         710084|         453984|     84628.35971386|     CUC|510148|2022-09-03|\n",
            "|7859f2d9-60b7-4c9...|2022-04-29 04:56:14|transaction|          36133|         989141| 7.47582603844621E7|     FKP|601859|2022-04-29|\n",
            "|b5cc94bc-fec4-437...|2022-06-22 11:16:13|transaction|         142971|         132195|8.32364483300835E11|     NIO|989523|2022-06-22|\n",
            "|a26d5b66-e3bc-47f...|2020-11-17 09:54:37|transaction|         436860|         815873|9.19434596259445E11|     BOB| 80686|2020-11-17|\n",
            "|efe63794-a112-452...|2020-11-17 11:48:22|transaction|         732508|         535782| 6.92258189688817E7|     NPR|515184|2020-11-17|\n",
            "|476d5a05-2bc4-439...|2020-11-17 11:09:27|transaction|         204985|          80372| 5.1737880800052E11|     BDT|979575|2020-11-17|\n",
            "|e965c0a6-88d4-410...|2022-10-04 02:01:59|transaction|         488046|         642327| 8.57800187314189E9|     BND|623165|2022-10-04|\n",
            "|27b9f2b8-6093-43e...|2021-05-27 03:59:02|transaction|         166967|         321106|     4816384.772644|     KYD|386626|2021-05-27|\n",
            "|00ab1520-b97d-44d...|2021-07-15 02:39:51|transaction|         562352|         455721|   3.20750928042583|     GYD|861942|2021-07-15|\n",
            "|a4b01054-5b1b-4d0...|2021-07-15 09:54:22|transaction|         166359|          25157|   218300.524249975|     USD|590962|2021-07-15|\n",
            "|0aad2a55-1cf3-4ff...|2023-05-08 16:28:14|transaction|         783116|          82766|    53.286344609054|     YER|793253|2023-05-08|\n",
            "|d2444e94-6ff9-440...|2021-04-26 02:14:26|transaction|         630786|         472171| 4.7023818431776E10|     BBD|734246|2021-04-26|\n",
            "|5a957600-0dc1-4b3...|2021-07-04 10:26:53|transaction|         935052|         108499|8.98483739833246E13|     DZD|778354|2021-07-04|\n",
            "|a488699c-a4d2-4a3...|2021-07-04 19:07:08|transaction|         139356|         216214|   6888908.43517578|     KGS|133363|2021-07-04|\n",
            "|00175af5-7b3b-455...|2021-07-04 08:28:56|transaction|         878120|         453432|   97100.2390981848|     IQD|746661|2021-07-04|\n",
            "|0d1aeb8e-2934-444...|2022-07-09 10:54:19|transaction|         712990|         576483|   8.06989341731E10|     CDF|915148|2022-07-09|\n",
            "|e623eaf3-4365-47a...|2022-07-09 07:16:04|transaction|         822884|         420434| 4.43314187136909E7|     SEK|112808|2022-07-09|\n",
            "|efd1898f-b1b2-49b...|2021-03-21 22:37:16|transaction|         888642|         833869|    69.864306788446|     AMD| 26100|2021-03-21|\n",
            "+--------------------+-------------------+-----------+---------------+---------------+-------------------+--------+------+----------+\n",
            "only showing top 20 rows\n",
            "\n"
          ]
        }
      ]
    },
    {
      "cell_type": "code",
      "source": [
        "trusted_transaction_events.count()"
      ],
      "metadata": {
        "colab": {
          "base_uri": "https://localhost:8080/"
        },
        "id": "cxlhPoW1Si_S",
        "outputId": "8aab0320-eccc-40a5-8281-f7205d24360e"
      },
      "execution_count": 40,
      "outputs": [
        {
          "output_type": "execute_result",
          "data": {
            "text/plain": [
              "491"
            ]
          },
          "metadata": {},
          "execution_count": 40
        }
      ]
    },
    {
      "cell_type": "code",
      "source": [
        "trusted_account_events = spark.read.parquet('work/data/trusted/events/event_type=account-status-change')\n",
        "trusted_account_events.show()"
      ],
      "metadata": {
        "colab": {
          "base_uri": "https://localhost:8080/"
        },
        "id": "l5ZPJWHB_FaC",
        "outputId": "b389dc14-9ff8-4b26-9249-b1b2ab8a7464"
      },
      "execution_count": 41,
      "outputs": [
        {
          "output_type": "stream",
          "name": "stdout",
          "text": [
            "+--------------------+-------------------+-------+------+----------+----------+--------------------+----------+\n",
            "|            event_id|          timestamp| domain|    id|new_status|old_status|              reason|       day|\n",
            "+--------------------+-------------------+-------+------+----------+----------+--------------------+----------+\n",
            "|1e80c9c4-8231-468...|2020-08-30 17:31:04|account|922386| SUSPENDED| SUSPENDED|Strategy reduce p...|2020-08-30|\n",
            "|42c4acbe-6396-423...|2022-09-07 08:32:11|account|529262| SUSPENDED| SUSPENDED|Country north sev...|2022-09-07|\n",
            "|6ed47f6d-56c0-411...|2022-03-27 11:56:45|account|326138| SUSPENDED|   BLOCKED|Letter commercial...|2022-03-27|\n",
            "|f97a4fc8-2ea6-469...|2021-04-26 10:29:52|account|134429|   BLOCKED| SUSPENDED|Manage hard movem...|2021-04-26|\n",
            "|5032ab26-2e7e-4bd...|2021-05-24 22:52:42|account| 96668|   DELETED|   BLOCKED|Garden interview ...|2021-05-24|\n",
            "|5041ff99-e471-4e4...|2021-10-07 00:45:05|account|467243|  INACTIVE|   DELETED|Performance provi...|2021-10-07|\n",
            "|044c5c3d-9dc4-485...|2023-02-02 23:18:27|account| 87550|   DELETED|    ACTIVE|Performance drug ...|2023-02-02|\n",
            "|5065b2e6-2eaf-48a...|2020-08-16 11:09:38|account|216345| SUSPENDED|  INACTIVE|Word someone dark...|2020-08-16|\n",
            "|df2ece81-5249-4a5...|2020-09-13 09:20:04|account|718212| SUSPENDED|   DELETED|Resource amount p...|2020-09-13|\n",
            "|d46c4b76-ce4c-41f...|2023-05-05 21:17:26|account|397030| SUSPENDED|   BLOCKED|Audience includin...|2023-05-05|\n",
            "|c0fa0845-35a8-480...|2022-02-04 21:12:08|account|182247|  INACTIVE|   DELETED|Art recognize are...|2022-02-04|\n",
            "|ea292260-ae5c-44e...|2021-10-01 19:24:17|account|620228|   DELETED|   BLOCKED|Audience differen...|2021-10-01|\n",
            "|d88603d8-74d2-4bc...|2023-01-07 11:52:52|account|725036|  INACTIVE| SUSPENDED|Everybody middle ...|2023-01-07|\n",
            "|8b218270-9d5b-4dd...|2021-03-07 23:01:32|account|558871|    ACTIVE|   BLOCKED|Road market democ...|2021-03-07|\n",
            "|4fb207f4-2706-477...|2023-05-14 23:18:17|account|344919| SUSPENDED|   DELETED|Government busine...|2023-05-14|\n",
            "|d78ac77a-76b6-4d4...|2023-05-14 17:21:46|account|886258|  INACTIVE|    ACTIVE|Herself magazine ...|2023-05-14|\n",
            "|f66ec6ca-ba45-4d5...|2023-07-18 08:56:29|account|873318|   BLOCKED|   BLOCKED|Pretty political ...|2023-07-18|\n",
            "|1ead92d0-135c-451...|2020-12-21 10:08:52|account|631150| SUSPENDED|   DELETED|Possible threat e...|2020-12-21|\n",
            "|7d89704d-1b14-462...|2023-02-17 09:59:37|account| 35620| SUSPENDED|  INACTIVE|Throughout move b...|2023-02-17|\n",
            "|5b1dcef3-34e8-4e6...|2021-05-26 04:29:26|account|151442|  INACTIVE|  INACTIVE|Computer arrive s...|2021-05-26|\n",
            "+--------------------+-------------------+-------+------+----------+----------+--------------------+----------+\n",
            "only showing top 20 rows\n",
            "\n"
          ]
        }
      ]
    },
    {
      "cell_type": "code",
      "source": [
        "trusted_account_events.count()"
      ],
      "metadata": {
        "colab": {
          "base_uri": "https://localhost:8080/"
        },
        "id": "iA5WDri3_dHc",
        "outputId": "ffe86b38-122b-486b-efcb-350f7477c194"
      },
      "execution_count": 42,
      "outputs": [
        {
          "output_type": "execute_result",
          "data": {
            "text/plain": [
              "515"
            ]
          },
          "metadata": {},
          "execution_count": 42
        }
      ]
    },
    {
      "cell_type": "markdown",
      "source": [
        "## 7. Move raw data to processed data folder and clean staging data"
      ],
      "metadata": {
        "id": "BkWMqFgDjOfp"
      }
    },
    {
      "cell_type": "code",
      "source": [
        "!mv work/data/raw/events/* work/data/processed/events/\n",
        "!ls work/data/processed/events/ -la"
      ],
      "metadata": {
        "colab": {
          "base_uri": "https://localhost:8080/"
        },
        "id": "bIBLhklQh_eR",
        "outputId": "45821f09-b4d5-4c79-e873-8f1cf660b6aa"
      },
      "execution_count": null,
      "outputs": [
        {
          "output_type": "stream",
          "name": "stdout",
          "text": [
            "total 428\n",
            "drwxr-xr-x 2 root root   4096 Jul 27 17:59 .\n",
            "drwxr-xr-x 3 root root   4096 Jul 27 16:28 ..\n",
            "-rw-r--r-- 1 root root 387821 Jul 27 16:28 fake_events_20230727162819.json\n",
            "-rw-r--r-- 1 root root  38965 Jul 27 16:30 fake_events_20230727163006.json\n"
          ]
        }
      ]
    },
    {
      "cell_type": "code",
      "source": [
        "!rm -rf work/data/staging/events/*\n",
        "!ls work/data/staging/events"
      ],
      "metadata": {
        "id": "wcUDiP81FahL"
      },
      "execution_count": 51,
      "outputs": []
    }
  ]
}