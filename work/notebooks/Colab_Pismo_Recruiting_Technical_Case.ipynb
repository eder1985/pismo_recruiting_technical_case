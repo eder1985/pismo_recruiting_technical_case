{
  "nbformat": 4,
  "nbformat_minor": 0,
  "metadata": {
    "colab": {
      "provenance": [],
      "collapsed_sections": [
        "JCAgeiPdnkA2",
        "Dd6t0uFzuR4X",
        "lFjhBqLzopOx",
        "13c17833-ae7d-421d-a202-67f7bd6e15da",
        "c1271033-3194-4676-b653-7329269465bd",
        "20155f18-3a4c-4ffc-ba04-cb2e68d1de4c",
        "cf00e3d1-b80f-4f2b-80cc-1d9d38aedb62",
        "89e61378-9300-4c0e-b2a1-d548f3658d92",
        "daf470cd",
        "b71c70e2-9a78-4595-84fd-0c733c652e23"
      ],
      "include_colab_link": true
    },
    "kernelspec": {
      "display_name": "Python 3",
      "language": "python",
      "name": "python3"
    },
    "language_info": {
      "codemirror_mode": {
        "name": "ipython",
        "version": 3
      },
      "file_extension": ".py",
      "mimetype": "text/x-python",
      "name": "python",
      "nbconvert_exporter": "python",
      "pygments_lexer": "ipython3",
      "version": "3.6.5"
    }
  },
  "cells": [
    {
      "cell_type": "markdown",
      "metadata": {
        "id": "view-in-github",
        "colab_type": "text"
      },
      "source": [
        "<a href=\"https://colab.research.google.com/github/eder1985/pismo_recruiting_technical_case/blob/main/work/notebooks/Colab_Pismo_Recruiting_Technical_Case.ipynb\" target=\"_parent\"><img src=\"https://colab.research.google.com/assets/colab-badge.svg\" alt=\"Open In Colab\"/></a>"
      ]
    },
    {
      "cell_type": "markdown",
      "metadata": {
        "id": "iox_ufgbqDXa"
      },
      "source": [
        "<h1><center>Pismo Recruiting Technical Case</center></h1>\n",
        "\n",
        "---\n",
        "\n"
      ]
    },
    {
      "cell_type": "markdown",
      "metadata": {
        "id": "FFnYZltvqLgt"
      },
      "source": [
        "## Objective\n",
        "The objective of this notebook is to:\n",
        "><li>Give a proper understanding about the different PySpark functions available. </li>\n",
        "><li>A short introduction to Google Colab, as that is the platform on which this notebook is written on. </li>\n",
        "\n",
        "Once you complete this notebook, you should be able to write pyspark programs in an efficent way. The ideal way to use this is by going through the examples given and then trying them on Colab. At the end there are a few hands on questions which you can use to evaluate yourself."
      ]
    },
    {
      "cell_type": "markdown",
      "source": [
        "## 1. Pre-requisites"
      ],
      "metadata": {
        "id": "JCAgeiPdnkA2"
      }
    },
    {
      "cell_type": "markdown",
      "metadata": {
        "id": "Dd6t0uFzuR4X"
      },
      "source": [
        "### Installing Spark"
      ]
    },
    {
      "cell_type": "markdown",
      "metadata": {
        "id": "6apGVff5h4ca"
      },
      "source": [
        "Install Dependencies:\n",
        "\n",
        "\n",
        "1.   Java 8\n",
        "2.   Apache Spark with hadoop and\n",
        "3.   Findspark (used to locate the spark in the system)\n"
      ]
    },
    {
      "cell_type": "code",
      "metadata": {
        "id": "tt7ZS1_wGgjn"
      },
      "source": [
        "!apt-get install openjdk-8-jdk-headless -qq > /dev/null\n",
        "!wget -q http://archive.apache.org/dist/spark/spark-3.1.1/spark-3.1.1-bin-hadoop3.2.tgz\n",
        "!tar xf spark-3.1.1-bin-hadoop3.2.tgz\n",
        "!pip install -q findspark"
      ],
      "execution_count": 1,
      "outputs": []
    },
    {
      "cell_type": "markdown",
      "metadata": {
        "id": "C3x0ZRLxjMVr"
      },
      "source": [
        "Set Environment Variables:"
      ]
    },
    {
      "cell_type": "code",
      "metadata": {
        "id": "sdOOq4twHN1K"
      },
      "source": [
        "import os\n",
        "os.environ[\"JAVA_HOME\"] = \"/usr/lib/jvm/java-8-openjdk-amd64\"\n",
        "os.environ[\"SPARK_HOME\"] = \"/content/spark-3.1.1-bin-hadoop3.2\""
      ],
      "execution_count": 2,
      "outputs": []
    },
    {
      "cell_type": "code",
      "metadata": {
        "id": "3ACYMwhgHTYz",
        "colab": {
          "base_uri": "https://localhost:8080/"
        },
        "outputId": "cb58bf10-050a-4274-a390-73a1f53acd4c"
      },
      "source": [
        "!ls"
      ],
      "execution_count": 3,
      "outputs": [
        {
          "output_type": "stream",
          "name": "stdout",
          "text": [
            "spark-3.1.1-bin-hadoop3.2      spark-3.1.1-bin-hadoop3.2.tgz.1\n",
            "spark-3.1.1-bin-hadoop3.2.tgz  work\n"
          ]
        }
      ]
    },
    {
      "cell_type": "code",
      "metadata": {
        "id": "KR1zLBk1998Z",
        "colab": {
          "base_uri": "https://localhost:8080/",
          "height": 0
        },
        "outputId": "abb14eea-8935-4cc3-90b6-2566796d557e"
      },
      "source": [
        "import findspark\n",
        "findspark.init()\n",
        "\n",
        "from pyspark.sql import SparkSession\n",
        "from pyspark.sql.functions import *\n",
        "\n",
        "spark = SparkSession.builder.master(\"local[*]\").getOrCreate()\n",
        "spark.conf.set(\"spark.sql.repl.eagerEval.enabled\", True) # Property used to format output tables better\n",
        "spark"
      ],
      "execution_count": 4,
      "outputs": [
        {
          "output_type": "execute_result",
          "data": {
            "text/plain": [
              "<pyspark.sql.session.SparkSession at 0x7bd6dc177a90>"
            ],
            "text/html": [
              "\n",
              "            <div>\n",
              "                <p><b>SparkSession - in-memory</b></p>\n",
              "                \n",
              "        <div>\n",
              "            <p><b>SparkContext</b></p>\n",
              "\n",
              "            <p><a href=\"http://3b7248297f6f:4040\">Spark UI</a></p>\n",
              "\n",
              "            <dl>\n",
              "              <dt>Version</dt>\n",
              "                <dd><code>v3.1.1</code></dd>\n",
              "              <dt>Master</dt>\n",
              "                <dd><code>local[*]</code></dd>\n",
              "              <dt>AppName</dt>\n",
              "                <dd><code>pyspark-shell</code></dd>\n",
              "            </dl>\n",
              "        </div>\n",
              "        \n",
              "            </div>\n",
              "        "
            ]
          },
          "metadata": {},
          "execution_count": 4
        }
      ]
    },
    {
      "cell_type": "markdown",
      "metadata": {
        "id": "yXufyZSDnPEX"
      },
      "source": [
        "## 2. Generate Fake Data"
      ]
    },
    {
      "cell_type": "markdown",
      "source": [
        "### Installing libs"
      ],
      "metadata": {
        "id": "lFjhBqLzopOx"
      }
    },
    {
      "cell_type": "code",
      "source": [
        "!pip install -q faker"
      ],
      "metadata": {
        "id": "qKtqR1_EotAp"
      },
      "execution_count": 5,
      "outputs": []
    },
    {
      "cell_type": "markdown",
      "metadata": {
        "id": "13c17833-ae7d-421d-a202-67f7bd6e15da"
      },
      "source": [
        "### Imports"
      ]
    },
    {
      "cell_type": "code",
      "execution_count": 6,
      "metadata": {
        "tags": [],
        "id": "b09f623a-a917-40b2-935e-9f3418eeb5d0"
      },
      "outputs": [],
      "source": [
        "from faker import Faker\n",
        "from faker.providers import BaseProvider\n",
        "from datetime import datetime\n",
        "from json import dumps\n",
        "import pandas as pd\n",
        "import random\n",
        "import collections\n",
        "import glob\n",
        "import os"
      ]
    },
    {
      "cell_type": "markdown",
      "metadata": {
        "id": "c1271033-3194-4676-b653-7329269465bd"
      },
      "source": [
        "### Generating fake `event_id`: random UUIDs"
      ]
    },
    {
      "cell_type": "code",
      "execution_count": 7,
      "metadata": {
        "id": "fbb2e109-25d6-4b7d-9a2d-b27defaf30c7",
        "outputId": "ddd35481-f611-4c65-bfb2-07e0e298f566",
        "colab": {
          "base_uri": "https://localhost:8080/"
        }
      },
      "outputs": [
        {
          "output_type": "stream",
          "name": "stdout",
          "text": [
            "2f6f1dbb-e7fd-4e89-ad09-8c63a74d1337\n"
          ]
        }
      ],
      "source": [
        "fake = Faker()\n",
        "Faker.seed(random.randrange(0, 99999999999999999999, 1))\n",
        "fake_event_id = fake.uuid4()\n",
        "print(fake_event_id)"
      ]
    },
    {
      "cell_type": "markdown",
      "metadata": {
        "tags": [],
        "id": "20155f18-3a4c-4ffc-ba04-cb2e68d1de4c"
      },
      "source": [
        "### Generating fake `timestamp`: random timestamps with values until 3 years ago"
      ]
    },
    {
      "cell_type": "code",
      "execution_count": 8,
      "metadata": {
        "id": "05c17a17",
        "outputId": "5493e6e1-bade-4fda-f6ff-e572e564eabf",
        "colab": {
          "base_uri": "https://localhost:8080/"
        }
      },
      "outputs": [
        {
          "output_type": "stream",
          "name": "stdout",
          "text": [
            "2022-12-14T07:19:07\n"
          ]
        }
      ],
      "source": [
        "fake_timestamp = datetime.strftime(fake.date_time_between(start_date='-3y', end_date='now'),\"%Y-%m-%dT%H:%M:%S\")\n",
        "print(fake_timestamp)"
      ]
    },
    {
      "cell_type": "markdown",
      "metadata": {
        "tags": [],
        "id": "cf00e3d1-b80f-4f2b-80cc-1d9d38aedb62"
      },
      "source": [
        "### Generating fake `domain`: random values based on valid grade names list"
      ]
    },
    {
      "cell_type": "code",
      "execution_count": 9,
      "metadata": {
        "tags": [],
        "id": "6f69aa9d-0b6b-4155-9d95-ffe79f430eb2",
        "outputId": "72cbe74e-657f-40bd-f8b5-f76327e74d2b",
        "colab": {
          "base_uri": "https://localhost:8080/"
        }
      },
      "outputs": [
        {
          "output_type": "stream",
          "name": "stdout",
          "text": [
            "transaction\n"
          ]
        }
      ],
      "source": [
        "class ProjectDomainProvider(BaseProvider):\n",
        "    def project_domain_name(self):\n",
        "        list_project_domain_names = ['account','transaction']\n",
        "        return random.choice(list_project_domain_names)\n",
        "\n",
        "fake.add_provider(ProjectDomainProvider)\n",
        "\n",
        "fake_project_domain_name = fake.project_domain_name()\n",
        "print(fake_project_domain_name)"
      ]
    },
    {
      "cell_type": "markdown",
      "metadata": {
        "tags": [],
        "id": "89e61378-9300-4c0e-b2a1-d548f3658d92"
      },
      "source": [
        "### Generating fake `status`: random values based on list"
      ]
    },
    {
      "cell_type": "code",
      "execution_count": 10,
      "metadata": {
        "tags": [],
        "id": "38144fc2-3bdf-4cd2-aaba-f7387dc2749a",
        "outputId": "b61e1157-c3f3-4085-f25c-c5d4d33181ad",
        "colab": {
          "base_uri": "https://localhost:8080/"
        }
      },
      "outputs": [
        {
          "output_type": "stream",
          "name": "stdout",
          "text": [
            "DELETED\n"
          ]
        }
      ],
      "source": [
        "class StatusTypeProvider(BaseProvider):\n",
        "    def status_type(self):\n",
        "        list_status_types = ['ACTIVE','INACTIVE','SUSPENDED','BLOCKED', 'DELETED']\n",
        "        return random.choice(list_status_types)\n",
        "\n",
        "fake.add_provider(StatusTypeProvider)\n",
        "\n",
        "fake_status_type = fake.status_type()\n",
        "print(fake_status_type)"
      ]
    },
    {
      "cell_type": "markdown",
      "metadata": {
        "id": "daf470cd"
      },
      "source": [
        "### Generating custom fake `uuid`: random values based on list"
      ]
    },
    {
      "cell_type": "code",
      "execution_count": 11,
      "metadata": {
        "id": "bc529de4"
      },
      "outputs": [],
      "source": [
        "class CustomUUIDProvider(BaseProvider):\n",
        "    def custom_uuid(self):\n",
        "        list_uuids = [\n",
        "            '1a1a1a1a-1a1a-1a1a-1a1a-1a1a1a1a1a1a',\n",
        "            '2b2b2b2b-2b2b-2b2b-2b2b-2b2b2b2b2b2b'\n",
        "            ]\n",
        "        return random.choice(list_uuids)"
      ]
    },
    {
      "cell_type": "markdown",
      "metadata": {
        "id": "b71c70e2-9a78-4595-84fd-0c733c652e23"
      },
      "source": [
        "### Defining `write_fake_data` and `read_fake_data` functions"
      ]
    },
    {
      "cell_type": "code",
      "execution_count": 12,
      "metadata": {
        "id": "8aeda55c"
      },
      "outputs": [],
      "source": [
        "def write_fake_data(fake, length, destination_path, unique_uuid = True):\n",
        "\n",
        "    database = []\n",
        "    current_time = datetime.now().strftime(\"%Y%m%d%H%M%S\")\n",
        "    filename = 'fake_events_'+current_time\n",
        "\n",
        "    for x in range(length):\n",
        "        uuid = fake.uuid4() if unique_uuid else fake.custom_uuid()\n",
        "        project_domain_name = fake.project_domain_name()\n",
        "        event_type = project_domain_name + \"-status-change\"\n",
        "\n",
        "        database.append(collections.OrderedDict([\n",
        "            ('event_id', uuid),\n",
        "            ('timestamp', datetime.strftime(fake.date_time_between(start_date='-3y', end_date='now'),\"%Y-%m-%dT%H:%M:%S\")),\n",
        "            ('domain', project_domain_name),\n",
        "            ('event_type', event_type),\n",
        "            ('data', collections.OrderedDict([\n",
        "                ('id', fake.random_number(digits=6)),\n",
        "                ('old_status', fake.status_type()),\n",
        "                ('new_status', fake.status_type()),\n",
        "                ('reason', fake.sentence(nb_words=5))\n",
        "            ]))\n",
        "        ]))\n",
        "\n",
        "    with open('%s%s.json' % (destination_path, filename), 'w') as output:\n",
        "        output.write(dumps(database, indent=4, sort_keys=False, default=str))\n",
        "\n",
        "    print(\"Done.\")\n",
        "\n",
        "def read_fake_data(json_filepath):\n",
        "    json_files = [os.path.normpath(i) for i in glob.glob(json_filepath)]\n",
        "    df = pd.concat([pd.read_json(f) for f in json_files])\n",
        "    return df"
      ]
    },
    {
      "cell_type": "markdown",
      "metadata": {
        "id": "7768a0c8"
      },
      "source": [
        "### Writing and reading fake data"
      ]
    },
    {
      "cell_type": "code",
      "execution_count": 29,
      "metadata": {
        "id": "82a2a3c9"
      },
      "outputs": [],
      "source": [
        "def run(length, unique_uuid = True):\n",
        "    fake = Faker()\n",
        "    Faker.seed(random.randrange(0, 99999999999999999999, 1))\n",
        "    fake.add_provider(ProjectDomainProvider)\n",
        "    fake.add_provider(StatusTypeProvider)\n",
        "    fake.add_provider(CustomUUIDProvider)\n",
        "\n",
        "    destination_path = 'work/data/raw/events/'\n",
        "    write_fake_data(fake, length, destination_path,unique_uuid)\n",
        "\n",
        "    json_filepath = destination_path+'*.json'\n",
        "    fake_data = read_fake_data(json_filepath)\n",
        "    print(fake_data)"
      ]
    },
    {
      "cell_type": "code",
      "execution_count": 49,
      "metadata": {
        "id": "2a05df7b",
        "outputId": "68c99f08-5e9e-486c-ffd6-24222ecd6acb",
        "colab": {
          "base_uri": "https://localhost:8080/"
        }
      },
      "outputs": [
        {
          "output_type": "stream",
          "name": "stdout",
          "text": [
            "Done.\n",
            "                                 event_id           timestamp       domain  \\\n",
            "0    5d77f0a4-5af2-4587-a04d-5e50d9eb4d20 2023-01-23 17:43:37  transaction   \n",
            "1    2ebdfa9c-d092-4800-a212-aefdf67902ff 2022-03-04 16:00:23      account   \n",
            "2    27830434-a676-40f6-813a-6e7fd0013700 2021-04-09 03:09:48  transaction   \n",
            "3    2d6cbae0-86b5-4627-9197-87052e1ab292 2023-05-30 05:10:22      account   \n",
            "4    39d6d799-c4ff-4743-b8cd-42efe2983f41 2021-09-08 13:52:59  transaction   \n",
            "..                                    ...                 ...          ...   \n",
            "995  59fa4d5a-e9a6-4739-9227-ceafdef68878 2020-08-08 14:48:57  transaction   \n",
            "996  5e019632-9a37-4e30-a860-d1c08cc64bea 2020-12-03 04:27:24  transaction   \n",
            "997  72e294c1-789d-4c36-8034-8ecd62530fd1 2022-03-30 20:31:34  transaction   \n",
            "998  b0c3ada9-9334-40a0-9ef3-fef33da40f6a 2023-07-20 08:33:16      account   \n",
            "999  39c78a50-71a3-43cd-8526-8bbf378ef671 2023-01-02 08:11:42      account   \n",
            "\n",
            "                    event_type  \\\n",
            "0    transaction-status-change   \n",
            "1        account-status-change   \n",
            "2    transaction-status-change   \n",
            "3        account-status-change   \n",
            "4    transaction-status-change   \n",
            "..                         ...   \n",
            "995  transaction-status-change   \n",
            "996  transaction-status-change   \n",
            "997  transaction-status-change   \n",
            "998      account-status-change   \n",
            "999      account-status-change   \n",
            "\n",
            "                                                  data  \n",
            "0    {'id': 421147, 'old_status': 'SUSPENDED', 'new...  \n",
            "1    {'id': 98864, 'old_status': 'INACTIVE', 'new_s...  \n",
            "2    {'id': 971368, 'old_status': 'INACTIVE', 'new_...  \n",
            "3    {'id': 788896, 'old_status': 'SUSPENDED', 'new...  \n",
            "4    {'id': 736112, 'old_status': 'SUSPENDED', 'new...  \n",
            "..                                                 ...  \n",
            "995  {'id': 915655, 'old_status': 'ACTIVE', 'new_st...  \n",
            "996  {'id': 914086, 'old_status': 'DELETED', 'new_s...  \n",
            "997  {'id': 117990, 'old_status': 'BLOCKED', 'new_s...  \n",
            "998  {'id': 769912, 'old_status': 'ACTIVE', 'new_st...  \n",
            "999  {'id': 887011, 'old_status': 'BLOCKED', 'new_s...  \n",
            "\n",
            "[1000 rows x 5 columns]\n"
          ]
        }
      ],
      "source": [
        "run(1000)"
      ]
    },
    {
      "cell_type": "code",
      "execution_count": 50,
      "metadata": {
        "id": "64906f56",
        "outputId": "acddb874-c0df-44bd-f853-fead2e452be5",
        "colab": {
          "base_uri": "https://localhost:8080/"
        }
      },
      "outputs": [
        {
          "output_type": "stream",
          "name": "stdout",
          "text": [
            "Done.\n",
            "                                event_id           timestamp       domain  \\\n",
            "0   5d77f0a4-5af2-4587-a04d-5e50d9eb4d20 2023-01-23 17:43:37  transaction   \n",
            "1   2ebdfa9c-d092-4800-a212-aefdf67902ff 2022-03-04 16:00:23      account   \n",
            "2   27830434-a676-40f6-813a-6e7fd0013700 2021-04-09 03:09:48  transaction   \n",
            "3   2d6cbae0-86b5-4627-9197-87052e1ab292 2023-05-30 05:10:22      account   \n",
            "4   39d6d799-c4ff-4743-b8cd-42efe2983f41 2021-09-08 13:52:59  transaction   \n",
            "..                                   ...                 ...          ...   \n",
            "5   1a1a1a1a-1a1a-1a1a-1a1a-1a1a1a1a1a1a 2023-05-08 03:28:33      account   \n",
            "6   2b2b2b2b-2b2b-2b2b-2b2b-2b2b2b2b2b2b 2021-04-22 23:37:48      account   \n",
            "7   1a1a1a1a-1a1a-1a1a-1a1a-1a1a1a1a1a1a 2023-01-14 19:52:23  transaction   \n",
            "8   2b2b2b2b-2b2b-2b2b-2b2b-2b2b2b2b2b2b 2022-09-02 10:54:16  transaction   \n",
            "9   1a1a1a1a-1a1a-1a1a-1a1a-1a1a1a1a1a1a 2020-08-14 07:39:34      account   \n",
            "\n",
            "                   event_type  \\\n",
            "0   transaction-status-change   \n",
            "1       account-status-change   \n",
            "2   transaction-status-change   \n",
            "3       account-status-change   \n",
            "4   transaction-status-change   \n",
            "..                        ...   \n",
            "5       account-status-change   \n",
            "6       account-status-change   \n",
            "7   transaction-status-change   \n",
            "8   transaction-status-change   \n",
            "9       account-status-change   \n",
            "\n",
            "                                                 data  \n",
            "0   {'id': 421147, 'old_status': 'SUSPENDED', 'new...  \n",
            "1   {'id': 98864, 'old_status': 'INACTIVE', 'new_s...  \n",
            "2   {'id': 971368, 'old_status': 'INACTIVE', 'new_...  \n",
            "3   {'id': 788896, 'old_status': 'SUSPENDED', 'new...  \n",
            "4   {'id': 736112, 'old_status': 'SUSPENDED', 'new...  \n",
            "..                                                ...  \n",
            "5   {'id': 578585, 'old_status': 'ACTIVE', 'new_st...  \n",
            "6   {'id': 134247, 'old_status': 'INACTIVE', 'new_...  \n",
            "7   {'id': 446167, 'old_status': 'INACTIVE', 'new_...  \n",
            "8   {'id': 933315, 'old_status': 'INACTIVE', 'new_...  \n",
            "9   {'id': 796056, 'old_status': 'DELETED', 'new_s...  \n",
            "\n",
            "[1010 rows x 5 columns]\n"
          ]
        }
      ],
      "source": [
        "run(10,unique_uuid = False)"
      ]
    },
    {
      "cell_type": "markdown",
      "metadata": {
        "id": "hmIqq6xPK7m7"
      },
      "source": [
        "## 3. Exploring the Raw Dataset"
      ]
    },
    {
      "cell_type": "markdown",
      "metadata": {
        "id": "VZwsr57lwPgq"
      },
      "source": [
        "### Loading the Dataset"
      ]
    },
    {
      "cell_type": "code",
      "metadata": {
        "id": "Wpq2jYvIMOJy",
        "colab": {
          "base_uri": "https://localhost:8080/"
        },
        "outputId": "3668a84b-788a-4b3b-d295-19880f268d80"
      },
      "source": [
        "!ls work/data/raw/events/ -la"
      ],
      "execution_count": 51,
      "outputs": [
        {
          "output_type": "stream",
          "name": "stdout",
          "text": [
            "total 388\n",
            "drwxr-xr-x 3 root root   4096 Jul 26 00:16 .\n",
            "drwxr-xr-x 4 root root   4096 Jul 25 22:17 ..\n",
            "-rw-r--r-- 1 root root 380412 Jul 26 00:16 fake_events_20230726001616.json\n",
            "-rw-r--r-- 1 root root   3828 Jul 26 00:16 fake_events_20230726001625.json\n",
            "drwxr-xr-x 2 root root   4096 Jul 25 23:58 .ipynb_checkpoints\n"
          ]
        }
      ]
    },
    {
      "cell_type": "code",
      "metadata": {
        "id": "hz6ALr5mMqZt",
        "colab": {
          "base_uri": "https://localhost:8080/"
        },
        "outputId": "f08b4359-718b-4e42-ee24-a71230f091d8"
      },
      "source": [
        "raw_events = spark.read.option(\"multiline\",\"true\").json('work/data/raw/events/')\n",
        "raw_events.show(5, truncate = False)"
      ],
      "execution_count": 52,
      "outputs": [
        {
          "output_type": "stream",
          "name": "stdout",
          "text": [
            "+-----------------------------------------------------------------------------------+-----------+------------------------------------+-------------------------+-------------------+\n",
            "|data                                                                               |domain     |event_id                            |event_type               |timestamp          |\n",
            "+-----------------------------------------------------------------------------------+-----------+------------------------------------+-------------------------+-------------------+\n",
            "|{421147, INACTIVE, SUSPENDED, Adult hair work yes.}                                |transaction|5d77f0a4-5af2-4587-a04d-5e50d9eb4d20|transaction-status-change|2023-01-23T17:43:37|\n",
            "|{98864, ACTIVE, INACTIVE, Arrive arrive professor public sister.}                  |account    |2ebdfa9c-d092-4800-a212-aefdf67902ff|account-status-change    |2022-03-04T16:00:23|\n",
            "|{971368, SUSPENDED, INACTIVE, Child imagine assume reason appear production heart.}|transaction|27830434-a676-40f6-813a-6e7fd0013700|transaction-status-change|2021-04-09T03:09:48|\n",
            "|{788896, ACTIVE, SUSPENDED, Peace interview career.}                               |account    |2d6cbae0-86b5-4627-9197-87052e1ab292|account-status-change    |2023-05-30T05:10:22|\n",
            "|{736112, DELETED, SUSPENDED, Fall red another.}                                    |transaction|39d6d799-c4ff-4743-b8cd-42efe2983f41|transaction-status-change|2021-09-08T13:52:59|\n",
            "+-----------------------------------------------------------------------------------+-----------+------------------------------------+-------------------------+-------------------+\n",
            "only showing top 5 rows\n",
            "\n"
          ]
        }
      ]
    },
    {
      "cell_type": "code",
      "source": [
        "raw_events.count()"
      ],
      "metadata": {
        "colab": {
          "base_uri": "https://localhost:8080/"
        },
        "id": "IhOELKOjeJ_K",
        "outputId": "3f3f2ac1-c383-438f-f010-3afdcab72090"
      },
      "execution_count": 53,
      "outputs": [
        {
          "output_type": "execute_result",
          "data": {
            "text/plain": [
              "1010"
            ]
          },
          "metadata": {},
          "execution_count": 53
        }
      ]
    },
    {
      "cell_type": "markdown",
      "metadata": {
        "id": "3lfS2DhHuhPl"
      },
      "source": [
        "### Dataframe Raw Schema"
      ]
    },
    {
      "cell_type": "code",
      "metadata": {
        "id": "CCGTFlCWRPw4",
        "colab": {
          "base_uri": "https://localhost:8080/"
        },
        "outputId": "f5768995-b818-4507-8ef2-d85986ab033d"
      },
      "source": [
        "raw_events.printSchema()"
      ],
      "execution_count": 54,
      "outputs": [
        {
          "output_type": "stream",
          "name": "stdout",
          "text": [
            "root\n",
            " |-- data: struct (nullable = true)\n",
            " |    |-- id: long (nullable = true)\n",
            " |    |-- new_status: string (nullable = true)\n",
            " |    |-- old_status: string (nullable = true)\n",
            " |    |-- reason: string (nullable = true)\n",
            " |-- domain: string (nullable = true)\n",
            " |-- event_id: string (nullable = true)\n",
            " |-- event_type: string (nullable = true)\n",
            " |-- timestamp: string (nullable = true)\n",
            "\n"
          ]
        }
      ]
    },
    {
      "cell_type": "markdown",
      "source": [
        "## 4. Applying transformations"
      ],
      "metadata": {
        "id": "wTi73UPdNtEH"
      }
    },
    {
      "cell_type": "markdown",
      "source": [
        "### Columns transformations"
      ],
      "metadata": {
        "id": "ld3n1QtOOJth"
      }
    },
    {
      "cell_type": "code",
      "source": [
        "partial_events = raw_events\\\n",
        "  .withColumn(\"timestamp\",to_timestamp(\"timestamp\"))\\\n",
        "  .withColumn(\"day\",to_date(\"timestamp\"))"
      ],
      "metadata": {
        "id": "w3bLSJ8CDHeC"
      },
      "execution_count": 55,
      "outputs": []
    },
    {
      "cell_type": "code",
      "source": [
        "partial_events.printSchema()"
      ],
      "metadata": {
        "colab": {
          "base_uri": "https://localhost:8080/"
        },
        "id": "bXPssEQIDUok",
        "outputId": "a6395311-e2b6-4559-fc3e-d34461b624da"
      },
      "execution_count": 56,
      "outputs": [
        {
          "output_type": "stream",
          "name": "stdout",
          "text": [
            "root\n",
            " |-- data: struct (nullable = true)\n",
            " |    |-- id: long (nullable = true)\n",
            " |    |-- new_status: string (nullable = true)\n",
            " |    |-- old_status: string (nullable = true)\n",
            " |    |-- reason: string (nullable = true)\n",
            " |-- domain: string (nullable = true)\n",
            " |-- event_id: string (nullable = true)\n",
            " |-- event_type: string (nullable = true)\n",
            " |-- timestamp: timestamp (nullable = true)\n",
            " |-- day: date (nullable = true)\n",
            "\n"
          ]
        }
      ]
    },
    {
      "cell_type": "markdown",
      "source": [
        "### Drop duplicated events"
      ],
      "metadata": {
        "id": "o2YhR1zaPMPz"
      }
    },
    {
      "cell_type": "code",
      "source": [
        "from pyspark.sql.functions import countDistinct\n",
        "\n",
        "# Count\n",
        "partial_events.select(countDistinct(\"event_id\", \"event_type\").alias(\"distinct_events\")).show()\n"
      ],
      "metadata": {
        "colab": {
          "base_uri": "https://localhost:8080/"
        },
        "id": "m3CzLy3uPNTm",
        "outputId": "9417167c-e317-4303-eece-faf6d0dd0f58"
      },
      "execution_count": 57,
      "outputs": [
        {
          "output_type": "stream",
          "name": "stdout",
          "text": [
            "+---------------+\n",
            "|distinct_events|\n",
            "+---------------+\n",
            "|           1004|\n",
            "+---------------+\n",
            "\n"
          ]
        }
      ]
    },
    {
      "cell_type": "code",
      "source": [
        "grouped_events = partial_events \\\n",
        "  .groupBy( \\\n",
        "      col(\"event_id\"), \\\n",
        "      col(\"event_type\")) \\\n",
        "  .agg( \\\n",
        "      max(col(\"timestamp\")))\n",
        "\n",
        "grouped_events.show(truncate = False)"
      ],
      "metadata": {
        "colab": {
          "base_uri": "https://localhost:8080/"
        },
        "id": "9qZgfsFaTXkz",
        "outputId": "7460bebc-4d99-4f41-9bf3-1e3be5c75fb3"
      },
      "execution_count": 58,
      "outputs": [
        {
          "output_type": "stream",
          "name": "stdout",
          "text": [
            "+------------------------------------+-------------------------+-------------------+\n",
            "|event_id                            |event_type               |max(timestamp)     |\n",
            "+------------------------------------+-------------------------+-------------------+\n",
            "|b750ebce-ae02-4727-b13b-333534a1220d|transaction-status-change|2021-08-24 17:09:11|\n",
            "|4b1574ad-774a-4177-ae06-4a4946c3f340|transaction-status-change|2021-08-17 23:56:19|\n",
            "|417e7f61-66ca-45b9-82b8-0aba181d9e2a|transaction-status-change|2020-10-10 15:35:50|\n",
            "|1238dd32-2f13-43b9-b42c-b2e951829de2|account-status-change    |2020-10-12 21:00:03|\n",
            "|ee238ce4-038f-4ee9-94ac-fbdbec466342|account-status-change    |2020-08-15 21:11:33|\n",
            "|ea3f11c0-3d43-4669-bfe2-f8295e656b9f|transaction-status-change|2023-05-28 09:54:49|\n",
            "|f5c3b540-9cdc-451d-aad5-2de6114a5ba4|transaction-status-change|2020-10-11 23:15:38|\n",
            "|689eef58-0e19-4916-912f-84b54be65225|account-status-change    |2023-03-25 17:36:15|\n",
            "|c5f17343-cbda-4ece-b27f-361da6835e40|transaction-status-change|2020-07-26 18:07:09|\n",
            "|1eae4f2b-eec2-43d1-abb3-4efd36c3c87f|account-status-change    |2021-01-04 00:33:04|\n",
            "|e9c4eefc-6694-45d5-b20a-223a90ae096e|transaction-status-change|2020-10-29 02:13:42|\n",
            "|fb213e22-cb54-4e44-a71c-18f89319b6f5|account-status-change    |2022-05-20 08:53:14|\n",
            "|ec7ca4a9-992f-4f7d-a254-8cda4724ac5a|account-status-change    |2021-11-13 15:50:13|\n",
            "|8857d4c1-aed2-44c2-b93f-fcae193d67cd|transaction-status-change|2021-06-12 15:22:27|\n",
            "|4c10b270-e66d-4128-8bc4-a9a8bc8da4ae|transaction-status-change|2023-03-03 01:33:23|\n",
            "|7050429e-b3db-4a74-a01a-eafe79dd52b8|account-status-change    |2021-09-11 10:10:26|\n",
            "|d447d1c4-d895-4f1f-a1eb-f8af7b2fadc0|transaction-status-change|2023-01-22 20:31:47|\n",
            "|0dfc2dab-dbe9-440f-957a-d9bc0cf56d62|account-status-change    |2021-11-25 00:38:21|\n",
            "|157a0ed5-8976-4cc7-a046-37d75cfc9d43|account-status-change    |2022-08-21 01:11:06|\n",
            "|606cc134-d425-4032-9725-8424588fa83c|account-status-change    |2023-03-21 13:02:52|\n",
            "+------------------------------------+-------------------------+-------------------+\n",
            "only showing top 20 rows\n",
            "\n"
          ]
        }
      ]
    },
    {
      "cell_type": "code",
      "source": [
        "final_events = grouped_events \\\n",
        "    .join(partial_events, [\"event_id\",\"event_type\"]) \\\n",
        "    .dropDuplicates([\"event_id\",\"event_type\"]) \\\n",
        "    .drop(\"timestamp\") \\\n",
        "    .withColumnRenamed(\"max(timestamp)\", \"timestamp\")\n",
        "final_events.show()"
      ],
      "metadata": {
        "colab": {
          "base_uri": "https://localhost:8080/"
        },
        "id": "DvCINDM_fBCH",
        "outputId": "02b88781-ec4a-448b-800f-5b6ffad27c82"
      },
      "execution_count": 59,
      "outputs": [
        {
          "output_type": "stream",
          "name": "stdout",
          "text": [
            "+--------------------+--------------------+-------------------+--------------------+-----------+----------+\n",
            "|            event_id|          event_type|          timestamp|                data|     domain|       day|\n",
            "+--------------------+--------------------+-------------------+--------------------+-----------+----------+\n",
            "|1238dd32-2f13-43b...|account-status-ch...|2020-10-12 21:00:03|{45209, INACTIVE,...|    account|2020-10-12|\n",
            "|417e7f61-66ca-45b...|transaction-statu...|2020-10-10 15:35:50|{464860, BLOCKED,...|transaction|2020-10-10|\n",
            "|4b1574ad-774a-417...|transaction-statu...|2021-08-17 23:56:19|{401625, INACTIVE...|transaction|2021-08-17|\n",
            "|b750ebce-ae02-472...|transaction-statu...|2021-08-24 17:09:11|{509826, BLOCKED,...|transaction|2021-08-24|\n",
            "|ea3f11c0-3d43-466...|transaction-statu...|2023-05-28 09:54:49|{124172, INACTIVE...|transaction|2023-05-28|\n",
            "|ee238ce4-038f-4ee...|account-status-ch...|2020-08-15 21:11:33|{273015, DELETED,...|    account|2020-08-15|\n",
            "|1eae4f2b-eec2-43d...|account-status-ch...|2021-01-04 00:33:04|{786187, SUSPENDE...|    account|2021-01-04|\n",
            "|689eef58-0e19-491...|account-status-ch...|2023-03-25 17:36:15|{441843, INACTIVE...|    account|2023-03-25|\n",
            "|c5f17343-cbda-4ec...|transaction-statu...|2020-07-26 18:07:09|{867863, ACTIVE, ...|transaction|2020-07-26|\n",
            "|f5c3b540-9cdc-451...|transaction-statu...|2020-10-11 23:15:38|{372839, SUSPENDE...|transaction|2020-10-11|\n",
            "|4c10b270-e66d-412...|transaction-statu...|2023-03-03 01:33:23|{768649, BLOCKED,...|transaction|2023-03-03|\n",
            "|8857d4c1-aed2-44c...|transaction-statu...|2021-06-12 15:22:27|{119432, INACTIVE...|transaction|2021-06-12|\n",
            "|e9c4eefc-6694-45d...|transaction-statu...|2020-10-29 02:13:42|{53968, ACTIVE, I...|transaction|2020-10-29|\n",
            "|ec7ca4a9-992f-4f7...|account-status-ch...|2021-11-13 15:50:13|{520258, SUSPENDE...|    account|2021-11-13|\n",
            "|fb213e22-cb54-4e4...|account-status-ch...|2022-05-20 08:53:14|{479368, INACTIVE...|    account|2022-05-20|\n",
            "|0dfc2dab-dbe9-440...|account-status-ch...|2021-11-25 00:38:21|{989410, BLOCKED,...|    account|2021-11-25|\n",
            "|157a0ed5-8976-4cc...|account-status-ch...|2022-08-21 01:11:06|{174358, INACTIVE...|    account|2022-08-21|\n",
            "|606cc134-d425-403...|account-status-ch...|2023-03-21 13:02:52|{951381, INACTIVE...|    account|2023-03-21|\n",
            "|6eafbba7-81cb-47f...|account-status-ch...|2022-05-25 21:13:32|{337516, INACTIVE...|    account|2022-05-25|\n",
            "|7050429e-b3db-4a7...|account-status-ch...|2021-09-11 10:10:26|{903054, SUSPENDE...|    account|2021-09-11|\n",
            "+--------------------+--------------------+-------------------+--------------------+-----------+----------+\n",
            "only showing top 20 rows\n",
            "\n"
          ]
        }
      ]
    },
    {
      "cell_type": "code",
      "source": [
        "final_events.count()"
      ],
      "metadata": {
        "colab": {
          "base_uri": "https://localhost:8080/"
        },
        "id": "EHh4FVNra9oj",
        "outputId": "e0b4dd88-875f-4f8c-c631-f562a40fe0d2"
      },
      "execution_count": 60,
      "outputs": [
        {
          "output_type": "execute_result",
          "data": {
            "text/plain": [
              "1004"
            ]
          },
          "metadata": {},
          "execution_count": 60
        }
      ]
    },
    {
      "cell_type": "markdown",
      "source": [
        "## 5. Write transformed data in parquet format"
      ],
      "metadata": {
        "id": "uytFlYymN3uq"
      }
    },
    {
      "cell_type": "code",
      "source": [
        "final_events \\\n",
        "  .write \\\n",
        "  .partitionBy(\"event_type\", \"day\") \\\n",
        "  .mode(\"append\") \\\n",
        "  .parquet(\"work/data/trusted/events/\")"
      ],
      "metadata": {
        "id": "7mpU4oGYEeIV"
      },
      "execution_count": 61,
      "outputs": []
    },
    {
      "cell_type": "markdown",
      "source": [
        "## 6. Read transformed data in parquet format"
      ],
      "metadata": {
        "id": "dnLQAFReSTN7"
      }
    },
    {
      "cell_type": "code",
      "source": [
        "trusted_events = spark.read.parquet('work/data/trusted/events/')\n",
        "trusted_events.show()"
      ],
      "metadata": {
        "colab": {
          "base_uri": "https://localhost:8080/"
        },
        "id": "Bt-w_lgESWi2",
        "outputId": "b60bf7b6-6025-4460-db5b-279a9572e9ed"
      },
      "execution_count": 62,
      "outputs": [
        {
          "output_type": "stream",
          "name": "stdout",
          "text": [
            "+--------------------+-------------------+--------------------+-----------+--------------------+----------+\n",
            "|            event_id|          timestamp|                data|     domain|          event_type|       day|\n",
            "+--------------------+-------------------+--------------------+-----------+--------------------+----------+\n",
            "|ebc0a28c-8eb2-406...|2021-04-03 20:00:44|{248608, BLOCKED,...|transaction|transaction-statu...|2021-04-03|\n",
            "|27830434-a676-40f...|2021-04-09 03:09:48|{971368, SUSPENDE...|transaction|transaction-statu...|2021-04-09|\n",
            "|a528240a-d99b-487...|2022-05-20 20:58:18|{750886, SUSPENDE...|transaction|transaction-statu...|2022-05-20|\n",
            "|b05fd65e-8527-46d...|2023-07-01 19:33:00|{8488, DELETED, I...|    account|account-status-ch...|2023-07-01|\n",
            "|6f369047-1fc5-43b...|2021-04-30 21:11:22|{782949, SUSPENDE...|transaction|transaction-statu...|2021-04-30|\n",
            "|007c357e-102a-4d2...|2021-01-25 19:58:21|{732774, SUSPENDE...|transaction|transaction-statu...|2021-01-25|\n",
            "|ece9319d-4ab7-493...|2022-10-26 15:38:04|{878523, INACTIVE...|transaction|transaction-statu...|2022-10-26|\n",
            "|ee2e6515-1ba6-44c...|2022-07-17 10:27:03|{132789, SUSPENDE...|transaction|transaction-statu...|2022-07-17|\n",
            "|e32c9ad2-e954-463...|2021-10-08 12:50:04|{781773, INACTIVE...|    account|account-status-ch...|2021-10-08|\n",
            "|a0a051e6-78d3-421...|2022-10-13 04:23:02|{304111, SUSPENDE...|    account|account-status-ch...|2022-10-13|\n",
            "|b45ac15d-e8c2-48f...|2022-02-02 13:36:35|{52095, DELETED, ...|transaction|transaction-statu...|2022-02-02|\n",
            "|d3b5d1eb-f2d1-430...|2022-01-08 06:46:09|{864, BLOCKED, SU...|transaction|transaction-statu...|2022-01-08|\n",
            "|12866150-8092-480...|2021-10-19 09:34:28|{112589, DELETED,...|    account|account-status-ch...|2021-10-19|\n",
            "|d399c633-b188-4b4...|2022-07-24 19:09:26|{504250, BLOCKED,...|    account|account-status-ch...|2022-07-24|\n",
            "|2d6cba54-9b82-4ef...|2022-07-14 21:59:12|{322341, ACTIVE, ...|transaction|transaction-statu...|2022-07-14|\n",
            "|4b1574ad-774a-417...|2021-08-17 23:56:19|{401625, INACTIVE...|transaction|transaction-statu...|2021-08-17|\n",
            "|984a6f23-f88d-4e8...|2023-03-15 12:12:54|{367829, INACTIVE...|transaction|transaction-statu...|2023-03-15|\n",
            "|43e8f859-f685-46a...|2021-04-11 18:15:40|{64458, DELETED, ...|transaction|transaction-statu...|2021-04-11|\n",
            "|934ead2e-132f-474...|2023-06-10 12:26:15|{536451, SUSPENDE...|transaction|transaction-statu...|2023-06-10|\n",
            "|6c36e031-1bd5-49a...|2021-06-28 01:51:11|{534610, SUSPENDE...|transaction|transaction-statu...|2021-06-28|\n",
            "+--------------------+-------------------+--------------------+-----------+--------------------+----------+\n",
            "only showing top 20 rows\n",
            "\n"
          ]
        }
      ]
    },
    {
      "cell_type": "code",
      "source": [
        "trusted_events.count()"
      ],
      "metadata": {
        "colab": {
          "base_uri": "https://localhost:8080/"
        },
        "id": "cxlhPoW1Si_S",
        "outputId": "7dcec976-73b4-407b-98c3-e7ae48247f8b"
      },
      "execution_count": 63,
      "outputs": [
        {
          "output_type": "execute_result",
          "data": {
            "text/plain": [
              "2008"
            ]
          },
          "metadata": {},
          "execution_count": 63
        }
      ]
    },
    {
      "cell_type": "markdown",
      "source": [
        "## 7. Move raw data to processed data folder"
      ],
      "metadata": {
        "id": "BkWMqFgDjOfp"
      }
    },
    {
      "cell_type": "code",
      "source": [
        "!mv work/data/raw/events/* work/data/processed/events/\n",
        "!ls work/data/processed/events/ -la"
      ],
      "metadata": {
        "colab": {
          "base_uri": "https://localhost:8080/"
        },
        "id": "bIBLhklQh_eR",
        "outputId": "e9901df7-a4ad-4059-da75-4ad93ab76989"
      },
      "execution_count": 64,
      "outputs": [
        {
          "output_type": "stream",
          "name": "stdout",
          "text": [
            "total 760\n",
            "drwxr-xr-x 2 root root   4096 Jul 26 00:18 .\n",
            "drwxr-xr-x 4 root root   4096 Jul 26 00:13 ..\n",
            "-rw-r--r-- 1 root root 379837 Jul 26 00:03 fake_events_20230726000304.json\n",
            "-rw-r--r-- 1 root root   3800 Jul 26 00:03 fake_events_20230726000330.json\n",
            "-rw-r--r-- 1 root root 380412 Jul 26 00:16 fake_events_20230726001616.json\n",
            "-rw-r--r-- 1 root root   3828 Jul 26 00:16 fake_events_20230726001625.json\n"
          ]
        }
      ]
    },
    {
      "cell_type": "code",
      "source": [],
      "metadata": {
        "id": "ovLv8L_2iH3J"
      },
      "execution_count": null,
      "outputs": []
    }
  ]
}