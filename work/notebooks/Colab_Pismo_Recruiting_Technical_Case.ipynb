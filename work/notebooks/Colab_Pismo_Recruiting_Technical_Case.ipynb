{
  "nbformat": 4,
  "nbformat_minor": 0,
  "metadata": {
    "colab": {
      "provenance": [],
      "collapsed_sections": [
        "yXufyZSDnPEX",
        "13c17833-ae7d-421d-a202-67f7bd6e15da",
        "c1271033-3194-4676-b653-7329269465bd",
        "20155f18-3a4c-4ffc-ba04-cb2e68d1de4c",
        "89e61378-9300-4c0e-b2a1-d548f3658d92",
        "daf470cd",
        "b8ovekGDVPXJ",
        "qDxe9aMmVayK"
      ],
      "include_colab_link": true
    },
    "kernelspec": {
      "display_name": "Python 3",
      "language": "python",
      "name": "python3"
    },
    "language_info": {
      "codemirror_mode": {
        "name": "ipython",
        "version": 3
      },
      "file_extension": ".py",
      "mimetype": "text/x-python",
      "name": "python",
      "nbconvert_exporter": "python",
      "pygments_lexer": "ipython3",
      "version": "3.6.5"
    }
  },
  "cells": [
    {
      "cell_type": "markdown",
      "metadata": {
        "id": "view-in-github",
        "colab_type": "text"
      },
      "source": [
        "<a href=\"https://colab.research.google.com/github/eder1985/pismo_recruiting_technical_case/blob/main/work/notebooks/Colab_Pismo_Recruiting_Technical_Case.ipynb\" target=\"_parent\"><img src=\"https://colab.research.google.com/assets/colab-badge.svg\" alt=\"Open In Colab\"/></a>"
      ]
    },
    {
      "cell_type": "markdown",
      "metadata": {
        "id": "iox_ufgbqDXa"
      },
      "source": [
        "<h1><center>Pismo Recruiting Technical Case</center></h1>\n",
        "\n",
        "---\n",
        "\n"
      ]
    },
    {
      "cell_type": "markdown",
      "source": [
        "## 1. Pre-requisites"
      ],
      "metadata": {
        "id": "JCAgeiPdnkA2"
      }
    },
    {
      "cell_type": "markdown",
      "metadata": {
        "id": "Dd6t0uFzuR4X"
      },
      "source": [
        "### Installing Spark"
      ]
    },
    {
      "cell_type": "markdown",
      "metadata": {
        "id": "6apGVff5h4ca"
      },
      "source": [
        "Install Dependencies:\n",
        "\n",
        "\n",
        "1.   Java 8\n",
        "2.   Apache Spark with hadoop and\n",
        "3.   Findspark (used to locate the spark in the system)\n"
      ]
    },
    {
      "cell_type": "code",
      "metadata": {
        "id": "tt7ZS1_wGgjn"
      },
      "source": [
        "!apt-get install openjdk-8-jdk-headless -qq > /dev/null\n",
        "!wget -q http://archive.apache.org/dist/spark/spark-3.1.1/spark-3.1.1-bin-hadoop3.2.tgz\n",
        "!tar xf spark-3.1.1-bin-hadoop3.2.tgz\n",
        "!pip install -q findspark"
      ],
      "execution_count": 1,
      "outputs": []
    },
    {
      "cell_type": "markdown",
      "metadata": {
        "id": "C3x0ZRLxjMVr"
      },
      "source": [
        "Set Environment Variables:"
      ]
    },
    {
      "cell_type": "code",
      "metadata": {
        "id": "sdOOq4twHN1K"
      },
      "source": [
        "import os\n",
        "os.environ[\"JAVA_HOME\"] = \"/usr/lib/jvm/java-8-openjdk-amd64\"\n",
        "os.environ[\"SPARK_HOME\"] = \"/content/spark-3.1.1-bin-hadoop3.2\""
      ],
      "execution_count": 2,
      "outputs": []
    },
    {
      "cell_type": "code",
      "metadata": {
        "id": "3ACYMwhgHTYz",
        "colab": {
          "base_uri": "https://localhost:8080/"
        },
        "outputId": "18439238-20e3-4eeb-e0d9-39cab328f5aa"
      },
      "source": [
        "!ls"
      ],
      "execution_count": 3,
      "outputs": [
        {
          "output_type": "stream",
          "name": "stdout",
          "text": [
            "sample_data  spark-3.1.1-bin-hadoop3.2\tspark-3.1.1-bin-hadoop3.2.tgz\n"
          ]
        }
      ]
    },
    {
      "cell_type": "code",
      "metadata": {
        "id": "KR1zLBk1998Z",
        "colab": {
          "base_uri": "https://localhost:8080/",
          "height": 219
        },
        "outputId": "1dd2c9ed-a957-4ae3-c993-5b220bdeab14"
      },
      "source": [
        "import findspark\n",
        "findspark.init()\n",
        "\n",
        "from pyspark.sql import SparkSession\n",
        "from pyspark.sql.functions import *\n",
        "\n",
        "spark = SparkSession.builder.master(\"local[*]\").getOrCreate()\n",
        "spark.conf.set(\"spark.sql.repl.eagerEval.enabled\", True) # Property used to format output tables better\n",
        "spark"
      ],
      "execution_count": 8,
      "outputs": [
        {
          "output_type": "execute_result",
          "data": {
            "text/plain": [
              "<pyspark.sql.session.SparkSession at 0x7ad9383a5210>"
            ],
            "text/html": [
              "\n",
              "            <div>\n",
              "                <p><b>SparkSession - in-memory</b></p>\n",
              "                \n",
              "        <div>\n",
              "            <p><b>SparkContext</b></p>\n",
              "\n",
              "            <p><a href=\"http://fd5ace47eefb:4040\">Spark UI</a></p>\n",
              "\n",
              "            <dl>\n",
              "              <dt>Version</dt>\n",
              "                <dd><code>v3.1.1</code></dd>\n",
              "              <dt>Master</dt>\n",
              "                <dd><code>local[*]</code></dd>\n",
              "              <dt>AppName</dt>\n",
              "                <dd><code>pyspark-shell</code></dd>\n",
              "            </dl>\n",
              "        </div>\n",
              "        \n",
              "            </div>\n",
              "        "
            ]
          },
          "metadata": {},
          "execution_count": 8
        }
      ]
    },
    {
      "cell_type": "code",
      "source": [
        "!python --version"
      ],
      "metadata": {
        "id": "u60Xjw0vufwU",
        "outputId": "602f29f9-a133-4188-8f3d-fd0f0893a086",
        "colab": {
          "base_uri": "https://localhost:8080/"
        }
      },
      "execution_count": 9,
      "outputs": [
        {
          "output_type": "stream",
          "name": "stdout",
          "text": [
            "Python 3.10.6\n"
          ]
        }
      ]
    },
    {
      "cell_type": "markdown",
      "source": [
        "### Creating data folders"
      ],
      "metadata": {
        "id": "2FEYvFYKGANl"
      }
    },
    {
      "cell_type": "code",
      "source": [
        "!mkdir -p work/data/raw/events/\n",
        "!mkdir -p work/data/processed/events/\n",
        "!mkdir -p work/data/trusted/events/"
      ],
      "metadata": {
        "id": "_ipysz4fGTQm"
      },
      "execution_count": 26,
      "outputs": []
    },
    {
      "cell_type": "markdown",
      "metadata": {
        "id": "yXufyZSDnPEX"
      },
      "source": [
        "## 2. Generate Fake Data"
      ]
    },
    {
      "cell_type": "markdown",
      "source": [
        "### Installing libs"
      ],
      "metadata": {
        "id": "lFjhBqLzopOx"
      }
    },
    {
      "cell_type": "code",
      "source": [
        "!pip install -q faker"
      ],
      "metadata": {
        "colab": {
          "base_uri": "https://localhost:8080/"
        },
        "id": "qKtqR1_EotAp",
        "outputId": "93b1e59e-a056-45a3-bb06-df5409fca931"
      },
      "execution_count": 10,
      "outputs": [
        {
          "output_type": "stream",
          "name": "stdout",
          "text": [
            "\u001b[?25l     \u001b[90m━━━━━━━━━━━━━━━━━━━━━━━━━━━━━━━━━━━━━━━━\u001b[0m \u001b[32m0.0/1.7 MB\u001b[0m \u001b[31m?\u001b[0m eta \u001b[36m-:--:--\u001b[0m\r\u001b[2K     \u001b[91m━\u001b[0m\u001b[90m╺\u001b[0m\u001b[90m━━━━━━━━━━━━━━━━━━━━━━━━━━━━━━━━━━━━━━\u001b[0m \u001b[32m0.1/1.7 MB\u001b[0m \u001b[31m2.0 MB/s\u001b[0m eta \u001b[36m0:00:01\u001b[0m\r\u001b[2K     \u001b[91m━━━━━━━━\u001b[0m\u001b[91m╸\u001b[0m\u001b[90m━━━━━━━━━━━━━━━━━━━━━━━━━━━━━━━\u001b[0m \u001b[32m0.4/1.7 MB\u001b[0m \u001b[31m5.5 MB/s\u001b[0m eta \u001b[36m0:00:01\u001b[0m\r\u001b[2K     \u001b[91m━━━━━━━━━━━━━━━━\u001b[0m\u001b[90m╺\u001b[0m\u001b[90m━━━━━━━━━━━━━━━━━━━━━━━\u001b[0m \u001b[32m0.7/1.7 MB\u001b[0m \u001b[31m6.8 MB/s\u001b[0m eta \u001b[36m0:00:01\u001b[0m\r\u001b[2K     \u001b[91m━━━━━━━━━━━━━━━━━━━━━━━━━\u001b[0m\u001b[91m╸\u001b[0m\u001b[90m━━━━━━━━━━━━━━\u001b[0m \u001b[32m1.1/1.7 MB\u001b[0m \u001b[31m7.9 MB/s\u001b[0m eta \u001b[36m0:00:01\u001b[0m\r\u001b[2K     \u001b[91m━━━━━━━━━━━━━━━━━━━━━━━━━━━━━━━━━━━━\u001b[0m\u001b[90m╺\u001b[0m\u001b[90m━━━\u001b[0m \u001b[32m1.5/1.7 MB\u001b[0m \u001b[31m8.9 MB/s\u001b[0m eta \u001b[36m0:00:01\u001b[0m\r\u001b[2K     \u001b[90m━━━━━━━━━━━━━━━━━━━━━━━━━━━━━━━━━━━━━━━━\u001b[0m \u001b[32m1.7/1.7 MB\u001b[0m \u001b[31m8.2 MB/s\u001b[0m eta \u001b[36m0:00:00\u001b[0m\n",
            "\u001b[?25h"
          ]
        }
      ]
    },
    {
      "cell_type": "markdown",
      "metadata": {
        "id": "13c17833-ae7d-421d-a202-67f7bd6e15da"
      },
      "source": [
        "### Imports"
      ]
    },
    {
      "cell_type": "code",
      "execution_count": 12,
      "metadata": {
        "tags": [],
        "id": "b09f623a-a917-40b2-935e-9f3418eeb5d0"
      },
      "outputs": [],
      "source": [
        "from faker import Faker\n",
        "from faker.providers import BaseProvider\n",
        "from datetime import datetime\n",
        "from json import dumps\n",
        "import pandas as pd\n",
        "import random\n",
        "import collections\n",
        "import glob\n",
        "import os"
      ]
    },
    {
      "cell_type": "markdown",
      "metadata": {
        "id": "c1271033-3194-4676-b653-7329269465bd"
      },
      "source": [
        "### Generating fake `event_id`: random UUIDs for unique and non-repeated event_id values"
      ]
    },
    {
      "cell_type": "code",
      "execution_count": 13,
      "metadata": {
        "id": "fbb2e109-25d6-4b7d-9a2d-b27defaf30c7",
        "outputId": "87540741-4988-4183-b2eb-542e3bec437f",
        "colab": {
          "base_uri": "https://localhost:8080/"
        }
      },
      "outputs": [
        {
          "output_type": "stream",
          "name": "stdout",
          "text": [
            "32e7615a-0d59-4494-a175-4b93f2082a64\n"
          ]
        }
      ],
      "source": [
        "fake = Faker()\n",
        "Faker.seed(random.randrange(0, 99999999999999999999, 1))\n",
        "fake_event_id = fake.uuid4()\n",
        "print(fake_event_id)"
      ]
    },
    {
      "cell_type": "markdown",
      "metadata": {
        "id": "daf470cd"
      },
      "source": [
        "### Generating custom fake `event_id`: random UUIDs for duplicate event_id scenario"
      ]
    },
    {
      "cell_type": "code",
      "execution_count": 16,
      "metadata": {
        "id": "bc529de4"
      },
      "outputs": [],
      "source": [
        "class CustomUUIDProvider(BaseProvider):\n",
        "    def custom_uuid(self):\n",
        "        list_uuids = [\n",
        "            '1a1a1a1a-1a1a-1a1a-1a1a-1a1a1a1a1a1a',\n",
        "            '2b2b2b2b-2b2b-2b2b-2b2b-2b2b2b2b2b2b',\n",
        "            '3c3c3c3c-3c3c-3c3c-3c3c-3c3c3c3c3c3c'\n",
        "            ]\n",
        "        return random.choice(list_uuids)"
      ]
    },
    {
      "cell_type": "markdown",
      "metadata": {
        "tags": [],
        "id": "20155f18-3a4c-4ffc-ba04-cb2e68d1de4c"
      },
      "source": [
        "### Generating fake `timestamp`: random timestamps with values until 3 years ago"
      ]
    },
    {
      "cell_type": "code",
      "execution_count": 17,
      "metadata": {
        "id": "05c17a17",
        "outputId": "35d82148-a66c-4b5f-fe8c-e95cd67e8435",
        "colab": {
          "base_uri": "https://localhost:8080/"
        }
      },
      "outputs": [
        {
          "output_type": "stream",
          "name": "stdout",
          "text": [
            "2022-12-22T08:53:28\n"
          ]
        }
      ],
      "source": [
        "fake_timestamp = datetime.strftime(fake.date_time_between(start_date='-3y', end_date='now'),\"%Y-%m-%dT%H:%M:%S\")\n",
        "print(fake_timestamp)"
      ]
    },
    {
      "cell_type": "markdown",
      "source": [
        "### Generating custom fake `event_type`: random values based on list\n"
      ],
      "metadata": {
        "id": "b8ovekGDVPXJ"
      }
    },
    {
      "cell_type": "code",
      "source": [
        "class EventTypeProvider(BaseProvider):\n",
        "    def event_type(self):\n",
        "        list_event_types = ['account-status-change','transaction-new-value']\n",
        "        return random.choice(list_event_types)\n",
        "\n",
        "fake.add_provider(EventTypeProvider)\n",
        "\n",
        "fake_event_type = fake.event_type()\n",
        "print(fake_event_type)"
      ],
      "metadata": {
        "colab": {
          "base_uri": "https://localhost:8080/"
        },
        "id": "tF37ArUqPIia",
        "outputId": "47678f6c-1d8b-4ea7-c6f8-84418b274b77"
      },
      "execution_count": 19,
      "outputs": [
        {
          "output_type": "stream",
          "name": "stdout",
          "text": [
            "account-status-change\n"
          ]
        }
      ]
    },
    {
      "cell_type": "markdown",
      "metadata": {
        "tags": [],
        "id": "89e61378-9300-4c0e-b2a1-d548f3658d92"
      },
      "source": [
        "### Generating fake `status`: random values based on list"
      ]
    },
    {
      "cell_type": "code",
      "execution_count": 20,
      "metadata": {
        "tags": [],
        "id": "38144fc2-3bdf-4cd2-aaba-f7387dc2749a",
        "outputId": "fcba1bad-16e8-4805-87ca-822e8aa3a58e",
        "colab": {
          "base_uri": "https://localhost:8080/"
        }
      },
      "outputs": [
        {
          "output_type": "stream",
          "name": "stdout",
          "text": [
            "ACTIVE\n"
          ]
        }
      ],
      "source": [
        "class StatusTypeProvider(BaseProvider):\n",
        "    def status_type(self):\n",
        "        list_status_types = ['ACTIVE','INACTIVE','SUSPENDED','BLOCKED', 'DELETED']\n",
        "        return random.choice(list_status_types)\n",
        "\n",
        "fake.add_provider(StatusTypeProvider)\n",
        "\n",
        "fake_status_type = fake.status_type()\n",
        "print(fake_status_type)"
      ]
    },
    {
      "cell_type": "markdown",
      "source": [
        "### Generating custom fake `data`: values based on dict"
      ],
      "metadata": {
        "id": "qDxe9aMmVayK"
      }
    },
    {
      "cell_type": "code",
      "source": [
        "class CustomDataProvider(BaseProvider):\n",
        "      def custom_data(self):\n",
        "        dict_data = {\n",
        "            \"account-status-change\": collections.OrderedDict([\n",
        "                ('id', fake.random_number(digits=6)),\n",
        "                ('old_status', fake.status_type()),\n",
        "                ('new_status', fake.status_type()),\n",
        "                ('reason', fake.sentence(nb_words=5))\n",
        "            ]),\n",
        "            \"transaction-new-value\": collections.OrderedDict([\n",
        "                ('id', fake.random_number(digits=6)),\n",
        "                ('account_orig_id', fake.random_number(digits=6)),\n",
        "                ('account_dest_id', fake.random_number(digits=6)),\n",
        "                ('amount', fake.pyfloat(positive=True)),\n",
        "                ('currency', fake.currency_code())\n",
        "            ])\n",
        "        }\n",
        "        return dict_data\n",
        "\n",
        "fake.add_provider(CustomDataProvider)\n",
        "\n",
        "fake_custom_data = fake.custom_data().get(fake.event_type())\n",
        "print(fake_custom_data)"
      ],
      "metadata": {
        "colab": {
          "base_uri": "https://localhost:8080/"
        },
        "id": "VTAwzRoVI1My",
        "outputId": "32d6459d-cd45-4399-95b4-84fc15fbd9a5"
      },
      "execution_count": 21,
      "outputs": [
        {
          "output_type": "stream",
          "name": "stdout",
          "text": [
            "OrderedDict([('id', 63888), ('account_orig_id', 838769), ('account_dest_id', 187050), ('amount', 891287578.480053), ('currency', 'SOS')])\n"
          ]
        }
      ]
    },
    {
      "cell_type": "markdown",
      "metadata": {
        "id": "b71c70e2-9a78-4595-84fd-0c733c652e23"
      },
      "source": [
        "### Defining `write_fake_data` and `read_fake_data` functions"
      ]
    },
    {
      "cell_type": "code",
      "execution_count": 25,
      "metadata": {
        "id": "8aeda55c"
      },
      "outputs": [],
      "source": [
        "def write_fake_data(fake, length, destination_path, unique_uuid = True):\n",
        "\n",
        "    database = []\n",
        "    current_time = datetime.now().strftime(\"%Y%m%d%H%M%S\")\n",
        "    filename = 'fake_events_'+current_time\n",
        "\n",
        "    for x in range(length):\n",
        "        uuid = fake.uuid4() if unique_uuid else fake.custom_uuid()\n",
        "        event_type = fake.event_type()\n",
        "        project_domain_name = event_type.split('-')[0]\n",
        "\n",
        "        database.append(collections.OrderedDict([\n",
        "            ('event_id', uuid),\n",
        "            ('timestamp', datetime.strftime(fake.date_time_between(start_date='-3y', end_date='now'),\"%Y-%m-%dT%H:%M:%S\")),\n",
        "            ('domain', project_domain_name),\n",
        "            ('event_type', event_type),\n",
        "            ('data', fake.custom_data().get(event_type))\n",
        "        ]))\n",
        "\n",
        "    with open('%s%s.json' % (destination_path, filename), 'w') as output:\n",
        "        output.write(dumps(database, indent=4, sort_keys=False, default=str))\n",
        "\n",
        "    print(\"Done.\")\n",
        "\n",
        "def read_fake_data(json_filepath):\n",
        "    json_files = [os.path.normpath(i) for i in glob.glob(json_filepath)]\n",
        "    df = pd.concat([pd.read_json(f) for f in json_files])\n",
        "    return df\n",
        "\n",
        "def run(length, unique_uuid = True):\n",
        "    fake = Faker()\n",
        "    Faker.seed(random.randrange(0, 99999999999999999999, 1))\n",
        "    fake.add_provider(StatusTypeProvider)\n",
        "    fake.add_provider(CustomUUIDProvider)\n",
        "    fake.add_provider(EventTypeProvider)\n",
        "    fake.add_provider(CustomDataProvider)\n",
        "\n",
        "    destination_path = 'work/data/raw/events/'\n",
        "    write_fake_data(fake, length, destination_path,unique_uuid)\n",
        "\n",
        "    json_filepath = destination_path+'*.json'\n",
        "    fake_data = read_fake_data(json_filepath)\n",
        "    print(fake_data)"
      ]
    },
    {
      "cell_type": "markdown",
      "metadata": {
        "id": "7768a0c8"
      },
      "source": [
        "### Writing and reading fake data"
      ]
    },
    {
      "cell_type": "markdown",
      "source": [
        "> Writing json file with 1000 unique events"
      ],
      "metadata": {
        "id": "fOqjcnSDLTcG"
      }
    },
    {
      "cell_type": "code",
      "execution_count": 27,
      "metadata": {
        "id": "2a05df7b",
        "outputId": "0d824ee3-d34c-48f2-8be3-6991bd33b549",
        "colab": {
          "base_uri": "https://localhost:8080/"
        }
      },
      "outputs": [
        {
          "output_type": "stream",
          "name": "stdout",
          "text": [
            "Done.\n",
            "                                 event_id           timestamp       domain  \\\n",
            "0    d9ddf046-05ab-48a5-b411-02dd9955a2c5 2021-08-20 10:02:39  transaction   \n",
            "1    318cbfd1-5bbb-45f3-8874-22e1a7fc386e 2021-05-05 13:53:16      account   \n",
            "2    03732535-f661-46e3-84f5-9e541bb461f2 2023-06-26 10:35:34  transaction   \n",
            "3    d3096c5d-7c93-4170-b87a-1a6377100b36 2020-12-22 13:53:11      account   \n",
            "4    dff9946e-d91e-4616-a881-06a4eb29089f 2020-12-23 00:17:02  transaction   \n",
            "..                                    ...                 ...          ...   \n",
            "995  a493c58d-05b6-415b-b6c0-c63b99cd6924 2021-09-06 23:41:55  transaction   \n",
            "996  6a6c4c3d-87bc-4642-b7c6-04e278f7eda7 2023-07-27 04:11:42  transaction   \n",
            "997  ac40af3a-662c-406f-9508-a1a186520c76 2021-02-03 21:08:35  transaction   \n",
            "998  04e6a811-7eba-4848-8e49-e94666f5fc31 2021-04-17 07:32:35      account   \n",
            "999  f59ea7fa-8edc-4ed4-94fe-53a3a685639f 2021-12-24 02:57:06  transaction   \n",
            "\n",
            "                event_type                                               data  \n",
            "0    transaction-new-value  {'id': 727466, 'account_orig_id': 915391, 'acc...  \n",
            "1    account-status-change  {'id': 559660, 'old_status': 'BLOCKED', 'new_s...  \n",
            "2    transaction-new-value  {'id': 719948, 'account_orig_id': 896733, 'acc...  \n",
            "3    account-status-change  {'id': 202193, 'old_status': 'SUSPENDED', 'new...  \n",
            "4    transaction-new-value  {'id': 160086, 'account_orig_id': 356941, 'acc...  \n",
            "..                     ...                                                ...  \n",
            "995  transaction-new-value  {'id': 908775, 'account_orig_id': 8828, 'accou...  \n",
            "996  transaction-new-value  {'id': 443194, 'account_orig_id': 196925, 'acc...  \n",
            "997  transaction-new-value  {'id': 518248, 'account_orig_id': 529992, 'acc...  \n",
            "998  account-status-change  {'id': 156436, 'old_status': 'SUSPENDED', 'new...  \n",
            "999  transaction-new-value  {'id': 8687, 'account_orig_id': 513222, 'accou...  \n",
            "\n",
            "[1000 rows x 5 columns]\n"
          ]
        }
      ],
      "source": [
        "run(1000)"
      ]
    },
    {
      "cell_type": "markdown",
      "source": [
        "> Writing json file with 100 events with duplicate rows"
      ],
      "metadata": {
        "id": "FOczWQcMLQpY"
      }
    },
    {
      "cell_type": "code",
      "execution_count": 28,
      "metadata": {
        "id": "64906f56",
        "outputId": "ef7d7bf4-f801-4603-9849-ea7c3e804e15",
        "colab": {
          "base_uri": "https://localhost:8080/"
        }
      },
      "outputs": [
        {
          "output_type": "stream",
          "name": "stdout",
          "text": [
            "Done.\n",
            "                                 event_id           timestamp       domain  \\\n",
            "0    1a1a1a1a-1a1a-1a1a-1a1a-1a1a1a1a1a1a 2021-09-11 21:14:46      account   \n",
            "1    1a1a1a1a-1a1a-1a1a-1a1a-1a1a1a1a1a1a 2022-11-01 21:36:41      account   \n",
            "2    2b2b2b2b-2b2b-2b2b-2b2b-2b2b2b2b2b2b 2020-09-03 05:12:39      account   \n",
            "3    3c3c3c3c-3c3c-3c3c-3c3c-3c3c3c3c3c3c 2021-10-24 01:31:38  transaction   \n",
            "4    3c3c3c3c-3c3c-3c3c-3c3c-3c3c3c3c3c3c 2021-08-05 08:49:07  transaction   \n",
            "..                                    ...                 ...          ...   \n",
            "995  a493c58d-05b6-415b-b6c0-c63b99cd6924 2021-09-06 23:41:55  transaction   \n",
            "996  6a6c4c3d-87bc-4642-b7c6-04e278f7eda7 2023-07-27 04:11:42  transaction   \n",
            "997  ac40af3a-662c-406f-9508-a1a186520c76 2021-02-03 21:08:35  transaction   \n",
            "998  04e6a811-7eba-4848-8e49-e94666f5fc31 2021-04-17 07:32:35      account   \n",
            "999  f59ea7fa-8edc-4ed4-94fe-53a3a685639f 2021-12-24 02:57:06  transaction   \n",
            "\n",
            "                event_type                                               data  \n",
            "0    account-status-change  {'id': 622106, 'old_status': 'INACTIVE', 'new_...  \n",
            "1    account-status-change  {'id': 821328, 'old_status': 'ACTIVE', 'new_st...  \n",
            "2    account-status-change  {'id': 854694, 'old_status': 'INACTIVE', 'new_...  \n",
            "3    transaction-new-value  {'id': 201955, 'account_orig_id': 594531, 'acc...  \n",
            "4    transaction-new-value  {'id': 572943, 'account_orig_id': 989258, 'acc...  \n",
            "..                     ...                                                ...  \n",
            "995  transaction-new-value  {'id': 908775, 'account_orig_id': 8828, 'accou...  \n",
            "996  transaction-new-value  {'id': 443194, 'account_orig_id': 196925, 'acc...  \n",
            "997  transaction-new-value  {'id': 518248, 'account_orig_id': 529992, 'acc...  \n",
            "998  account-status-change  {'id': 156436, 'old_status': 'SUSPENDED', 'new...  \n",
            "999  transaction-new-value  {'id': 8687, 'account_orig_id': 513222, 'accou...  \n",
            "\n",
            "[1100 rows x 5 columns]\n"
          ]
        }
      ],
      "source": [
        "run(100,unique_uuid = False)"
      ]
    },
    {
      "cell_type": "markdown",
      "metadata": {
        "id": "hmIqq6xPK7m7"
      },
      "source": [
        "## 3. Exploring the Raw Dataframe"
      ]
    },
    {
      "cell_type": "markdown",
      "metadata": {
        "id": "VZwsr57lwPgq"
      },
      "source": [
        "### Loading the Dataframe:\n",
        "\n",
        "- List raw json files\n",
        "- Define raw_events_schema with only StringType for not lost data\n",
        "- Load raw_events dataframe"
      ]
    },
    {
      "cell_type": "code",
      "metadata": {
        "id": "Wpq2jYvIMOJy",
        "colab": {
          "base_uri": "https://localhost:8080/"
        },
        "outputId": "ceefb854-415c-4552-fd79-ff4c5760134e"
      },
      "source": [
        "!ls work/data/raw/events/ -la"
      ],
      "execution_count": 29,
      "outputs": [
        {
          "output_type": "stream",
          "name": "stdout",
          "text": [
            "total 428\n",
            "drwxr-xr-x 2 root root   4096 Jul 27 16:30 .\n",
            "drwxr-xr-x 3 root root   4096 Jul 27 16:28 ..\n",
            "-rw-r--r-- 1 root root 387821 Jul 27 16:28 fake_events_20230727162819.json\n",
            "-rw-r--r-- 1 root root  38965 Jul 27 16:30 fake_events_20230727163006.json\n"
          ]
        }
      ]
    },
    {
      "cell_type": "code",
      "source": [
        "\n",
        "from pyspark.sql.types import StructType,StructField, StringType\n",
        "\n",
        "raw_events_schema = StructType([\n",
        "      StructField(\"data\",StringType(),True),\n",
        "      StructField(\"domain\",StringType(),True),\n",
        "      StructField(\"event_id\",StringType(),True),\n",
        "      StructField(\"event_type\",StringType(),True),\n",
        "      StructField(\"timestamp\",StringType(),True)\n",
        "  ])"
      ],
      "metadata": {
        "id": "omRVi0RCd_ZU"
      },
      "execution_count": 30,
      "outputs": []
    },
    {
      "cell_type": "code",
      "metadata": {
        "id": "hz6ALr5mMqZt",
        "colab": {
          "base_uri": "https://localhost:8080/"
        },
        "outputId": "d1f580ee-d1d1-49fb-f19e-eb7493e08a42"
      },
      "source": [
        "raw_events = spark.read.option(\"multiline\",\"true\").schema(raw_events_schema).json('work/data/raw/events/')\n",
        "raw_events.show(5, truncate = False)"
      ],
      "execution_count": 31,
      "outputs": [
        {
          "output_type": "stream",
          "name": "stdout",
          "text": [
            "+-------------------------------------------------------------------------------------------------------------+-----------+------------------------------------+---------------------+-------------------+\n",
            "|data                                                                                                         |domain     |event_id                            |event_type           |timestamp          |\n",
            "+-------------------------------------------------------------------------------------------------------------+-----------+------------------------------------+---------------------+-------------------+\n",
            "|{\"id\":727466,\"account_orig_id\":915391,\"account_dest_id\":465171,\"amount\":734.448561822683,\"currency\":\"CNY\"}   |transaction|d9ddf046-05ab-48a5-b411-02dd9955a2c5|transaction-new-value|2021-08-20T10:02:39|\n",
            "|{\"id\":559660,\"old_status\":\"BLOCKED\",\"new_status\":\"BLOCKED\",\"reason\":\"Usually truth card east.\"}              |account    |318cbfd1-5bbb-45f3-8874-22e1a7fc386e|account-status-change|2021-05-05T13:53:16|\n",
            "|{\"id\":719948,\"account_orig_id\":896733,\"account_dest_id\":250961,\"amount\":1.21139036347719E11,\"currency\":\"VUV\"}|transaction|03732535-f661-46e3-84f5-9e541bb461f2|transaction-new-value|2023-06-26T10:35:34|\n",
            "|{\"id\":202193,\"old_status\":\"SUSPENDED\",\"new_status\":\"ACTIVE\",\"reason\":\"Good environmental majority.\"}         |account    |d3096c5d-7c93-4170-b87a-1a6377100b36|account-status-change|2020-12-22T13:53:11|\n",
            "|{\"id\":160086,\"account_orig_id\":356941,\"account_dest_id\":590999,\"amount\":3339.75146254679,\"currency\":\"NGN\"}   |transaction|dff9946e-d91e-4616-a881-06a4eb29089f|transaction-new-value|2020-12-23T00:17:02|\n",
            "+-------------------------------------------------------------------------------------------------------------+-----------+------------------------------------+---------------------+-------------------+\n",
            "only showing top 5 rows\n",
            "\n"
          ]
        }
      ]
    },
    {
      "cell_type": "code",
      "source": [
        "raw_events.count()"
      ],
      "metadata": {
        "colab": {
          "base_uri": "https://localhost:8080/"
        },
        "id": "IhOELKOjeJ_K",
        "outputId": "de696fbb-1060-4477-eb38-3d2b69bd32cd"
      },
      "execution_count": 32,
      "outputs": [
        {
          "output_type": "execute_result",
          "data": {
            "text/plain": [
              "1100"
            ]
          },
          "metadata": {},
          "execution_count": 32
        }
      ]
    },
    {
      "cell_type": "markdown",
      "metadata": {
        "id": "3lfS2DhHuhPl"
      },
      "source": [
        "### Dataframe Raw Schema"
      ]
    },
    {
      "cell_type": "code",
      "metadata": {
        "id": "CCGTFlCWRPw4",
        "colab": {
          "base_uri": "https://localhost:8080/"
        },
        "outputId": "527eeb37-441c-40ca-8819-ad71d77ae86e"
      },
      "source": [
        "raw_events.printSchema()"
      ],
      "execution_count": 33,
      "outputs": [
        {
          "output_type": "stream",
          "name": "stdout",
          "text": [
            "root\n",
            " |-- data: string (nullable = true)\n",
            " |-- domain: string (nullable = true)\n",
            " |-- event_id: string (nullable = true)\n",
            " |-- event_type: string (nullable = true)\n",
            " |-- timestamp: string (nullable = true)\n",
            "\n"
          ]
        }
      ]
    },
    {
      "cell_type": "markdown",
      "source": [
        "## 4. Applying transformations"
      ],
      "metadata": {
        "id": "wTi73UPdNtEH"
      }
    },
    {
      "cell_type": "markdown",
      "source": [
        "### Columns `timestamp` and `day` transformations"
      ],
      "metadata": {
        "id": "ld3n1QtOOJth"
      }
    },
    {
      "cell_type": "code",
      "source": [
        "partial_events = raw_events\\\n",
        "  .withColumn(\"timestamp\",to_timestamp(\"timestamp\"))\\\n",
        "  .withColumn(\"day\",to_date(\"timestamp\"))"
      ],
      "metadata": {
        "id": "w3bLSJ8CDHeC"
      },
      "execution_count": 34,
      "outputs": []
    },
    {
      "cell_type": "code",
      "source": [
        "partial_events.printSchema()"
      ],
      "metadata": {
        "colab": {
          "base_uri": "https://localhost:8080/"
        },
        "id": "bXPssEQIDUok",
        "outputId": "af2aaf78-6995-4190-f1e8-2d245ac0242f"
      },
      "execution_count": 35,
      "outputs": [
        {
          "output_type": "stream",
          "name": "stdout",
          "text": [
            "root\n",
            " |-- data: string (nullable = true)\n",
            " |-- domain: string (nullable = true)\n",
            " |-- event_id: string (nullable = true)\n",
            " |-- event_type: string (nullable = true)\n",
            " |-- timestamp: timestamp (nullable = true)\n",
            " |-- day: date (nullable = true)\n",
            "\n"
          ]
        }
      ]
    },
    {
      "cell_type": "markdown",
      "source": [
        "### Drop duplicated events"
      ],
      "metadata": {
        "id": "o2YhR1zaPMPz"
      }
    },
    {
      "cell_type": "code",
      "source": [
        "from pyspark.sql.functions import countDistinct\n",
        "\n",
        "# Count\n",
        "partial_events.select(countDistinct(\"event_id\", \"event_type\").alias(\"distinct_events\")).show()\n"
      ],
      "metadata": {
        "colab": {
          "base_uri": "https://localhost:8080/"
        },
        "id": "m3CzLy3uPNTm",
        "outputId": "1058da06-2ec7-4a00-a6e2-5670c5cc5619"
      },
      "execution_count": 36,
      "outputs": [
        {
          "output_type": "stream",
          "name": "stdout",
          "text": [
            "+---------------+\n",
            "|distinct_events|\n",
            "+---------------+\n",
            "|           1006|\n",
            "+---------------+\n",
            "\n"
          ]
        }
      ]
    },
    {
      "cell_type": "code",
      "source": [
        "grouped_events = partial_events \\\n",
        "  .groupBy( \\\n",
        "      col(\"event_id\"), \\\n",
        "      col(\"event_type\")) \\\n",
        "  .agg( \\\n",
        "      max(col(\"timestamp\")))\n",
        "\n",
        "grouped_events.show(truncate = False)"
      ],
      "metadata": {
        "colab": {
          "base_uri": "https://localhost:8080/"
        },
        "id": "9qZgfsFaTXkz",
        "outputId": "861f940c-3ad4-43cc-d2c9-b0b09ac3e4d8"
      },
      "execution_count": 37,
      "outputs": [
        {
          "output_type": "stream",
          "name": "stdout",
          "text": [
            "+------------------------------------+---------------------+-------------------+\n",
            "|event_id                            |event_type           |max(timestamp)     |\n",
            "+------------------------------------+---------------------+-------------------+\n",
            "|c8b7a073-2967-42a2-b1a2-57932bac2d80|transaction-new-value|2023-01-12 09:34:38|\n",
            "|d5ee70c5-72e2-4dfc-b044-8a02b6495af9|transaction-new-value|2023-04-19 07:46:50|\n",
            "|52e834f4-1569-440c-acdd-970ab5a268ad|account-status-change|2023-03-21 08:23:33|\n",
            "|a3115854-83f0-4dca-a592-dcd99541631e|account-status-change|2023-03-01 03:13:25|\n",
            "|c0226b43-9864-4fdb-8060-53d465cf5108|transaction-new-value|2022-11-18 00:20:19|\n",
            "|5e04f614-6c0a-49ba-8863-276a955b4256|transaction-new-value|2020-09-29 02:48:30|\n",
            "|1f6c4ab7-27ec-4f11-a0ee-ebd4ce14ea6b|transaction-new-value|2020-10-04 18:12:24|\n",
            "|c5e337bc-9f41-4d69-af2b-d0552e6c0011|transaction-new-value|2022-12-12 21:27:54|\n",
            "|1447f2d2-7a1b-469f-942a-aa3589e26a5b|account-status-change|2023-04-22 18:32:47|\n",
            "|d0590eb9-c506-454e-9705-227be7bffead|account-status-change|2020-09-01 04:27:33|\n",
            "|156ce659-5885-45cb-b57d-20a3a772286f|account-status-change|2021-09-03 14:20:59|\n",
            "|3aa3ccf3-78aa-4573-b68d-f03807a03fff|account-status-change|2023-05-15 22:57:12|\n",
            "|a0845582-82d0-4574-99a9-42b2377a6ca1|account-status-change|2022-11-23 03:16:36|\n",
            "|faac93b5-6581-445a-bb04-4a6a2633edf5|account-status-change|2021-02-07 23:31:50|\n",
            "|1c99a481-94ad-4f2c-b941-27db0924f57c|account-status-change|2022-11-21 20:45:51|\n",
            "|8d006e78-452c-495c-8fff-8eeedc4fb981|account-status-change|2023-07-07 02:42:48|\n",
            "|6ee871ff-e9ff-4029-95da-74e88915c504|transaction-new-value|2021-06-27 18:23:00|\n",
            "|80f3432e-1ffe-4d91-83be-c42a88f0c7b9|transaction-new-value|2020-08-05 16:37:57|\n",
            "|da26caa8-2ff8-46f2-baec-4ea7b8bf63e1|transaction-new-value|2022-10-23 02:27:49|\n",
            "|4a159949-9bc4-43db-90f2-44a8386c47f0|transaction-new-value|2023-05-24 00:35:07|\n",
            "+------------------------------------+---------------------+-------------------+\n",
            "only showing top 20 rows\n",
            "\n"
          ]
        }
      ]
    },
    {
      "cell_type": "code",
      "source": [
        "final_events = grouped_events \\\n",
        "    .join(partial_events, [\"event_id\",\"event_type\"]) \\\n",
        "    .dropDuplicates([\"event_id\",\"event_type\"]) \\\n",
        "    .drop(\"timestamp\") \\\n",
        "    .withColumnRenamed(\"max(timestamp)\", \"timestamp\")\n",
        "final_events.show()"
      ],
      "metadata": {
        "colab": {
          "base_uri": "https://localhost:8080/"
        },
        "id": "DvCINDM_fBCH",
        "outputId": "1d4fbfae-eba4-4282-b897-3ad63b276a34"
      },
      "execution_count": 38,
      "outputs": [
        {
          "output_type": "stream",
          "name": "stdout",
          "text": [
            "+--------------------+--------------------+-------------------+--------------------+-----------+----------+\n",
            "|            event_id|          event_type|          timestamp|                data|     domain|       day|\n",
            "+--------------------+--------------------+-------------------+--------------------+-----------+----------+\n",
            "|52e834f4-1569-440...|account-status-ch...|2023-03-21 08:23:33|{\"id\":625198,\"old...|    account|2023-03-21|\n",
            "|a3115854-83f0-4dc...|account-status-ch...|2023-03-01 03:13:25|{\"id\":132643,\"old...|    account|2023-03-01|\n",
            "|c0226b43-9864-4fd...|transaction-new-v...|2022-11-18 00:20:19|{\"id\":398056,\"acc...|transaction|2022-11-18|\n",
            "|c8b7a073-2967-42a...|transaction-new-v...|2023-01-12 09:34:38|{\"id\":31953,\"acco...|transaction|2023-01-12|\n",
            "|d5ee70c5-72e2-4df...|transaction-new-v...|2023-04-19 07:46:50|{\"id\":494669,\"acc...|transaction|2023-04-19|\n",
            "|1447f2d2-7a1b-469...|account-status-ch...|2023-04-22 18:32:47|{\"id\":958560,\"old...|    account|2023-04-22|\n",
            "|1f6c4ab7-27ec-4f1...|transaction-new-v...|2020-10-04 18:12:24|{\"id\":517709,\"acc...|transaction|2020-10-04|\n",
            "|5e04f614-6c0a-49b...|transaction-new-v...|2020-09-29 02:48:30|{\"id\":237285,\"acc...|transaction|2020-09-29|\n",
            "|c5e337bc-9f41-4d6...|transaction-new-v...|2022-12-12 21:27:54|{\"id\":877733,\"acc...|transaction|2022-12-12|\n",
            "|156ce659-5885-45c...|account-status-ch...|2021-09-03 14:20:59|{\"id\":698760,\"old...|    account|2021-09-03|\n",
            "|3aa3ccf3-78aa-457...|account-status-ch...|2023-05-15 22:57:12|{\"id\":858782,\"old...|    account|2023-05-15|\n",
            "|a0845582-82d0-457...|account-status-ch...|2022-11-23 03:16:36|{\"id\":662554,\"old...|    account|2022-11-23|\n",
            "|d0590eb9-c506-454...|account-status-ch...|2020-09-01 04:27:33|{\"id\":338097,\"old...|    account|2020-09-01|\n",
            "|1c99a481-94ad-4f2...|account-status-ch...|2022-11-21 20:45:51|{\"id\":671125,\"old...|    account|2022-11-21|\n",
            "|4a159949-9bc4-43d...|transaction-new-v...|2023-05-24 00:35:07|{\"id\":137276,\"acc...|transaction|2023-05-24|\n",
            "|6bc77bca-4c66-447...|account-status-ch...|2022-05-28 16:11:10|{\"id\":357341,\"old...|    account|2022-05-28|\n",
            "|6ee871ff-e9ff-402...|transaction-new-v...|2021-06-27 18:23:00|{\"id\":816485,\"acc...|transaction|2021-06-27|\n",
            "|80f3432e-1ffe-4d9...|transaction-new-v...|2020-08-05 16:37:57|{\"id\":109000,\"acc...|transaction|2020-08-05|\n",
            "|8d006e78-452c-495...|account-status-ch...|2023-07-07 02:42:48|{\"id\":493709,\"old...|    account|2023-07-07|\n",
            "|da26caa8-2ff8-46f...|transaction-new-v...|2022-10-23 02:27:49|{\"id\":474420,\"acc...|transaction|2022-10-23|\n",
            "+--------------------+--------------------+-------------------+--------------------+-----------+----------+\n",
            "only showing top 20 rows\n",
            "\n"
          ]
        }
      ]
    },
    {
      "cell_type": "code",
      "source": [
        "final_events.count()"
      ],
      "metadata": {
        "colab": {
          "base_uri": "https://localhost:8080/"
        },
        "id": "EHh4FVNra9oj",
        "outputId": "daab6d29-f17f-483d-d0f4-e1855b755b0b"
      },
      "execution_count": 39,
      "outputs": [
        {
          "output_type": "execute_result",
          "data": {
            "text/plain": [
              "1006"
            ]
          },
          "metadata": {},
          "execution_count": 39
        }
      ]
    },
    {
      "cell_type": "markdown",
      "source": [
        "### Flatten `data` column by event-type\n",
        "\n",
        "> Each event-type has its own schema"
      ],
      "metadata": {
        "id": "C7MhyzpNiFye"
      }
    },
    {
      "cell_type": "code",
      "source": [
        "final_events.groupBy('event_type').agg(count(col('event_type'))).show(truncate=False)"
      ],
      "metadata": {
        "colab": {
          "base_uri": "https://localhost:8080/"
        },
        "id": "aSTpSNgZnphd",
        "outputId": "aedf53e6-bad2-44ac-be01-6b251b1a09fc"
      },
      "execution_count": 40,
      "outputs": [
        {
          "output_type": "stream",
          "name": "stdout",
          "text": [
            "+---------------------+-----------------+\n",
            "|event_type           |count(event_type)|\n",
            "+---------------------+-----------------+\n",
            "|account-status-change|483              |\n",
            "|transaction-new-value|523              |\n",
            "+---------------------+-----------------+\n",
            "\n"
          ]
        }
      ]
    },
    {
      "cell_type": "code",
      "source": [
        "def distinct_values(df, col):\n",
        "    list_distinct_values = df.select(col).distinct().toPandas()[col].to_list()\n",
        "    return list_distinct_values\n",
        "\n",
        "def flatten_df(df):\n",
        "    json_schema = spark.read.json(df.rdd.map(lambda row: row.data)).schema\n",
        "    df2 = df.withColumn(\"data\", from_json(\"data\", json_schema))\n",
        "    col1 = df2.columns\n",
        "    col1.remove(\"data\")\n",
        "    col2 = df2.select(\"data.*\").columns\n",
        "    append_str =\"data.\"\n",
        "    col3 = [append_str + val for val in col2]\n",
        "    col_list = col1 + col3\n",
        "    df3 = df2.select(*col_list).drop(\"data\")\n",
        "    return df3\n",
        "\n",
        "def write_parquet_data(df):\n",
        "    df.printSchema()\n",
        "    df.write \\\n",
        "    .partitionBy(\"event_type\", \"day\") \\\n",
        "    .mode(\"append\") \\\n",
        "    .parquet(\"work/data/trusted/events/\")"
      ],
      "metadata": {
        "id": "_h22aGoZnM9x"
      },
      "execution_count": 41,
      "outputs": []
    },
    {
      "cell_type": "markdown",
      "source": [
        "## 5. Write transformed data in parquet format\n",
        "\n",
        "\n",
        "\n"
      ],
      "metadata": {
        "id": "uytFlYymN3uq"
      }
    },
    {
      "cell_type": "code",
      "source": [
        "for value in distinct_values(final_events, 'event_type'):\n",
        "    filtered_df = final_events.filter(col('event_type') == value)\n",
        "    flattened_df = flatten_df(filtered_df)\n",
        "    write_parquet_data(flattened_df)"
      ],
      "metadata": {
        "colab": {
          "base_uri": "https://localhost:8080/"
        },
        "id": "7mpU4oGYEeIV",
        "outputId": "779cfb45-dd7c-4ec8-fe8e-610786c89e11"
      },
      "execution_count": 42,
      "outputs": [
        {
          "output_type": "stream",
          "name": "stdout",
          "text": [
            "root\n",
            " |-- event_id: string (nullable = true)\n",
            " |-- event_type: string (nullable = true)\n",
            " |-- timestamp: timestamp (nullable = true)\n",
            " |-- domain: string (nullable = true)\n",
            " |-- day: date (nullable = true)\n",
            " |-- id: long (nullable = true)\n",
            " |-- new_status: string (nullable = true)\n",
            " |-- old_status: string (nullable = true)\n",
            " |-- reason: string (nullable = true)\n",
            "\n",
            "root\n",
            " |-- event_id: string (nullable = true)\n",
            " |-- event_type: string (nullable = true)\n",
            " |-- timestamp: timestamp (nullable = true)\n",
            " |-- domain: string (nullable = true)\n",
            " |-- day: date (nullable = true)\n",
            " |-- account_dest_id: long (nullable = true)\n",
            " |-- account_orig_id: long (nullable = true)\n",
            " |-- amount: double (nullable = true)\n",
            " |-- currency: string (nullable = true)\n",
            " |-- id: long (nullable = true)\n",
            "\n"
          ]
        }
      ]
    },
    {
      "cell_type": "markdown",
      "source": [
        "## 6. Read transformed data in parquet format"
      ],
      "metadata": {
        "id": "dnLQAFReSTN7"
      }
    },
    {
      "cell_type": "code",
      "source": [
        "!ls -la work/data/trusted/events/"
      ],
      "metadata": {
        "colab": {
          "base_uri": "https://localhost:8080/"
        },
        "id": "cKfCK5-e-CV_",
        "outputId": "4c38c6a7-298a-4905-ba22-cd147582982b"
      },
      "execution_count": 43,
      "outputs": [
        {
          "output_type": "stream",
          "name": "stdout",
          "text": [
            "total 52\n",
            "drwxr-xr-x   4 root root  4096 Jul 27 17:58  .\n",
            "drwxr-xr-x   3 root root  4096 Jul 27 16:28  ..\n",
            "drwxr-xr-x 392 root root 20480 Jul 27 17:57 'event_type=account-status-change'\n",
            "drwxr-xr-x 406 root root 20480 Jul 27 17:58 'event_type=transaction-new-value'\n",
            "-rw-r--r--   1 root root     0 Jul 27 17:58  _SUCCESS\n",
            "-rw-r--r--   1 root root     8 Jul 27 17:58  ._SUCCESS.crc\n"
          ]
        }
      ]
    },
    {
      "cell_type": "code",
      "source": [
        "trusted_transaction_events = spark.read.parquet('work/data/trusted/events/event_type=transaction-new-value')\n",
        "trusted_transaction_events.show()"
      ],
      "metadata": {
        "colab": {
          "base_uri": "https://localhost:8080/"
        },
        "id": "Bt-w_lgESWi2",
        "outputId": "9cbc08d3-58b6-4a08-a951-a48b3bdcff23"
      },
      "execution_count": 44,
      "outputs": [
        {
          "output_type": "stream",
          "name": "stdout",
          "text": [
            "+--------------------+-------------------+-----------+---------------+---------------+-------------------+--------+------+----------+\n",
            "|            event_id|          timestamp|     domain|account_dest_id|account_orig_id|             amount|currency|    id|       day|\n",
            "+--------------------+-------------------+-----------+---------------+---------------+-------------------+--------+------+----------+\n",
            "|5e04f614-6c0a-49b...|2020-09-29 02:48:30|transaction|         263662|         759139| 8.17173960051861E9|     AED|237285|2020-09-29|\n",
            "|7312e48d-158b-432...|2020-09-29 17:38:56|transaction|         885368|         727721| 3.41947704352005E9|     PGK| 57630|2020-09-29|\n",
            "|e1d73bb0-2a74-450...|2020-09-29 17:31:25|transaction|         534542|         694999|   5332419.77476907|     ZAR|346215|2020-09-29|\n",
            "|dc63e448-4908-453...|2022-07-16 23:57:53|transaction|          57176|         786839|   138531.541359864|     RWF|370925|2022-07-16|\n",
            "|6331dd00-a620-470...|2021-10-22 01:24:00|transaction|          63424|         973918|8.09344558708891E13|     VEF|277313|2021-10-22|\n",
            "|26a1e92a-015b-4d8...|2022-09-03 02:43:02|transaction|         463823|         518240|7.92629536343584E10|     GGP|161630|2022-09-03|\n",
            "|180140c0-9b87-442...|2023-04-12 04:18:29|transaction|         664143|         745756|   626999.946692953|     TOP|363206|2023-04-12|\n",
            "|57ef42e6-616a-4b1...|2020-10-19 08:51:05|transaction|         983140|         852368|    24.749154353807|     UYU|371428|2020-10-19|\n",
            "|5f834108-b385-444...|2020-09-18 15:50:04|transaction|         192699|         250085|   4.842106726153E9|     CUC|832619|2020-09-18|\n",
            "|935e313c-0fb7-49f...|2020-08-20 08:55:40|transaction|         408391|         975331|    9.5792951339355|     QAR|519854|2020-08-20|\n",
            "|fc469ecb-461b-4f4...|2023-01-14 09:37:34|transaction|         665873|         536929|4.13492406363948E13|     CVE|993834|2023-01-14|\n",
            "|0d45721c-2035-417...|2020-12-20 15:53:42|transaction|         129003|         476159|   90314.8267126661|     BRL|924439|2020-12-20|\n",
            "|5558232f-deb8-4ff...|2022-03-03 10:39:57|transaction|         312220|         113228| 5.53353307428518E7|     SRD|789060|2022-03-03|\n",
            "|d246b53e-a066-459...|2022-07-05 14:21:35|transaction|          77707|         497470|6.04699664861236E11|     LRD|646686|2022-07-05|\n",
            "|bd704ccf-0391-4f4...|2022-11-22 03:47:40|transaction|         236306|         701464|    6.9513567927068|     AMD| 59896|2022-11-22|\n",
            "|d11de20d-4e16-452...|2021-07-15 20:27:47|transaction|         168799|         749285|    6513805.3290262|     CZK|163250|2021-07-15|\n",
            "|8a302bba-ebf9-434...|2021-07-15 06:21:17|transaction|         429727|         746755| 6.4340523163074E11|     SHP|130679|2021-07-15|\n",
            "|c987614d-b18c-487...|2023-02-21 12:29:37|transaction|         996365|         688245|   19.4825587351398|     TND|188279|2023-02-21|\n",
            "|3b683ea6-2990-48e...|2021-04-26 21:15:24|transaction|         993987|         538515|    86793.855382053|     NIS|526795|2021-04-26|\n",
            "|16955ee8-1d46-4dc...|2021-04-26 17:53:12|transaction|         911949|         893477|   991.591718806487|     LSL|327036|2021-04-26|\n",
            "+--------------------+-------------------+-----------+---------------+---------------+-------------------+--------+------+----------+\n",
            "only showing top 20 rows\n",
            "\n"
          ]
        }
      ]
    },
    {
      "cell_type": "code",
      "source": [
        "trusted_transaction_events.count()"
      ],
      "metadata": {
        "colab": {
          "base_uri": "https://localhost:8080/"
        },
        "id": "cxlhPoW1Si_S",
        "outputId": "59ad87c4-dfa7-42a1-8627-8beb0757b4b4"
      },
      "execution_count": 45,
      "outputs": [
        {
          "output_type": "execute_result",
          "data": {
            "text/plain": [
              "523"
            ]
          },
          "metadata": {},
          "execution_count": 45
        }
      ]
    },
    {
      "cell_type": "code",
      "source": [
        "trusted_account_events = spark.read.parquet('work/data/trusted/events/event_type=account-status-change')\n",
        "trusted_account_events.show()"
      ],
      "metadata": {
        "colab": {
          "base_uri": "https://localhost:8080/"
        },
        "id": "l5ZPJWHB_FaC",
        "outputId": "a8bd4514-328e-443e-ab79-5c14fcd0a484"
      },
      "execution_count": 46,
      "outputs": [
        {
          "output_type": "stream",
          "name": "stdout",
          "text": [
            "+--------------------+-------------------+-------+------+----------+----------+--------------------+----------+\n",
            "|            event_id|          timestamp| domain|    id|new_status|old_status|              reason|       day|\n",
            "+--------------------+-------------------+-------+------+----------+----------+--------------------+----------+\n",
            "|b7c638b2-5cb1-440...|2021-01-01 00:10:00|account|989694|   BLOCKED| SUSPENDED|Former small poli...|2021-01-01|\n",
            "|2b58a0d5-459b-434...|2021-01-23 18:28:00|account|145771|   BLOCKED|    ACTIVE|Both relationship...|2021-01-23|\n",
            "|397ce6c9-8d98-486...|2022-10-18 17:57:53|account|540100| SUSPENDED|   BLOCKED|Exist agreement m...|2022-10-18|\n",
            "|251b3d2b-1e75-4cd...|2020-11-27 07:26:53|account|917054|   DELETED| SUSPENDED|Computer garden e...|2020-11-27|\n",
            "|ae1a431e-3c58-498...|2022-12-14 13:21:13|account|874415| SUSPENDED|  INACTIVE|Officer often fou...|2022-12-14|\n",
            "|fca5219e-8933-43f...|2023-07-05 10:41:27|account|789096|  INACTIVE|  INACTIVE|Specific product ...|2023-07-05|\n",
            "|f3581d64-80e4-45f...|2023-07-14 15:10:01|account|365198| SUSPENDED|  INACTIVE|Information wrong...|2023-07-14|\n",
            "|1151e9d7-63d4-46e...|2021-01-31 22:23:19|account|622417|   DELETED|   DELETED|Heavy serious est...|2021-01-31|\n",
            "|8b8d1256-ee98-400...|2022-05-04 04:43:47|account|914367|   DELETED|    ACTIVE|World shake every...|2022-05-04|\n",
            "|dac7652a-4642-4d9...|2020-10-11 09:59:49|account|645516| SUSPENDED|   DELETED|Focus certain lat...|2020-10-11|\n",
            "|793ad418-7133-456...|2022-04-08 19:27:33|account|479360| SUSPENDED|    ACTIVE|Identify magazine...|2022-04-08|\n",
            "|4eb87b90-81b7-404...|2021-01-16 12:33:24|account|560722| SUSPENDED|   DELETED|Traditional list ...|2021-01-16|\n",
            "|0c15b682-8b31-4ea...|2021-09-06 06:05:44|account|654306| SUSPENDED|   BLOCKED|Career financial ...|2021-09-06|\n",
            "|41f52e1c-6d3c-4a3...|2023-03-31 14:56:20|account|613595|   DELETED| SUSPENDED|Security draw sta...|2023-03-31|\n",
            "|034f8c94-4705-4c3...|2021-07-11 11:39:19|account|848567|  INACTIVE|   DELETED|Benefit forget pa...|2021-07-11|\n",
            "|4f80338e-97c5-40f...|2021-12-10 06:55:14|account|313739|   DELETED|   DELETED|Answer past life ...|2021-12-10|\n",
            "|f76589bd-0fb5-461...|2021-12-29 22:44:22|account|232305| SUSPENDED|   DELETED|Somebody safe law...|2021-12-29|\n",
            "|5164fe93-3f71-4a5...|2022-02-04 04:02:04|account|506685| SUSPENDED|   DELETED|Cold whole specif...|2022-02-04|\n",
            "|39798abb-aa0e-4fe...|2023-01-20 15:16:40|account|438925|   BLOCKED|   BLOCKED|Determine compare...|2023-01-20|\n",
            "|ff3062c3-4194-433...|2020-10-24 04:43:01|account|302593| SUSPENDED|   DELETED|Human there anyth...|2020-10-24|\n",
            "+--------------------+-------------------+-------+------+----------+----------+--------------------+----------+\n",
            "only showing top 20 rows\n",
            "\n"
          ]
        }
      ]
    },
    {
      "cell_type": "code",
      "source": [
        "trusted_account_events.count()"
      ],
      "metadata": {
        "colab": {
          "base_uri": "https://localhost:8080/"
        },
        "id": "iA5WDri3_dHc",
        "outputId": "b4180097-06e8-4c77-b896-e48d64d663a5"
      },
      "execution_count": 47,
      "outputs": [
        {
          "output_type": "execute_result",
          "data": {
            "text/plain": [
              "483"
            ]
          },
          "metadata": {},
          "execution_count": 47
        }
      ]
    },
    {
      "cell_type": "markdown",
      "source": [
        "## 7. Move raw data to processed data folder"
      ],
      "metadata": {
        "id": "BkWMqFgDjOfp"
      }
    },
    {
      "cell_type": "code",
      "source": [
        "!mv work/data/raw/events/* work/data/processed/events/\n",
        "!ls work/data/processed/events/ -la"
      ],
      "metadata": {
        "colab": {
          "base_uri": "https://localhost:8080/"
        },
        "id": "bIBLhklQh_eR",
        "outputId": "45821f09-b4d5-4c79-e873-8f1cf660b6aa"
      },
      "execution_count": 48,
      "outputs": [
        {
          "output_type": "stream",
          "name": "stdout",
          "text": [
            "total 428\n",
            "drwxr-xr-x 2 root root   4096 Jul 27 17:59 .\n",
            "drwxr-xr-x 3 root root   4096 Jul 27 16:28 ..\n",
            "-rw-r--r-- 1 root root 387821 Jul 27 16:28 fake_events_20230727162819.json\n",
            "-rw-r--r-- 1 root root  38965 Jul 27 16:30 fake_events_20230727163006.json\n"
          ]
        }
      ]
    }
  ]
}