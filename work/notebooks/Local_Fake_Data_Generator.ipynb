{
 "cells": [
  {
   "cell_type": "markdown",
   "id": "13c17833-ae7d-421d-a202-67f7bd6e15da",
   "metadata": {},
   "source": [
    "# Imports"
   ]
  },
  {
   "cell_type": "code",
   "execution_count": 1,
   "id": "b09f623a-a917-40b2-935e-9f3418eeb5d0",
   "metadata": {
    "tags": []
   },
   "outputs": [],
   "source": [
    "from faker import Faker\n",
    "from faker.providers import BaseProvider\n",
    "from datetime import datetime\n",
    "from json import dumps\n",
    "import pandas as pd\n",
    "import random\n",
    "import collections\n",
    "import glob\n",
    "import os"
   ]
  },
  {
   "cell_type": "markdown",
   "id": "c1271033-3194-4676-b653-7329269465bd",
   "metadata": {},
   "source": [
    "# Generating fake `event_id`: random UUIDs "
   ]
  },
  {
   "cell_type": "code",
   "execution_count": 2,
   "id": "fbb2e109-25d6-4b7d-9a2d-b27defaf30c7",
   "metadata": {},
   "outputs": [
    {
     "name": "stdout",
     "output_type": "stream",
     "text": [
      "d9410c8c-28d9-4884-9a29-5cb951e6b100\n"
     ]
    }
   ],
   "source": [
    "fake = Faker()\n",
    "Faker.seed(random.randrange(0, 99999999999999999999, 1))\n",
    "fake_event_id = fake.uuid4()\n",
    "print(fake_event_id)"
   ]
  },
  {
   "cell_type": "markdown",
   "id": "20155f18-3a4c-4ffc-ba04-cb2e68d1de4c",
   "metadata": {
    "tags": []
   },
   "source": [
    "# Generating fake `timestamp`: random timestamps with values until 3 years ago"
   ]
  },
  {
   "cell_type": "code",
   "execution_count": 3,
   "id": "05c17a17",
   "metadata": {},
   "outputs": [
    {
     "name": "stdout",
     "output_type": "stream",
     "text": [
      "2022-07-27T07:27:09\n"
     ]
    }
   ],
   "source": [
    "fake_timestamp = datetime.strftime(fake.date_time_between(start_date='-3y', end_date='now'),\"%Y-%m-%dT%H:%M:%S\")\n",
    "print(fake_timestamp)"
   ]
  },
  {
   "cell_type": "markdown",
   "id": "cf00e3d1-b80f-4f2b-80cc-1d9d38aedb62",
   "metadata": {
    "tags": []
   },
   "source": [
    "# Generating fake `domain`: random values based on valid grade names list"
   ]
  },
  {
   "cell_type": "code",
   "execution_count": 4,
   "id": "6f69aa9d-0b6b-4155-9d95-ffe79f430eb2",
   "metadata": {
    "tags": []
   },
   "outputs": [
    {
     "name": "stdout",
     "output_type": "stream",
     "text": [
      "transaction\n"
     ]
    }
   ],
   "source": [
    "class ProjectDomainProvider(BaseProvider):\n",
    "    def project_domain_name(self):\n",
    "        list_project_domain_names = ['account','transaction']\n",
    "        return random.choice(list_project_domain_names)\n",
    "\n",
    "fake.add_provider(ProjectDomainProvider)\n",
    "\n",
    "fake_project_domain_name = fake.project_domain_name()\n",
    "print(fake_project_domain_name)"
   ]
  },
  {
   "cell_type": "markdown",
   "id": "89e61378-9300-4c0e-b2a1-d548f3658d92",
   "metadata": {
    "tags": []
   },
   "source": [
    "# Generating fake `status`: random values based on list"
   ]
  },
  {
   "cell_type": "code",
   "execution_count": 5,
   "id": "38144fc2-3bdf-4cd2-aaba-f7387dc2749a",
   "metadata": {
    "tags": []
   },
   "outputs": [
    {
     "name": "stdout",
     "output_type": "stream",
     "text": [
      "DELETED\n"
     ]
    }
   ],
   "source": [
    "class StatusTypeProvider(BaseProvider):\n",
    "    def status_type(self):\n",
    "        list_status_types = ['ACTIVE','INACTIVE','SUSPENDED','BLOCKED', 'DELETED']\n",
    "        return random.choice(list_status_types)\n",
    "\n",
    "fake.add_provider(StatusTypeProvider)\n",
    "\n",
    "fake_status_type = fake.status_type()\n",
    "print(fake_status_type)"
   ]
  },
  {
   "cell_type": "markdown",
   "id": "daf470cd",
   "metadata": {},
   "source": [
    "# Generating custom fake `uuid`: random values based on list"
   ]
  },
  {
   "cell_type": "code",
   "execution_count": 6,
   "id": "bc529de4",
   "metadata": {},
   "outputs": [],
   "source": [
    "class CustomUUIDProvider(BaseProvider):\n",
    "    def custom_uuid(self):\n",
    "        list_uuids = [\n",
    "            '1a1a1a1a-1a1a-1a1a-1a1a-1a1a1a1a1a1a',\n",
    "            '2b2b2b2b-2b2b-2b2b-2b2b-2b2b2b2b2b2b'\n",
    "            ]\n",
    "        return random.choice(list_uuids)"
   ]
  },
  {
   "cell_type": "markdown",
   "id": "b71c70e2-9a78-4595-84fd-0c733c652e23",
   "metadata": {},
   "source": [
    "# Defining `write_fake_data` and `read_fake_data` functions"
   ]
  },
  {
   "cell_type": "code",
   "execution_count": 7,
   "id": "8aeda55c",
   "metadata": {},
   "outputs": [],
   "source": [
    "def write_fake_data(fake, length, destination_path, unique_uuid = True):\n",
    "\n",
    "    database = []\n",
    "    current_time = datetime.now().strftime(\"%Y%m%d%H%M%S\")\n",
    "    filename = 'fake_events_'+current_time\n",
    "\n",
    "    for x in range(length):\n",
    "        uuid = fake.uuid4() if unique_uuid else fake.custom_uuid()\n",
    "        project_domain_name = fake.project_domain_name()\n",
    "        event_type = project_domain_name + \"-status-change\"\n",
    "\n",
    "        database.append(collections.OrderedDict([\n",
    "            ('event_id', uuid),\n",
    "            ('timestamp', datetime.strftime(fake.date_time_between(start_date='-3y', end_date='now'),\"%Y-%m-%dT%H:%M:%S\")),\n",
    "            ('domain', project_domain_name),\n",
    "            ('event_type', event_type),\n",
    "            ('data', collections.OrderedDict([\n",
    "                ('id', fake.random_number(digits=6)),\n",
    "                ('old_status', fake.status_type()),\n",
    "                ('new_status', fake.status_type()),\n",
    "                ('reason', fake.sentence(nb_words=5))\n",
    "            ]))\n",
    "        ]))\n",
    "\n",
    "    with open('%s%s.json' % (destination_path, filename), 'w') as output:\n",
    "        output.write(dumps(database, indent=4, sort_keys=False, default=str))\n",
    "\n",
    "    print(\"Done.\")\n",
    "\n",
    "def read_fake_data(json_filepath):\n",
    "    json_files = [os.path.normpath(i) for i in glob.glob(json_filepath)]\n",
    "    df = pd.concat([pd.read_json(f) for f in json_files])\n",
    "    return df"
   ]
  },
  {
   "cell_type": "markdown",
   "id": "7768a0c8",
   "metadata": {},
   "source": [
    "# Writing and reading fake data"
   ]
  },
  {
   "cell_type": "code",
   "execution_count": 8,
   "id": "82a2a3c9",
   "metadata": {},
   "outputs": [],
   "source": [
    "def run(unique_uuid = True):\n",
    "    fake = Faker()\n",
    "    Faker.seed(random.randrange(0, 99999999999999999999, 1))\n",
    "    fake.add_provider(ProjectDomainProvider)\n",
    "    fake.add_provider(StatusTypeProvider)\n",
    "    fake.add_provider(CustomUUIDProvider)\n",
    "\n",
    "    length = 10\n",
    "    destination_path = 'C:/Users/Eder/Documents/EDER/projetos/pismo_recruiting_technical_case/work/data/raw/events/'\n",
    "    write_fake_data(fake, length, destination_path,unique_uuid)\n",
    "\n",
    "    json_filepath = destination_path+'*.json'\n",
    "    fake_data = read_fake_data(json_filepath)\n",
    "    print(fake_data)"
   ]
  },
  {
   "cell_type": "code",
   "execution_count": 9,
   "id": "2a05df7b",
   "metadata": {},
   "outputs": [
    {
     "name": "stdout",
     "output_type": "stream",
     "text": [
      "Done.\n",
      "                               event_id           timestamp       domain  \\\n",
      "0  bd59afd5-f34d-4fd9-a225-6e3105708a1f 2021-08-19 20:38:31      account   \n",
      "1  a4048d06-4978-43c1-9324-b66a5920c63a 2022-03-23 10:13:43  transaction   \n",
      "2  b38fc522-bdaf-4d1b-a189-59f5f4d12763 2021-03-11 17:28:24      account   \n",
      "3  d24bc668-664d-4ad7-ac09-277d3c41f3f8 2021-06-18 23:33:26  transaction   \n",
      "4  42995860-51b3-4c92-a87a-bcb01d6bc049 2021-11-17 00:47:35      account   \n",
      "5  18d88ff4-63b9-4e48-acf6-90031ce0494b 2023-05-31 14:23:17      account   \n",
      "6  e910c319-cfcd-482f-b750-e51aa38852fd 2021-05-29 06:03:49  transaction   \n",
      "7  323ebf7a-83c2-4fb4-81b1-11499e8baff9 2021-02-12 18:30:36      account   \n",
      "8  8caf9558-0696-4fcb-91e1-ad4b45d92cbe 2021-02-04 20:42:57  transaction   \n",
      "9  87eae111-5589-464e-b131-68f1c35f496c 2021-10-19 14:04:38      account   \n",
      "\n",
      "                  event_type  \\\n",
      "0      account-status-change   \n",
      "1  transaction-status-change   \n",
      "2      account-status-change   \n",
      "3  transaction-status-change   \n",
      "4      account-status-change   \n",
      "5      account-status-change   \n",
      "6  transaction-status-change   \n",
      "7      account-status-change   \n",
      "8  transaction-status-change   \n",
      "9      account-status-change   \n",
      "\n",
      "                                                data  \n",
      "0  {'id': 973158, 'old_status': 'BLOCKED', 'new_s...  \n",
      "1  {'id': 859058, 'old_status': 'SUSPENDED', 'new...  \n",
      "2  {'id': 237741, 'old_status': 'INACTIVE', 'new_...  \n",
      "3  {'id': 864385, 'old_status': 'DELETED', 'new_s...  \n",
      "4  {'id': 754988, 'old_status': 'INACTIVE', 'new_...  \n",
      "5  {'id': 407654, 'old_status': 'ACTIVE', 'new_st...  \n",
      "6  {'id': 367143, 'old_status': 'BLOCKED', 'new_s...  \n",
      "7  {'id': 170815, 'old_status': 'DELETED', 'new_s...  \n",
      "8  {'id': 571531, 'old_status': 'SUSPENDED', 'new...  \n",
      "9  {'id': 862829, 'old_status': 'DELETED', 'new_s...  \n"
     ]
    }
   ],
   "source": [
    "run()"
   ]
  },
  {
   "cell_type": "code",
   "execution_count": 11,
   "id": "64906f56",
   "metadata": {},
   "outputs": [
    {
     "name": "stdout",
     "output_type": "stream",
     "text": [
      "Done.\n",
      "                               event_id           timestamp       domain  \\\n",
      "0  2b2b2b2b-2b2b-2b2b-2b2b-2b2b2b2b2b2b 2022-09-17 06:45:48      account   \n",
      "1  2b2b2b2b-2b2b-2b2b-2b2b-2b2b2b2b2b2b 2020-12-01 18:41:47      account   \n",
      "2  1a1a1a1a-1a1a-1a1a-1a1a-1a1a1a1a1a1a 2020-10-18 19:36:53      account   \n",
      "3  2b2b2b2b-2b2b-2b2b-2b2b-2b2b2b2b2b2b 2023-01-01 13:12:16      account   \n",
      "4  2b2b2b2b-2b2b-2b2b-2b2b-2b2b2b2b2b2b 2021-09-27 17:55:07      account   \n",
      "5  2b2b2b2b-2b2b-2b2b-2b2b-2b2b2b2b2b2b 2021-04-05 00:10:46  transaction   \n",
      "6  1a1a1a1a-1a1a-1a1a-1a1a-1a1a1a1a1a1a 2023-07-07 10:32:12      account   \n",
      "7  2b2b2b2b-2b2b-2b2b-2b2b-2b2b2b2b2b2b 2022-04-29 19:01:50      account   \n",
      "8  2b2b2b2b-2b2b-2b2b-2b2b-2b2b2b2b2b2b 2022-05-24 23:29:52  transaction   \n",
      "9  2b2b2b2b-2b2b-2b2b-2b2b-2b2b2b2b2b2b 2021-12-09 23:37:08      account   \n",
      "0  1a1a1a1a-1a1a-1a1a-1a1a-1a1a1a1a1a1a 2022-08-16 07:50:27  transaction   \n",
      "1  2b2b2b2b-2b2b-2b2b-2b2b-2b2b2b2b2b2b 2023-03-04 21:44:03  transaction   \n",
      "2  2b2b2b2b-2b2b-2b2b-2b2b-2b2b2b2b2b2b 2022-10-19 05:40:00      account   \n",
      "3  1a1a1a1a-1a1a-1a1a-1a1a-1a1a1a1a1a1a 2023-05-04 10:17:00  transaction   \n",
      "4  2b2b2b2b-2b2b-2b2b-2b2b-2b2b2b2b2b2b 2021-11-04 04:23:14      account   \n",
      "5  1a1a1a1a-1a1a-1a1a-1a1a-1a1a1a1a1a1a 2022-11-01 19:36:02  transaction   \n",
      "6  2b2b2b2b-2b2b-2b2b-2b2b-2b2b2b2b2b2b 2021-10-27 11:16:13      account   \n",
      "7  1a1a1a1a-1a1a-1a1a-1a1a-1a1a1a1a1a1a 2020-09-16 21:27:39      account   \n",
      "8  2b2b2b2b-2b2b-2b2b-2b2b-2b2b2b2b2b2b 2021-07-10 13:35:20  transaction   \n",
      "9  1a1a1a1a-1a1a-1a1a-1a1a-1a1a1a1a1a1a 2023-06-26 09:43:08      account   \n",
      "\n",
      "                  event_type  \\\n",
      "0      account-status-change   \n",
      "1      account-status-change   \n",
      "2      account-status-change   \n",
      "3      account-status-change   \n",
      "4      account-status-change   \n",
      "5  transaction-status-change   \n",
      "6      account-status-change   \n",
      "7      account-status-change   \n",
      "8  transaction-status-change   \n",
      "9      account-status-change   \n",
      "0  transaction-status-change   \n",
      "1  transaction-status-change   \n",
      "2      account-status-change   \n",
      "3  transaction-status-change   \n",
      "4      account-status-change   \n",
      "5  transaction-status-change   \n",
      "6      account-status-change   \n",
      "7      account-status-change   \n",
      "8  transaction-status-change   \n",
      "9      account-status-change   \n",
      "\n",
      "                                                data  \n",
      "0  {'id': 278429, 'old_status': 'SUSPENDED', 'new...  \n",
      "1  {'id': 573224, 'old_status': 'DELETED', 'new_s...  \n",
      "2  {'id': 571892, 'old_status': 'ACTIVE', 'new_st...  \n",
      "3  {'id': 647951, 'old_status': 'ACTIVE', 'new_st...  \n",
      "4  {'id': 658674, 'old_status': 'INACTIVE', 'new_...  \n",
      "5  {'id': 63070, 'old_status': 'DELETED', 'new_st...  \n",
      "6  {'id': 624248, 'old_status': 'SUSPENDED', 'new...  \n",
      "7  {'id': 522342, 'old_status': 'DELETED', 'new_s...  \n",
      "8  {'id': 306068, 'old_status': 'BLOCKED', 'new_s...  \n",
      "9  {'id': 215038, 'old_status': 'ACTIVE', 'new_st...  \n",
      "0  {'id': 11418, 'old_status': 'DELETED', 'new_st...  \n",
      "1  {'id': 142481, 'old_status': 'INACTIVE', 'new_...  \n",
      "2  {'id': 73666, 'old_status': 'ACTIVE', 'new_sta...  \n",
      "3  {'id': 191917, 'old_status': 'DELETED', 'new_s...  \n",
      "4  {'id': 579487, 'old_status': 'INACTIVE', 'new_...  \n",
      "5  {'id': 490614, 'old_status': 'INACTIVE', 'new_...  \n",
      "6  {'id': 986611, 'old_status': 'SUSPENDED', 'new...  \n",
      "7  {'id': 871115, 'old_status': 'INACTIVE', 'new_...  \n",
      "8  {'id': 255409, 'old_status': 'INACTIVE', 'new_...  \n",
      "9  {'id': 607373, 'old_status': 'SUSPENDED', 'new...  \n"
     ]
    }
   ],
   "source": [
    "run(unique_uuid = False)"
   ]
  }
 ],
 "metadata": {
  "kernelspec": {
   "display_name": "Python 3 (ipykernel)",
   "language": "python",
   "name": "python3"
  },
  "language_info": {
   "codemirror_mode": {
    "name": "ipython",
    "version": 3
   },
   "file_extension": ".py",
   "mimetype": "text/x-python",
   "name": "python",
   "nbconvert_exporter": "python",
   "pygments_lexer": "ipython3",
   "version": "3.9.13"
  }
 },
 "nbformat": 4,
 "nbformat_minor": 5
}
