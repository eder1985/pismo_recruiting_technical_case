{
 "cells": [
  {
   "cell_type": "markdown",
   "id": "13c17833-ae7d-421d-a202-67f7bd6e15da",
   "metadata": {},
   "source": [
    "# Imports"
   ]
  },
  {
   "cell_type": "code",
   "execution_count": 50,
   "id": "b09f623a-a917-40b2-935e-9f3418eeb5d0",
   "metadata": {
    "tags": []
   },
   "outputs": [],
   "source": [
    "from faker import Faker\n",
    "from faker.providers import BaseProvider\n",
    "from datetime import datetime\n",
    "from json import dumps\n",
    "import pandas as pd\n",
    "import random\n",
    "import collections\n",
    "import glob\n",
    "import os"
   ]
  },
  {
   "cell_type": "markdown",
   "id": "c1271033-3194-4676-b653-7329269465bd",
   "metadata": {},
   "source": [
    "# Generating fake `event_id`: random UUIDs "
   ]
  },
  {
   "cell_type": "code",
   "execution_count": 51,
   "id": "fbb2e109-25d6-4b7d-9a2d-b27defaf30c7",
   "metadata": {},
   "outputs": [
    {
     "name": "stdout",
     "output_type": "stream",
     "text": [
      "c7963524-1397-4692-9314-b0f66e07552d\n"
     ]
    }
   ],
   "source": [
    "fake = Faker()\n",
    "Faker.seed(random.randrange(0, 99999999999999999999, 1))\n",
    "fake_event_id = fake.uuid4()\n",
    "print(fake_event_id)"
   ]
  },
  {
   "cell_type": "markdown",
   "id": "20155f18-3a4c-4ffc-ba04-cb2e68d1de4c",
   "metadata": {
    "tags": []
   },
   "source": [
    "# Generating fake `timestamp`: random timestamps with values until 3 years ago"
   ]
  },
  {
   "cell_type": "code",
   "execution_count": 52,
   "id": "05c17a17",
   "metadata": {},
   "outputs": [
    {
     "name": "stdout",
     "output_type": "stream",
     "text": [
      "2020-09-30T03:42:50\n"
     ]
    }
   ],
   "source": [
    "fake_timestamp = datetime.strftime(fake.date_time_between(start_date='-3y', end_date='now'),\"%Y-%m-%dT%H:%M:%S\")\n",
    "print(fake_timestamp)"
   ]
  },
  {
   "cell_type": "markdown",
   "id": "cf00e3d1-b80f-4f2b-80cc-1d9d38aedb62",
   "metadata": {
    "tags": []
   },
   "source": [
    "# Generating fake `domain`: random values based on valid grade names list"
   ]
  },
  {
   "cell_type": "code",
   "execution_count": 53,
   "id": "6f69aa9d-0b6b-4155-9d95-ffe79f430eb2",
   "metadata": {
    "tags": []
   },
   "outputs": [
    {
     "name": "stdout",
     "output_type": "stream",
     "text": [
      "transaction\n"
     ]
    }
   ],
   "source": [
    "class ProjectDomainProvider(BaseProvider):\n",
    "    def project_domain_name(self):\n",
    "        list_project_domain_names = ['account','transaction']\n",
    "        return random.choice(list_project_domain_names)\n",
    "\n",
    "fake.add_provider(ProjectDomainProvider)\n",
    "\n",
    "fake_project_domain_name = fake.project_domain_name()\n",
    "print(fake_project_domain_name)"
   ]
  },
  {
   "cell_type": "markdown",
   "id": "89e61378-9300-4c0e-b2a1-d548f3658d92",
   "metadata": {
    "tags": []
   },
   "source": [
    "# Generating fake `status`: random values based on list"
   ]
  },
  {
   "cell_type": "code",
   "execution_count": 54,
   "id": "38144fc2-3bdf-4cd2-aaba-f7387dc2749a",
   "metadata": {
    "tags": []
   },
   "outputs": [
    {
     "name": "stdout",
     "output_type": "stream",
     "text": [
      "INACTIVE\n"
     ]
    }
   ],
   "source": [
    "class StatusTypeProvider(BaseProvider):\n",
    "    def status_type(self):\n",
    "        list_status_types = ['ACTIVE','INACTIVE','SUSPENDED','BLOCKED', 'DELETED']\n",
    "        return random.choice(list_status_types)\n",
    "\n",
    "fake.add_provider(StatusTypeProvider)\n",
    "\n",
    "fake_status_type = fake.status_type()\n",
    "print(fake_status_type)"
   ]
  },
  {
   "cell_type": "markdown",
   "id": "daf470cd",
   "metadata": {},
   "source": [
    "# Generating custom fake `uuid`: random values based on list"
   ]
  },
  {
   "cell_type": "code",
   "execution_count": 55,
   "id": "bc529de4",
   "metadata": {},
   "outputs": [],
   "source": [
    "class CustomUUIDProvider(BaseProvider):\n",
    "    def custom_uuid(self):\n",
    "        list_uuids = [\n",
    "            '1a1a1a1a-1a1a-1a1a-1a1a-1a1a1a1a1a1a',\n",
    "            '2b2b2b2b-2b2b-2b2b-2b2b-2b2b2b2b2b2b',\n",
    "            '3c3c3c3c-3c3c-3c3c-3c3c-3c3c3c3c3c3c',\n",
    "            '4d4d4d4d-4d4d-4d4d-4d4d-4d4d4d4d4d4d', \n",
    "            '5e5e5e5e-5e5e-5e5e-5e5e-5e5e5e5e5e5e'\n",
    "            ]\n",
    "        return random.choice(list_uuids)"
   ]
  },
  {
   "cell_type": "markdown",
   "id": "b71c70e2-9a78-4595-84fd-0c733c652e23",
   "metadata": {},
   "source": [
    "# Defining `write_fake_data` and `read_fake_data` functions"
   ]
  },
  {
   "cell_type": "code",
   "execution_count": 56,
   "id": "8aeda55c",
   "metadata": {},
   "outputs": [],
   "source": [
    "def write_fake_data(fake, length, destination_path, unique_uuid = True):  \n",
    "\n",
    "    database = []\n",
    "    current_time = datetime.now().strftime(\"%Y%m%d%H%M%S\")\n",
    "    filename = 'fake_events_'+current_time\n",
    "\n",
    "    for x in range(length):\n",
    "        uuid = fake.uuid4() if unique_uuid else fake.custom_uuid()\n",
    "        database.append(collections.OrderedDict([\n",
    "            ('event_id', uuid),\n",
    "            ('timestamp', datetime.strftime(fake.date_time_between(start_date='-3y', end_date='now'),\"%Y-%m-%dT%H:%M:%S\")),\n",
    "            ('domain', fake.project_domain_name()),\n",
    "            ('event_type', \"status-change\"),\n",
    "            ('data', collections.OrderedDict([\n",
    "                ('id', fake.random_number(digits=6)),\n",
    "                ('old_status', fake.status_type()),\n",
    "                ('new_status', fake.status_type()),\n",
    "                ('reason', fake.sentence(nb_words=5))\n",
    "            ]))\n",
    "        ]))\n",
    "\n",
    "    with open('%s%s.json' % (destination_path, filename), 'w') as output:\n",
    "        output.write(dumps(database, indent=4, sort_keys=False, default=str))\n",
    "                \n",
    "    print(\"Done.\")\n",
    "\n",
    "def read_fake_data(json_filepath):\n",
    "    json_files = [os.path.normpath(i) for i in glob.glob(json_filepath)]\n",
    "    df = pd.concat([pd.read_json(f) for f in json_files])\n",
    "    return df"
   ]
  },
  {
   "cell_type": "markdown",
   "id": "7768a0c8",
   "metadata": {},
   "source": [
    "# Writing and reading fake data"
   ]
  },
  {
   "cell_type": "code",
   "execution_count": 57,
   "id": "82a2a3c9",
   "metadata": {},
   "outputs": [],
   "source": [
    "def run(unique_uuid = True):\n",
    "    fake = Faker()\n",
    "    Faker.seed(random.randrange(0, 99999999999999999999, 1))\n",
    "    fake.add_provider(ProjectDomainProvider)\n",
    "    fake.add_provider(StatusTypeProvider)\n",
    "    fake.add_provider(CustomUUIDProvider)\n",
    "\n",
    "    length = 10\n",
    "    destination_path = 'C:/Users/Eder/Documents/EDER/projetos/pismo_recruiting_technical_case/work/data/input/'\n",
    "    write_fake_data(fake, length, destination_path,unique_uuid)\n",
    "\n",
    "    json_filepath = destination_path+'*.json'\n",
    "    fake_data = read_fake_data(json_filepath)\n",
    "    print(fake_data)"
   ]
  },
  {
   "cell_type": "code",
   "execution_count": 61,
   "id": "2a05df7b",
   "metadata": {},
   "outputs": [
    {
     "name": "stdout",
     "output_type": "stream",
     "text": [
      "Done.\n",
      "                               event_id           timestamp       domain  \\\n",
      "0  9debcba6-83b4-4308-99d9-b24b624d5253 2020-10-16 17:11:31      account   \n",
      "1  2cba02a0-b0fb-4098-956d-1b2fed98936e 2020-12-27 21:13:15      account   \n",
      "2  9168b868-3409-4050-959c-c00201a68ee4 2022-04-19 17:57:59      account   \n",
      "3  39178f86-8589-4fb7-be07-67c9eb0ca297 2023-05-28 06:49:45  transaction   \n",
      "4  c901596c-b8f4-486c-bf65-5ef24c7eaa47 2023-05-06 16:46:24  transaction   \n",
      "5  9aeafe7a-d85f-49a6-97d3-bcabc85db4a5 2021-10-06 08:20:45  transaction   \n",
      "6  b4e6c3d0-0ac8-411c-a585-afd7d9d5594a 2020-11-03 06:56:34  transaction   \n",
      "7  0680e9c5-cff3-40e4-a02a-ba822e0abb00 2022-05-24 23:03:26      account   \n",
      "8  61f09824-fc6b-486d-a8a3-091f1255994b 2022-02-10 19:32:23      account   \n",
      "9  b85674cc-f983-485f-8740-c999c4caaaca 2023-05-07 16:22:23  transaction   \n",
      "\n",
      "      event_type                                               data  \n",
      "0  status-change  {'id': 751464, 'old_status': 'ACTIVE', 'new_st...  \n",
      "1  status-change  {'id': 420198, 'old_status': 'SUSPENDED', 'new...  \n",
      "2  status-change  {'id': 325322, 'old_status': 'DELETED', 'new_s...  \n",
      "3  status-change  {'id': 957887, 'old_status': 'INACTIVE', 'new_...  \n",
      "4  status-change  {'id': 772062, 'old_status': 'BLOCKED', 'new_s...  \n",
      "5  status-change  {'id': 761293, 'old_status': 'ACTIVE', 'new_st...  \n",
      "6  status-change  {'id': 43057, 'old_status': 'DELETED', 'new_st...  \n",
      "7  status-change  {'id': 323835, 'old_status': 'INACTIVE', 'new_...  \n",
      "8  status-change  {'id': 161425, 'old_status': 'DELETED', 'new_s...  \n",
      "9  status-change  {'id': 595963, 'old_status': 'BLOCKED', 'new_s...  \n"
     ]
    }
   ],
   "source": [
    "run()"
   ]
  },
  {
   "cell_type": "code",
   "execution_count": 62,
   "id": "64906f56",
   "metadata": {},
   "outputs": [
    {
     "name": "stdout",
     "output_type": "stream",
     "text": [
      "Done.\n",
      "                               event_id           timestamp       domain  \\\n",
      "0  9debcba6-83b4-4308-99d9-b24b624d5253 2020-10-16 17:11:31      account   \n",
      "1  2cba02a0-b0fb-4098-956d-1b2fed98936e 2020-12-27 21:13:15      account   \n",
      "2  9168b868-3409-4050-959c-c00201a68ee4 2022-04-19 17:57:59      account   \n",
      "3  39178f86-8589-4fb7-be07-67c9eb0ca297 2023-05-28 06:49:45  transaction   \n",
      "4  c901596c-b8f4-486c-bf65-5ef24c7eaa47 2023-05-06 16:46:24  transaction   \n",
      "5  9aeafe7a-d85f-49a6-97d3-bcabc85db4a5 2021-10-06 08:20:45  transaction   \n",
      "6  b4e6c3d0-0ac8-411c-a585-afd7d9d5594a 2020-11-03 06:56:34  transaction   \n",
      "7  0680e9c5-cff3-40e4-a02a-ba822e0abb00 2022-05-24 23:03:26      account   \n",
      "8  61f09824-fc6b-486d-a8a3-091f1255994b 2022-02-10 19:32:23      account   \n",
      "9  b85674cc-f983-485f-8740-c999c4caaaca 2023-05-07 16:22:23  transaction   \n",
      "0  4d4d4d4d-4d4d-4d4d-4d4d-4d4d4d4d4d4d 2021-03-16 14:34:00  transaction   \n",
      "1  4d4d4d4d-4d4d-4d4d-4d4d-4d4d4d4d4d4d 2020-09-21 14:29:11  transaction   \n",
      "2  2b2b2b2b-2b2b-2b2b-2b2b-2b2b2b2b2b2b 2020-09-24 13:00:17  transaction   \n",
      "3  1a1a1a1a-1a1a-1a1a-1a1a-1a1a1a1a1a1a 2023-01-24 20:56:14      account   \n",
      "4  4d4d4d4d-4d4d-4d4d-4d4d-4d4d4d4d4d4d 2023-06-28 00:17:32      account   \n",
      "5  1a1a1a1a-1a1a-1a1a-1a1a-1a1a1a1a1a1a 2023-03-27 03:10:50  transaction   \n",
      "6  1a1a1a1a-1a1a-1a1a-1a1a-1a1a1a1a1a1a 2020-08-09 22:38:41      account   \n",
      "7  3c3c3c3c-3c3c-3c3c-3c3c-3c3c3c3c3c3c 2022-03-14 11:49:20      account   \n",
      "8  1a1a1a1a-1a1a-1a1a-1a1a-1a1a1a1a1a1a 2022-10-22 20:04:24      account   \n",
      "9  2b2b2b2b-2b2b-2b2b-2b2b-2b2b2b2b2b2b 2023-03-20 04:41:50  transaction   \n",
      "\n",
      "      event_type                                               data  \n",
      "0  status-change  {'id': 751464, 'old_status': 'ACTIVE', 'new_st...  \n",
      "1  status-change  {'id': 420198, 'old_status': 'SUSPENDED', 'new...  \n",
      "2  status-change  {'id': 325322, 'old_status': 'DELETED', 'new_s...  \n",
      "3  status-change  {'id': 957887, 'old_status': 'INACTIVE', 'new_...  \n",
      "4  status-change  {'id': 772062, 'old_status': 'BLOCKED', 'new_s...  \n",
      "5  status-change  {'id': 761293, 'old_status': 'ACTIVE', 'new_st...  \n",
      "6  status-change  {'id': 43057, 'old_status': 'DELETED', 'new_st...  \n",
      "7  status-change  {'id': 323835, 'old_status': 'INACTIVE', 'new_...  \n",
      "8  status-change  {'id': 161425, 'old_status': 'DELETED', 'new_s...  \n",
      "9  status-change  {'id': 595963, 'old_status': 'BLOCKED', 'new_s...  \n",
      "0  status-change  {'id': 411496, 'old_status': 'BLOCKED', 'new_s...  \n",
      "1  status-change  {'id': 431230, 'old_status': 'INACTIVE', 'new_...  \n",
      "2  status-change  {'id': 199571, 'old_status': 'SUSPENDED', 'new...  \n",
      "3  status-change  {'id': 197030, 'old_status': 'INACTIVE', 'new_...  \n",
      "4  status-change  {'id': 130910, 'old_status': 'ACTIVE', 'new_st...  \n",
      "5  status-change  {'id': 871385, 'old_status': 'INACTIVE', 'new_...  \n",
      "6  status-change  {'id': 656675, 'old_status': 'DELETED', 'new_s...  \n",
      "7  status-change  {'id': 33982, 'old_status': 'BLOCKED', 'new_st...  \n",
      "8  status-change  {'id': 372705, 'old_status': 'BLOCKED', 'new_s...  \n",
      "9  status-change  {'id': 215123, 'old_status': 'BLOCKED', 'new_s...  \n"
     ]
    }
   ],
   "source": [
    "run(unique_uuid = False)"
   ]
  }
 ],
 "metadata": {
  "kernelspec": {
   "display_name": "Python 3 (ipykernel)",
   "language": "python",
   "name": "python3"
  },
  "language_info": {
   "codemirror_mode": {
    "name": "ipython",
    "version": 3
   },
   "file_extension": ".py",
   "mimetype": "text/x-python",
   "name": "python",
   "nbconvert_exporter": "python",
   "pygments_lexer": "ipython3",
   "version": "3.9.13"
  }
 },
 "nbformat": 4,
 "nbformat_minor": 5
}
