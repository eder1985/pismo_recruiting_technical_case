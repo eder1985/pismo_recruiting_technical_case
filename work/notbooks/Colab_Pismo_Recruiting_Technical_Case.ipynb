{
  "nbformat": 4,
  "nbformat_minor": 0,
  "metadata": {
    "colab": {
      "provenance": [],
      "collapsed_sections": [
        "yXufyZSDnPEX",
        "13c17833-ae7d-421d-a202-67f7bd6e15da",
        "c1271033-3194-4676-b653-7329269465bd",
        "20155f18-3a4c-4ffc-ba04-cb2e68d1de4c",
        "89e61378-9300-4c0e-b2a1-d548f3658d92",
        "daf470cd",
        "b8ovekGDVPXJ",
        "qDxe9aMmVayK"
      ],
      "include_colab_link": true
    },
    "kernelspec": {
      "display_name": "Python 3",
      "language": "python",
      "name": "python3"
    },
    "language_info": {
      "codemirror_mode": {
        "name": "ipython",
        "version": 3
      },
      "file_extension": ".py",
      "mimetype": "text/x-python",
      "name": "python",
      "nbconvert_exporter": "python",
      "pygments_lexer": "ipython3",
      "version": "3.6.5"
    }
  },
  "cells": [
    {
      "cell_type": "markdown",
      "metadata": {
        "id": "view-in-github",
        "colab_type": "text"
      },
      "source": [
        "<a href=\"https://colab.research.google.com/github/eder1985/pismo_recruiting_technical_case/blob/main/work/notbooks/Colab_Pismo_Recruiting_Technical_Case.ipynb\" target=\"_parent\"><img src=\"https://colab.research.google.com/assets/colab-badge.svg\" alt=\"Open In Colab\"/></a>"
      ]
    },
    {
      "cell_type": "markdown",
      "metadata": {
        "id": "iox_ufgbqDXa"
      },
      "source": [
        "<h1><center>Pismo Recruiting Technical Case</center></h1>\n",
        "\n",
        "---\n",
        "\n"
      ]
    },
    {
      "cell_type": "markdown",
      "metadata": {
        "id": "FFnYZltvqLgt"
      },
      "source": [
        "## Objective\n",
        "The objective of this notebook is to:\n",
        "><li>Give a proper understanding about the different PySpark functions available. </li>\n",
        "><li>A short introduction to Google Colab, as that is the platform on which this notebook is written on. </li>\n",
        "\n",
        "Once you complete this notebook, you should be able to write pyspark programs in an efficent way. The ideal way to use this is by going through the examples given and then trying them on Colab. At the end there are a few hands on questions which you can use to evaluate yourself."
      ]
    },
    {
      "cell_type": "markdown",
      "source": [
        "## 1. Pre-requisites"
      ],
      "metadata": {
        "id": "JCAgeiPdnkA2"
      }
    },
    {
      "cell_type": "markdown",
      "metadata": {
        "id": "Dd6t0uFzuR4X"
      },
      "source": [
        "### Installing Spark"
      ]
    },
    {
      "cell_type": "markdown",
      "metadata": {
        "id": "6apGVff5h4ca"
      },
      "source": [
        "Install Dependencies:\n",
        "\n",
        "\n",
        "1.   Java 8\n",
        "2.   Apache Spark with hadoop and\n",
        "3.   Findspark (used to locate the spark in the system)\n"
      ]
    },
    {
      "cell_type": "code",
      "metadata": {
        "id": "tt7ZS1_wGgjn"
      },
      "source": [
        "!apt-get install openjdk-8-jdk-headless -qq > /dev/null\n",
        "!wget -q http://archive.apache.org/dist/spark/spark-3.1.1/spark-3.1.1-bin-hadoop3.2.tgz\n",
        "!tar xf spark-3.1.1-bin-hadoop3.2.tgz\n",
        "!pip install -q findspark"
      ],
      "execution_count": 1,
      "outputs": []
    },
    {
      "cell_type": "markdown",
      "metadata": {
        "id": "C3x0ZRLxjMVr"
      },
      "source": [
        "Set Environment Variables:"
      ]
    },
    {
      "cell_type": "code",
      "metadata": {
        "id": "sdOOq4twHN1K"
      },
      "source": [
        "import os\n",
        "os.environ[\"JAVA_HOME\"] = \"/usr/lib/jvm/java-8-openjdk-amd64\"\n",
        "os.environ[\"SPARK_HOME\"] = \"/content/spark-3.1.1-bin-hadoop3.2\""
      ],
      "execution_count": 2,
      "outputs": []
    },
    {
      "cell_type": "code",
      "metadata": {
        "id": "3ACYMwhgHTYz",
        "colab": {
          "base_uri": "https://localhost:8080/"
        },
        "outputId": "ff959f71-3b09-4c32-d10b-eefbfb583a9a"
      },
      "source": [
        "!ls"
      ],
      "execution_count": 3,
      "outputs": [
        {
          "output_type": "stream",
          "name": "stdout",
          "text": [
            "sample_data  spark-3.1.1-bin-hadoop3.2\tspark-3.1.1-bin-hadoop3.2.tgz\n"
          ]
        }
      ]
    },
    {
      "cell_type": "code",
      "metadata": {
        "id": "KR1zLBk1998Z",
        "colab": {
          "base_uri": "https://localhost:8080/",
          "height": 219
        },
        "outputId": "bc40aa80-1070-431f-f4b5-53d15a1ca088"
      },
      "source": [
        "import findspark\n",
        "findspark.init()\n",
        "\n",
        "from pyspark.sql import SparkSession\n",
        "from pyspark.sql.functions import *\n",
        "\n",
        "spark = SparkSession.builder.master(\"local[*]\").getOrCreate()\n",
        "spark.conf.set(\"spark.sql.repl.eagerEval.enabled\", True) # Property used to format output tables better\n",
        "spark"
      ],
      "execution_count": 20,
      "outputs": [
        {
          "output_type": "execute_result",
          "data": {
            "text/plain": [
              "<pyspark.sql.session.SparkSession at 0x7bd9543c1e70>"
            ],
            "text/html": [
              "\n",
              "            <div>\n",
              "                <p><b>SparkSession - in-memory</b></p>\n",
              "                \n",
              "        <div>\n",
              "            <p><b>SparkContext</b></p>\n",
              "\n",
              "            <p><a href=\"http://a4ff1ae31e1a:4040\">Spark UI</a></p>\n",
              "\n",
              "            <dl>\n",
              "              <dt>Version</dt>\n",
              "                <dd><code>v3.1.1</code></dd>\n",
              "              <dt>Master</dt>\n",
              "                <dd><code>local[*]</code></dd>\n",
              "              <dt>AppName</dt>\n",
              "                <dd><code>pyspark-shell</code></dd>\n",
              "            </dl>\n",
              "        </div>\n",
              "        \n",
              "            </div>\n",
              "        "
            ]
          },
          "metadata": {},
          "execution_count": 20
        }
      ]
    },
    {
      "cell_type": "markdown",
      "source": [
        "### Creating data folders"
      ],
      "metadata": {
        "id": "2FEYvFYKGANl"
      }
    },
    {
      "cell_type": "code",
      "source": [
        "!mkdir -p work/data/raw/events/\n",
        "!mkdir -p work/data/processed/events/\n",
        "!mkdir -p work/data/trusted/events/"
      ],
      "metadata": {
        "id": "_ipysz4fGTQm"
      },
      "execution_count": 5,
      "outputs": []
    },
    {
      "cell_type": "markdown",
      "metadata": {
        "id": "yXufyZSDnPEX"
      },
      "source": [
        "## 2. Generate Fake Data"
      ]
    },
    {
      "cell_type": "markdown",
      "source": [
        "### Installing libs"
      ],
      "metadata": {
        "id": "lFjhBqLzopOx"
      }
    },
    {
      "cell_type": "code",
      "source": [
        "!pip install -q faker"
      ],
      "metadata": {
        "colab": {
          "base_uri": "https://localhost:8080/"
        },
        "id": "qKtqR1_EotAp",
        "outputId": "ceef86bd-ce9d-4b34-a4f2-8dccbe5277a2"
      },
      "execution_count": 6,
      "outputs": [
        {
          "output_type": "stream",
          "name": "stdout",
          "text": [
            "\u001b[?25l     \u001b[90m━━━━━━━━━━━━━━━━━━━━━━━━━━━━━━━━━━━━━━━━\u001b[0m \u001b[32m0.0/1.7 MB\u001b[0m \u001b[31m?\u001b[0m eta \u001b[36m-:--:--\u001b[0m\r\u001b[2K     \u001b[91m━━\u001b[0m\u001b[90m╺\u001b[0m\u001b[90m━━━━━━━━━━━━━━━━━━━━━━━━━━━━━━━━━━━━━\u001b[0m \u001b[32m0.1/1.7 MB\u001b[0m \u001b[31m2.7 MB/s\u001b[0m eta \u001b[36m0:00:01\u001b[0m\r\u001b[2K     \u001b[91m━━━━━━━━━━━\u001b[0m\u001b[90m╺\u001b[0m\u001b[90m━━━━━━━━━━━━━━━━━━━━━━━━━━━━\u001b[0m \u001b[32m0.5/1.7 MB\u001b[0m \u001b[31m7.3 MB/s\u001b[0m eta \u001b[36m0:00:01\u001b[0m\r\u001b[2K     \u001b[91m━━━━━━━━━━━━━━━━━━━━━━━━━\u001b[0m\u001b[90m╺\u001b[0m\u001b[90m━━━━━━━━━━━━━━\u001b[0m \u001b[32m1.1/1.7 MB\u001b[0m \u001b[31m10.5 MB/s\u001b[0m eta \u001b[36m0:00:01\u001b[0m\r\u001b[2K     \u001b[91m━━━━━━━━━━━━━━━━━━━━━━━━━━━━━━━━━━━━━━━\u001b[0m\u001b[91m╸\u001b[0m \u001b[32m1.7/1.7 MB\u001b[0m \u001b[31m13.1 MB/s\u001b[0m eta \u001b[36m0:00:01\u001b[0m\r\u001b[2K     \u001b[90m━━━━━━━━━━━━━━━━━━━━━━━━━━━━━━━━━━━━━━━━\u001b[0m \u001b[32m1.7/1.7 MB\u001b[0m \u001b[31m11.4 MB/s\u001b[0m eta \u001b[36m0:00:00\u001b[0m\n",
            "\u001b[?25h"
          ]
        }
      ]
    },
    {
      "cell_type": "markdown",
      "metadata": {
        "id": "13c17833-ae7d-421d-a202-67f7bd6e15da"
      },
      "source": [
        "### Imports"
      ]
    },
    {
      "cell_type": "code",
      "execution_count": 7,
      "metadata": {
        "tags": [],
        "id": "b09f623a-a917-40b2-935e-9f3418eeb5d0"
      },
      "outputs": [],
      "source": [
        "from faker import Faker\n",
        "from faker.providers import BaseProvider\n",
        "from datetime import datetime\n",
        "from json import dumps\n",
        "import pandas as pd\n",
        "import random\n",
        "import collections\n",
        "import glob\n",
        "import os"
      ]
    },
    {
      "cell_type": "markdown",
      "metadata": {
        "id": "c1271033-3194-4676-b653-7329269465bd"
      },
      "source": [
        "### Generating fake `event_id`: random UUIDs"
      ]
    },
    {
      "cell_type": "code",
      "execution_count": 8,
      "metadata": {
        "id": "fbb2e109-25d6-4b7d-9a2d-b27defaf30c7",
        "outputId": "88c76a99-829e-48a4-f006-e88f257ecb13",
        "colab": {
          "base_uri": "https://localhost:8080/"
        }
      },
      "outputs": [
        {
          "output_type": "stream",
          "name": "stdout",
          "text": [
            "c8d133ae-2da6-4400-b9d2-bf6d2ed4e6d6\n"
          ]
        }
      ],
      "source": [
        "fake = Faker()\n",
        "Faker.seed(random.randrange(0, 99999999999999999999, 1))\n",
        "fake_event_id = fake.uuid4()\n",
        "print(fake_event_id)"
      ]
    },
    {
      "cell_type": "markdown",
      "metadata": {
        "tags": [],
        "id": "20155f18-3a4c-4ffc-ba04-cb2e68d1de4c"
      },
      "source": [
        "### Generating fake `timestamp`: random timestamps with values until 3 years ago"
      ]
    },
    {
      "cell_type": "code",
      "execution_count": 9,
      "metadata": {
        "id": "05c17a17",
        "outputId": "e5f2c247-b956-4b9c-9fad-c8e29080892f",
        "colab": {
          "base_uri": "https://localhost:8080/"
        }
      },
      "outputs": [
        {
          "output_type": "stream",
          "name": "stdout",
          "text": [
            "2022-04-17T19:26:20\n"
          ]
        }
      ],
      "source": [
        "fake_timestamp = datetime.strftime(fake.date_time_between(start_date='-3y', end_date='now'),\"%Y-%m-%dT%H:%M:%S\")\n",
        "print(fake_timestamp)"
      ]
    },
    {
      "cell_type": "markdown",
      "metadata": {
        "tags": [],
        "id": "89e61378-9300-4c0e-b2a1-d548f3658d92"
      },
      "source": [
        "### Generating fake `status`: random values based on list"
      ]
    },
    {
      "cell_type": "code",
      "execution_count": 10,
      "metadata": {
        "tags": [],
        "id": "38144fc2-3bdf-4cd2-aaba-f7387dc2749a",
        "outputId": "bc6c3553-c6b7-4d34-ae06-f9b499f99969",
        "colab": {
          "base_uri": "https://localhost:8080/"
        }
      },
      "outputs": [
        {
          "output_type": "stream",
          "name": "stdout",
          "text": [
            "SUSPENDED\n"
          ]
        }
      ],
      "source": [
        "class StatusTypeProvider(BaseProvider):\n",
        "    def status_type(self):\n",
        "        list_status_types = ['ACTIVE','INACTIVE','SUSPENDED','BLOCKED', 'DELETED']\n",
        "        return random.choice(list_status_types)\n",
        "\n",
        "fake.add_provider(StatusTypeProvider)\n",
        "\n",
        "fake_status_type = fake.status_type()\n",
        "print(fake_status_type)"
      ]
    },
    {
      "cell_type": "markdown",
      "metadata": {
        "id": "daf470cd"
      },
      "source": [
        "### Generating custom fake `uuid`: random values based on list\n",
        "\n"
      ]
    },
    {
      "cell_type": "code",
      "execution_count": 11,
      "metadata": {
        "id": "bc529de4"
      },
      "outputs": [],
      "source": [
        "class CustomUUIDProvider(BaseProvider):\n",
        "    def custom_uuid(self):\n",
        "        list_uuids = [\n",
        "            '1a1a1a1a-1a1a-1a1a-1a1a-1a1a1a1a1a1a',\n",
        "            '2b2b2b2b-2b2b-2b2b-2b2b-2b2b2b2b2b2b'\n",
        "            ]\n",
        "        return random.choice(list_uuids)"
      ]
    },
    {
      "cell_type": "markdown",
      "source": [
        "### Generating custom fake `event_type`: random values based on list\n"
      ],
      "metadata": {
        "id": "b8ovekGDVPXJ"
      }
    },
    {
      "cell_type": "code",
      "source": [
        "class EventTypeProvider(BaseProvider):\n",
        "    def event_type(self):\n",
        "        list_event_types = ['account-status-change','transaction-new-value']\n",
        "        return random.choice(list_event_types)\n",
        "\n",
        "fake.add_provider(EventTypeProvider)\n",
        "\n",
        "fake_event_type = fake.event_type()\n",
        "print(fake_event_type)"
      ],
      "metadata": {
        "colab": {
          "base_uri": "https://localhost:8080/"
        },
        "id": "tF37ArUqPIia",
        "outputId": "8cb8174d-b9cf-493e-8bbd-00fec1f3dc3f"
      },
      "execution_count": 12,
      "outputs": [
        {
          "output_type": "stream",
          "name": "stdout",
          "text": [
            "account-status-change\n"
          ]
        }
      ]
    },
    {
      "cell_type": "markdown",
      "source": [
        "### Generating custom fake `data`: values based on dict"
      ],
      "metadata": {
        "id": "qDxe9aMmVayK"
      }
    },
    {
      "cell_type": "code",
      "source": [
        "class CustomDataProvider(BaseProvider):\n",
        "      def custom_data(self):\n",
        "        dict_data = {\n",
        "            \"account-status-change\": collections.OrderedDict([\n",
        "                ('id', fake.random_number(digits=6)),\n",
        "                ('old_status', fake.status_type()),\n",
        "                ('new_status', fake.status_type()),\n",
        "                ('reason', fake.sentence(nb_words=5))\n",
        "            ]),\n",
        "            \"transaction-new-value\": collections.OrderedDict([\n",
        "                ('id', fake.random_number(digits=6)),\n",
        "                ('account_orig_id', fake.random_number(digits=6)),\n",
        "                ('account_dest_id', fake.random_number(digits=6)),\n",
        "                ('amount', fake.pyfloat(positive=True)),\n",
        "                ('currency', fake.currency_code())\n",
        "            ])\n",
        "        }\n",
        "        return dict_data\n",
        "\n",
        "fake.add_provider(CustomDataProvider)\n",
        "\n",
        "fake_custom_data = fake.custom_data().get(fake.event_type())\n",
        "print(fake_custom_data)"
      ],
      "metadata": {
        "colab": {
          "base_uri": "https://localhost:8080/"
        },
        "id": "VTAwzRoVI1My",
        "outputId": "a9e68c3c-f413-406c-ffb9-8b41d45deab2"
      },
      "execution_count": 13,
      "outputs": [
        {
          "output_type": "stream",
          "name": "stdout",
          "text": [
            "OrderedDict([('id', 267296), ('account_orig_id', 684407), ('account_dest_id', 533302), ('amount', 4022317013.11924), ('currency', 'AWG')])\n"
          ]
        }
      ]
    },
    {
      "cell_type": "markdown",
      "metadata": {
        "id": "b71c70e2-9a78-4595-84fd-0c733c652e23"
      },
      "source": [
        "### Defining `write_fake_data` and `read_fake_data` functions"
      ]
    },
    {
      "cell_type": "code",
      "execution_count": 14,
      "metadata": {
        "id": "8aeda55c"
      },
      "outputs": [],
      "source": [
        "def write_fake_data(fake, length, destination_path, unique_uuid = True):\n",
        "\n",
        "    database = []\n",
        "    current_time = datetime.now().strftime(\"%Y%m%d%H%M%S\")\n",
        "    filename = 'fake_events_'+current_time\n",
        "\n",
        "    for x in range(length):\n",
        "        uuid = fake.uuid4() if unique_uuid else fake.custom_uuid()\n",
        "        event_type = fake.event_type()\n",
        "        project_domain_name = event_type.split('-')[0]\n",
        "\n",
        "        database.append(collections.OrderedDict([\n",
        "            ('event_id', uuid),\n",
        "            ('timestamp', datetime.strftime(fake.date_time_between(start_date='-3y', end_date='now'),\"%Y-%m-%dT%H:%M:%S\")),\n",
        "            ('domain', project_domain_name),\n",
        "            ('event_type', event_type),\n",
        "            ('data', fake.custom_data().get(event_type))\n",
        "        ]))\n",
        "\n",
        "    with open('%s%s.json' % (destination_path, filename), 'w') as output:\n",
        "        output.write(dumps(database, indent=4, sort_keys=False, default=str))\n",
        "\n",
        "    print(\"Done.\")\n",
        "\n",
        "def read_fake_data(json_filepath):\n",
        "    json_files = [os.path.normpath(i) for i in glob.glob(json_filepath)]\n",
        "    df = pd.concat([pd.read_json(f) for f in json_files])\n",
        "    return df"
      ]
    },
    {
      "cell_type": "markdown",
      "metadata": {
        "id": "7768a0c8"
      },
      "source": [
        "### Writing and reading fake data"
      ]
    },
    {
      "cell_type": "code",
      "execution_count": 15,
      "metadata": {
        "id": "82a2a3c9"
      },
      "outputs": [],
      "source": [
        "def run(length, unique_uuid = True):\n",
        "    fake = Faker()\n",
        "    Faker.seed(random.randrange(0, 99999999999999999999, 1))\n",
        "    fake.add_provider(StatusTypeProvider)\n",
        "    fake.add_provider(CustomUUIDProvider)\n",
        "    fake.add_provider(EventTypeProvider)\n",
        "    fake.add_provider(CustomDataProvider)\n",
        "\n",
        "    destination_path = 'work/data/raw/events/'\n",
        "    write_fake_data(fake, length, destination_path,unique_uuid)\n",
        "\n",
        "    json_filepath = destination_path+'*.json'\n",
        "    fake_data = read_fake_data(json_filepath)\n",
        "    print(fake_data)"
      ]
    },
    {
      "cell_type": "code",
      "execution_count": 16,
      "metadata": {
        "id": "2a05df7b",
        "outputId": "0d22fa29-b8e3-4b2f-c1c7-31d4cba72c5c",
        "colab": {
          "base_uri": "https://localhost:8080/"
        }
      },
      "outputs": [
        {
          "output_type": "stream",
          "name": "stdout",
          "text": [
            "Done.\n",
            "                                 event_id           timestamp       domain  \\\n",
            "0    440a6b7f-2186-47f3-bff2-5fc9a6eb74f9 2020-12-10 01:40:07      account   \n",
            "1    ee6fd071-20c4-4b6a-b0dc-47492d45f383 2022-04-14 01:26:11  transaction   \n",
            "2    151f094b-0c9a-4a09-b041-eafd14b068bd 2021-12-02 09:50:49      account   \n",
            "3    c29baf36-6206-49b8-8a99-db71a613b3bf 2022-11-29 08:13:38      account   \n",
            "4    d53f93a3-b2a9-498c-ae0a-28f3f7fc7f96 2021-01-25 01:21:50      account   \n",
            "..                                    ...                 ...          ...   \n",
            "995  092ab738-f08a-497b-b37c-6ccc1ef9702a 2021-12-21 08:55:55  transaction   \n",
            "996  4c08818f-99f0-48d0-897c-5711e95220c5 2022-06-23 00:50:28  transaction   \n",
            "997  5eceb16f-ff5a-460a-8f88-69413d649d2c 2022-11-08 04:10:47  transaction   \n",
            "998  29ff1726-e9a7-4bad-89d1-a24c3bc56578 2023-02-11 07:43:55      account   \n",
            "999  8d950701-c44c-4155-8205-a2eb211665cc 2022-10-08 06:30:46  transaction   \n",
            "\n",
            "                event_type                                               data  \n",
            "0    account-status-change  {'id': 454455, 'old_status': 'INACTIVE', 'new_...  \n",
            "1    transaction-new-value  {'id': 26561, 'account_orig_id': 660456, 'acco...  \n",
            "2    account-status-change  {'id': 297748, 'old_status': 'SUSPENDED', 'new...  \n",
            "3    account-status-change  {'id': 368899, 'old_status': 'BLOCKED', 'new_s...  \n",
            "4    account-status-change  {'id': 978402, 'old_status': 'ACTIVE', 'new_st...  \n",
            "..                     ...                                                ...  \n",
            "995  transaction-new-value  {'id': 389464, 'account_orig_id': 693832, 'acc...  \n",
            "996  transaction-new-value  {'id': 534344, 'account_orig_id': 588410, 'acc...  \n",
            "997  transaction-new-value  {'id': 40911, 'account_orig_id': 948380, 'acco...  \n",
            "998  account-status-change  {'id': 693167, 'old_status': 'SUSPENDED', 'new...  \n",
            "999  transaction-new-value  {'id': 351051, 'account_orig_id': 870106, 'acc...  \n",
            "\n",
            "[1000 rows x 5 columns]\n"
          ]
        }
      ],
      "source": [
        "run(1000)"
      ]
    },
    {
      "cell_type": "code",
      "execution_count": 17,
      "metadata": {
        "id": "64906f56",
        "outputId": "40dd7e7d-5990-4624-9dbc-bbc2b2dfad9f",
        "colab": {
          "base_uri": "https://localhost:8080/"
        }
      },
      "outputs": [
        {
          "output_type": "stream",
          "name": "stdout",
          "text": [
            "Done.\n",
            "                                 event_id           timestamp       domain  \\\n",
            "0    2b2b2b2b-2b2b-2b2b-2b2b-2b2b2b2b2b2b 2021-02-18 08:09:19  transaction   \n",
            "1    1a1a1a1a-1a1a-1a1a-1a1a-1a1a1a1a1a1a 2022-02-24 22:24:29  transaction   \n",
            "2    2b2b2b2b-2b2b-2b2b-2b2b-2b2b2b2b2b2b 2022-06-09 02:16:59  transaction   \n",
            "3    1a1a1a1a-1a1a-1a1a-1a1a-1a1a1a1a1a1a 2021-09-06 22:24:19      account   \n",
            "4    1a1a1a1a-1a1a-1a1a-1a1a-1a1a1a1a1a1a 2020-11-08 18:40:37  transaction   \n",
            "..                                    ...                 ...          ...   \n",
            "995  092ab738-f08a-497b-b37c-6ccc1ef9702a 2021-12-21 08:55:55  transaction   \n",
            "996  4c08818f-99f0-48d0-897c-5711e95220c5 2022-06-23 00:50:28  transaction   \n",
            "997  5eceb16f-ff5a-460a-8f88-69413d649d2c 2022-11-08 04:10:47  transaction   \n",
            "998  29ff1726-e9a7-4bad-89d1-a24c3bc56578 2023-02-11 07:43:55      account   \n",
            "999  8d950701-c44c-4155-8205-a2eb211665cc 2022-10-08 06:30:46  transaction   \n",
            "\n",
            "                event_type                                               data  \n",
            "0    transaction-new-value  {'id': 66225, 'account_orig_id': 244624, 'acco...  \n",
            "1    transaction-new-value  {'id': 32890, 'account_orig_id': 838953, 'acco...  \n",
            "2    transaction-new-value  {'id': 121836, 'account_orig_id': 929912, 'acc...  \n",
            "3    account-status-change  {'id': 981271, 'old_status': 'DELETED', 'new_s...  \n",
            "4    transaction-new-value  {'id': 577588, 'account_orig_id': 825391, 'acc...  \n",
            "..                     ...                                                ...  \n",
            "995  transaction-new-value  {'id': 389464, 'account_orig_id': 693832, 'acc...  \n",
            "996  transaction-new-value  {'id': 534344, 'account_orig_id': 588410, 'acc...  \n",
            "997  transaction-new-value  {'id': 40911, 'account_orig_id': 948380, 'acco...  \n",
            "998  account-status-change  {'id': 693167, 'old_status': 'SUSPENDED', 'new...  \n",
            "999  transaction-new-value  {'id': 351051, 'account_orig_id': 870106, 'acc...  \n",
            "\n",
            "[1010 rows x 5 columns]\n"
          ]
        }
      ],
      "source": [
        "run(10,unique_uuid = False)"
      ]
    },
    {
      "cell_type": "markdown",
      "metadata": {
        "id": "hmIqq6xPK7m7"
      },
      "source": [
        "## 3. Exploring the Raw Dataframe"
      ]
    },
    {
      "cell_type": "markdown",
      "metadata": {
        "id": "VZwsr57lwPgq"
      },
      "source": [
        "### Loading the Dataframe:\n",
        "\n",
        "- List raw json files\n",
        "- Define raw_events_schema with only StringType for not lost data\n",
        "- Load raw_events dataframe"
      ]
    },
    {
      "cell_type": "code",
      "metadata": {
        "id": "Wpq2jYvIMOJy",
        "colab": {
          "base_uri": "https://localhost:8080/"
        },
        "outputId": "f7bb280e-cb84-4b75-fe11-1b369d1012b7"
      },
      "source": [
        "!ls work/data/raw/events/ -la"
      ],
      "execution_count": 18,
      "outputs": [
        {
          "output_type": "stream",
          "name": "stdout",
          "text": [
            "total 392\n",
            "drwxr-xr-x 2 root root   4096 Jul 26 13:28 .\n",
            "drwxr-xr-x 3 root root   4096 Jul 26 13:26 ..\n",
            "-rw-r--r-- 1 root root 387403 Jul 26 13:28 fake_events_20230726132807.json\n",
            "-rw-r--r-- 1 root root   3877 Jul 26 13:28 fake_events_20230726132813.json\n"
          ]
        }
      ]
    },
    {
      "cell_type": "code",
      "source": [
        "\n",
        "from pyspark.sql.types import StructType,StructField, StringType\n",
        "\n",
        "raw_events_schema = StructType([\n",
        "      StructField(\"data\",StringType(),True),\n",
        "      StructField(\"domain\",StringType(),True),\n",
        "      StructField(\"event_id\",StringType(),True),\n",
        "      StructField(\"event_type\",StringType(),True),\n",
        "      StructField(\"timestamp\",StringType(),True)\n",
        "  ])"
      ],
      "metadata": {
        "id": "omRVi0RCd_ZU"
      },
      "execution_count": 45,
      "outputs": []
    },
    {
      "cell_type": "code",
      "metadata": {
        "id": "hz6ALr5mMqZt",
        "colab": {
          "base_uri": "https://localhost:8080/"
        },
        "outputId": "a504831b-660c-4031-8cd6-4c568736f77f"
      },
      "source": [
        "raw_events = spark.read.option(\"multiline\",\"true\").schema(raw_events_schema).json('work/data/raw/events/')\n",
        "raw_events.show(5, truncate = False)"
      ],
      "execution_count": 24,
      "outputs": [
        {
          "output_type": "stream",
          "name": "stdout",
          "text": [
            "+-----------------------------------------------------------------------------------------------------------+-----------+------------------------------------+---------------------+-------------------+\n",
            "|data                                                                                                       |domain     |event_id                            |event_type           |timestamp          |\n",
            "+-----------------------------------------------------------------------------------------------------------+-----------+------------------------------------+---------------------+-------------------+\n",
            "|{\"id\":454455,\"old_status\":\"INACTIVE\",\"new_status\":\"DELETED\",\"reason\":\"To product heavy probably suddenly.\"}|account    |440a6b7f-2186-47f3-bff2-5fc9a6eb74f9|account-status-change|2020-12-10T01:40:07|\n",
            "|{\"id\":26561,\"account_orig_id\":660456,\"account_dest_id\":532831,\"amount\":2.787653028486E11,\"currency\":\"XAF\"} |transaction|ee6fd071-20c4-4b6a-b0dc-47492d45f383|transaction-new-value|2022-04-14T01:26:11|\n",
            "|{\"id\":297748,\"old_status\":\"SUSPENDED\",\"new_status\":\"ACTIVE\",\"reason\":\"Interesting act challenge game.\"}    |account    |151f094b-0c9a-4a09-b041-eafd14b068bd|account-status-change|2021-12-02T09:50:49|\n",
            "|{\"id\":368899,\"old_status\":\"BLOCKED\",\"new_status\":\"ACTIVE\",\"reason\":\"Major smile check large name out.\"}    |account    |c29baf36-6206-49b8-8a99-db71a613b3bf|account-status-change|2022-11-29T08:13:38|\n",
            "|{\"id\":978402,\"old_status\":\"ACTIVE\",\"new_status\":\"DELETED\",\"reason\":\"Various Mr case.\"}                     |account    |d53f93a3-b2a9-498c-ae0a-28f3f7fc7f96|account-status-change|2021-01-25T01:21:50|\n",
            "+-----------------------------------------------------------------------------------------------------------+-----------+------------------------------------+---------------------+-------------------+\n",
            "only showing top 5 rows\n",
            "\n"
          ]
        }
      ]
    },
    {
      "cell_type": "code",
      "source": [
        "raw_events.count()"
      ],
      "metadata": {
        "colab": {
          "base_uri": "https://localhost:8080/"
        },
        "id": "IhOELKOjeJ_K",
        "outputId": "e19e7a9e-106e-453d-d2e5-22e30e077506"
      },
      "execution_count": 25,
      "outputs": [
        {
          "output_type": "execute_result",
          "data": {
            "text/plain": [
              "1010"
            ]
          },
          "metadata": {},
          "execution_count": 25
        }
      ]
    },
    {
      "cell_type": "markdown",
      "metadata": {
        "id": "3lfS2DhHuhPl"
      },
      "source": [
        "### Dataframe Raw Schema"
      ]
    },
    {
      "cell_type": "code",
      "metadata": {
        "id": "CCGTFlCWRPw4",
        "colab": {
          "base_uri": "https://localhost:8080/"
        },
        "outputId": "58b46291-6b42-4c61-81ce-0d1fc4bfd9c6"
      },
      "source": [
        "raw_events.printSchema()"
      ],
      "execution_count": 26,
      "outputs": [
        {
          "output_type": "stream",
          "name": "stdout",
          "text": [
            "root\n",
            " |-- data: string (nullable = true)\n",
            " |-- domain: string (nullable = true)\n",
            " |-- event_id: string (nullable = true)\n",
            " |-- event_type: string (nullable = true)\n",
            " |-- timestamp: string (nullable = true)\n",
            "\n"
          ]
        }
      ]
    },
    {
      "cell_type": "markdown",
      "source": [
        "## 4. Applying transformations"
      ],
      "metadata": {
        "id": "wTi73UPdNtEH"
      }
    },
    {
      "cell_type": "markdown",
      "source": [
        "### Columns transformations"
      ],
      "metadata": {
        "id": "ld3n1QtOOJth"
      }
    },
    {
      "cell_type": "code",
      "source": [
        "partial_events = raw_events\\\n",
        "  .withColumn(\"timestamp\",to_timestamp(\"timestamp\"))\\\n",
        "  .withColumn(\"day\",to_date(\"timestamp\"))"
      ],
      "metadata": {
        "id": "w3bLSJ8CDHeC"
      },
      "execution_count": 27,
      "outputs": []
    },
    {
      "cell_type": "code",
      "source": [
        "partial_events.printSchema()"
      ],
      "metadata": {
        "colab": {
          "base_uri": "https://localhost:8080/"
        },
        "id": "bXPssEQIDUok",
        "outputId": "6e1b22a9-5754-4e22-805e-9c06dd671b64"
      },
      "execution_count": 28,
      "outputs": [
        {
          "output_type": "stream",
          "name": "stdout",
          "text": [
            "root\n",
            " |-- data: string (nullable = true)\n",
            " |-- domain: string (nullable = true)\n",
            " |-- event_id: string (nullable = true)\n",
            " |-- event_type: string (nullable = true)\n",
            " |-- timestamp: timestamp (nullable = true)\n",
            " |-- day: date (nullable = true)\n",
            "\n"
          ]
        }
      ]
    },
    {
      "cell_type": "markdown",
      "source": [
        "### Drop duplicated events"
      ],
      "metadata": {
        "id": "o2YhR1zaPMPz"
      }
    },
    {
      "cell_type": "code",
      "source": [
        "from pyspark.sql.functions import countDistinct\n",
        "\n",
        "# Count\n",
        "partial_events.select(countDistinct(\"event_id\", \"event_type\").alias(\"distinct_events\")).show()\n"
      ],
      "metadata": {
        "colab": {
          "base_uri": "https://localhost:8080/"
        },
        "id": "m3CzLy3uPNTm",
        "outputId": "ede7d6d2-27f3-4a54-dc11-faf530d5114e"
      },
      "execution_count": 29,
      "outputs": [
        {
          "output_type": "stream",
          "name": "stdout",
          "text": [
            "+---------------+\n",
            "|distinct_events|\n",
            "+---------------+\n",
            "|           1003|\n",
            "+---------------+\n",
            "\n"
          ]
        }
      ]
    },
    {
      "cell_type": "code",
      "source": [
        "grouped_events = partial_events \\\n",
        "  .groupBy( \\\n",
        "      col(\"event_id\"), \\\n",
        "      col(\"event_type\")) \\\n",
        "  .agg( \\\n",
        "      max(col(\"timestamp\")))\n",
        "\n",
        "grouped_events.show(truncate = False)"
      ],
      "metadata": {
        "colab": {
          "base_uri": "https://localhost:8080/"
        },
        "id": "9qZgfsFaTXkz",
        "outputId": "148057b4-43d1-4f6d-acef-77453264767e"
      },
      "execution_count": 30,
      "outputs": [
        {
          "output_type": "stream",
          "name": "stdout",
          "text": [
            "+------------------------------------+---------------------+-------------------+\n",
            "|event_id                            |event_type           |max(timestamp)     |\n",
            "+------------------------------------+---------------------+-------------------+\n",
            "|ca46ac03-5e85-4f68-989d-7ab875365e68|transaction-new-value|2021-08-16 15:11:46|\n",
            "|54602ccc-22c5-4964-aa15-8c54afcd37a5|account-status-change|2020-08-13 22:31:54|\n",
            "|41e2c325-ed9a-4324-8d84-91c13fe7397e|account-status-change|2023-06-02 04:37:16|\n",
            "|3d6a0f50-fcf9-4f36-87f5-eed07e88b74f|account-status-change|2021-01-15 16:37:53|\n",
            "|524fc350-a248-4106-9b57-a8481d826322|transaction-new-value|2023-05-05 04:15:53|\n",
            "|a3795b5c-a0b3-4e49-863b-338b884fdd8a|transaction-new-value|2022-06-08 15:42:20|\n",
            "|713b7478-b734-4496-afe9-a5d5475b384a|transaction-new-value|2020-09-28 19:09:40|\n",
            "|b84c8fed-4c19-473d-96ec-3c3ac7dbce96|transaction-new-value|2022-06-18 07:16:17|\n",
            "|27d35379-c896-446b-96f4-d7eccad2d55c|account-status-change|2020-10-29 04:28:38|\n",
            "|19c556db-ffc6-4828-8406-16831dd5d67a|transaction-new-value|2022-11-26 21:36:12|\n",
            "|fd88d8f6-f8cc-492e-acc6-f4d95c3a9a20|account-status-change|2021-08-18 17:16:31|\n",
            "|607c7b7a-7d27-48d9-8849-7ed92dc47efc|account-status-change|2021-02-25 16:11:29|\n",
            "|3fc5b078-f9d3-4eef-a0ab-d11976e7e654|transaction-new-value|2023-06-06 14:27:36|\n",
            "|79252e8d-fd1b-4fc9-902d-ed49dcd30471|account-status-change|2021-01-28 02:24:51|\n",
            "|e2e2d960-5a96-4475-a23a-c5284dc0b3c2|account-status-change|2022-06-12 20:30:47|\n",
            "|79e3ec5c-efeb-4de3-a240-a2537f727547|account-status-change|2023-05-05 15:00:04|\n",
            "|6ac659a2-ca45-4890-9e11-0bcbf7de41c2|account-status-change|2021-01-18 06:18:02|\n",
            "|b3261262-6885-4aca-86f6-c1f17135bc4f|account-status-change|2022-04-26 12:50:02|\n",
            "|6e8a2a7f-4ae5-4297-b38b-deac99c4c698|transaction-new-value|2021-10-18 05:06:06|\n",
            "|a5706bde-b9e5-48a0-9cee-8b250181a022|account-status-change|2021-12-06 09:01:37|\n",
            "+------------------------------------+---------------------+-------------------+\n",
            "only showing top 20 rows\n",
            "\n"
          ]
        }
      ]
    },
    {
      "cell_type": "code",
      "source": [
        "final_events = grouped_events \\\n",
        "    .join(partial_events, [\"event_id\",\"event_type\"]) \\\n",
        "    .dropDuplicates([\"event_id\",\"event_type\"]) \\\n",
        "    .drop(\"timestamp\") \\\n",
        "    .withColumnRenamed(\"max(timestamp)\", \"timestamp\")\n",
        "final_events.show()"
      ],
      "metadata": {
        "colab": {
          "base_uri": "https://localhost:8080/"
        },
        "id": "DvCINDM_fBCH",
        "outputId": "79e419da-86da-4504-a9dd-7b8d7bc94a03"
      },
      "execution_count": 31,
      "outputs": [
        {
          "output_type": "stream",
          "name": "stdout",
          "text": [
            "+--------------------+--------------------+-------------------+--------------------+-----------+----------+\n",
            "|            event_id|          event_type|          timestamp|                data|     domain|       day|\n",
            "+--------------------+--------------------+-------------------+--------------------+-----------+----------+\n",
            "|3d6a0f50-fcf9-4f3...|account-status-ch...|2021-01-15 16:37:53|{\"id\":448893,\"old...|    account|2021-01-15|\n",
            "|41e2c325-ed9a-432...|account-status-ch...|2023-06-02 04:37:16|{\"id\":123927,\"old...|    account|2023-06-02|\n",
            "|54602ccc-22c5-496...|account-status-ch...|2020-08-13 22:31:54|{\"id\":760608,\"old...|    account|2020-08-13|\n",
            "|ca46ac03-5e85-4f6...|transaction-new-v...|2021-08-16 15:11:46|{\"id\":690905,\"acc...|transaction|2021-08-16|\n",
            "|27d35379-c896-446...|account-status-ch...|2020-10-29 04:28:38|{\"id\":248336,\"old...|    account|2020-10-29|\n",
            "|524fc350-a248-410...|transaction-new-v...|2023-05-05 04:15:53|{\"id\":889154,\"acc...|transaction|2023-05-05|\n",
            "|713b7478-b734-449...|transaction-new-v...|2020-09-28 19:09:40|{\"id\":241640,\"acc...|transaction|2020-09-28|\n",
            "|a3795b5c-a0b3-4e4...|transaction-new-v...|2022-06-08 15:42:20|{\"id\":479643,\"acc...|transaction|2022-06-08|\n",
            "|b84c8fed-4c19-473...|transaction-new-v...|2022-06-18 07:16:17|{\"id\":469244,\"acc...|transaction|2022-06-18|\n",
            "|19c556db-ffc6-482...|transaction-new-v...|2022-11-26 21:36:12|{\"id\":723140,\"acc...|transaction|2022-11-26|\n",
            "|3fc5b078-f9d3-4ee...|transaction-new-v...|2023-06-06 14:27:36|{\"id\":88642,\"acco...|transaction|2023-06-06|\n",
            "|607c7b7a-7d27-48d...|account-status-ch...|2021-02-25 16:11:29|{\"id\":542707,\"old...|    account|2021-02-25|\n",
            "|79252e8d-fd1b-4fc...|account-status-ch...|2021-01-28 02:24:51|{\"id\":417034,\"old...|    account|2021-01-28|\n",
            "|e2e2d960-5a96-447...|account-status-ch...|2022-06-12 20:30:47|{\"id\":860288,\"old...|    account|2022-06-12|\n",
            "|fd88d8f6-f8cc-492...|account-status-ch...|2021-08-18 17:16:31|{\"id\":537740,\"old...|    account|2021-08-18|\n",
            "|6ac659a2-ca45-489...|account-status-ch...|2021-01-18 06:18:02|{\"id\":908073,\"old...|    account|2021-01-18|\n",
            "|6e8a2a7f-4ae5-429...|transaction-new-v...|2021-10-18 05:06:06|{\"id\":441237,\"acc...|transaction|2021-10-18|\n",
            "|79e3ec5c-efeb-4de...|account-status-ch...|2023-05-05 15:00:04|{\"id\":819320,\"old...|    account|2023-05-05|\n",
            "|a5706bde-b9e5-48a...|account-status-ch...|2021-12-06 09:01:37|{\"id\":849414,\"old...|    account|2021-12-06|\n",
            "|b19b5f57-19d7-4af...|account-status-ch...|2022-09-19 04:22:33|{\"id\":67027,\"old_...|    account|2022-09-19|\n",
            "+--------------------+--------------------+-------------------+--------------------+-----------+----------+\n",
            "only showing top 20 rows\n",
            "\n"
          ]
        }
      ]
    },
    {
      "cell_type": "code",
      "source": [
        "final_events.count()"
      ],
      "metadata": {
        "colab": {
          "base_uri": "https://localhost:8080/"
        },
        "id": "EHh4FVNra9oj",
        "outputId": "5129fbb1-4d41-4cd3-de3d-3257b7d47015"
      },
      "execution_count": 32,
      "outputs": [
        {
          "output_type": "execute_result",
          "data": {
            "text/plain": [
              "1003"
            ]
          },
          "metadata": {},
          "execution_count": 32
        }
      ]
    },
    {
      "cell_type": "markdown",
      "source": [
        "## 5. Flatten `data` column by event-type\n",
        "\n",
        "> Each event-type has its own schema"
      ],
      "metadata": {
        "id": "C7MhyzpNiFye"
      }
    },
    {
      "cell_type": "code",
      "source": [
        "final_events.groupBy('event_type').agg(count(col('event_type'))).show(truncate=False)"
      ],
      "metadata": {
        "colab": {
          "base_uri": "https://localhost:8080/"
        },
        "id": "aSTpSNgZnphd",
        "outputId": "ae0969bb-cb5a-48e5-ed1c-e2b1bba498ee"
      },
      "execution_count": 41,
      "outputs": [
        {
          "output_type": "stream",
          "name": "stdout",
          "text": [
            "+---------------------+-----------------+\n",
            "|event_type           |count(event_type)|\n",
            "+---------------------+-----------------+\n",
            "|account-status-change|512              |\n",
            "|transaction-new-value|491              |\n",
            "+---------------------+-----------------+\n",
            "\n"
          ]
        }
      ]
    },
    {
      "cell_type": "code",
      "source": [
        "def distinct_values(df, col):\n",
        "    list_distinct_values = df.select(col).distinct().toPandas()[col].to_list()\n",
        "    return list_distinct_values\n",
        "\n",
        "def flatten_df(df):\n",
        "    json_schema = spark.read.json(df.rdd.map(lambda row: row.data)).schema\n",
        "    df2 = df.withColumn(\"data\", from_json(\"data\", json_schema))\n",
        "    col1 = df2.columns\n",
        "    col1.remove(\"data\")\n",
        "    col2 = df2.select(\"data.*\").columns\n",
        "    append_str =\"data.\"\n",
        "    col3 = [append_str + val for val in col2]\n",
        "    col_list = col1 + col3\n",
        "    df3 = df2.select(*col_list).drop(\"data\")\n",
        "    return df3\n",
        "\n",
        "def write_parquet_data(df):\n",
        "    df.printSchema()\n",
        "    df.write \\\n",
        "    .partitionBy(\"event_type\", \"day\") \\\n",
        "    .mode(\"append\") \\\n",
        "    .parquet(\"work/data/trusted/events/\")"
      ],
      "metadata": {
        "id": "_h22aGoZnM9x"
      },
      "execution_count": 67,
      "outputs": []
    },
    {
      "cell_type": "markdown",
      "source": [
        "## 6. Write transformed data in parquet format\n",
        "\n",
        "\n",
        "\n"
      ],
      "metadata": {
        "id": "uytFlYymN3uq"
      }
    },
    {
      "cell_type": "code",
      "source": [
        "for value in distinct_values(final_events, 'event_type'):\n",
        "    filtered_df = final_events.filter(col('event_type') == value)\n",
        "    flattened_df = flatten_df(filtered_df)\n",
        "    write_parquet_data(flattened_df)"
      ],
      "metadata": {
        "colab": {
          "base_uri": "https://localhost:8080/"
        },
        "id": "7mpU4oGYEeIV",
        "outputId": "b1a0df82-0974-45e0-fa73-a599108f9bf2"
      },
      "execution_count": 68,
      "outputs": [
        {
          "output_type": "stream",
          "name": "stdout",
          "text": [
            "root\n",
            " |-- event_id: string (nullable = true)\n",
            " |-- event_type: string (nullable = true)\n",
            " |-- timestamp: timestamp (nullable = true)\n",
            " |-- domain: string (nullable = true)\n",
            " |-- day: date (nullable = true)\n",
            " |-- id: long (nullable = true)\n",
            " |-- new_status: string (nullable = true)\n",
            " |-- old_status: string (nullable = true)\n",
            " |-- reason: string (nullable = true)\n",
            "\n",
            "root\n",
            " |-- event_id: string (nullable = true)\n",
            " |-- event_type: string (nullable = true)\n",
            " |-- timestamp: timestamp (nullable = true)\n",
            " |-- domain: string (nullable = true)\n",
            " |-- day: date (nullable = true)\n",
            " |-- account_dest_id: long (nullable = true)\n",
            " |-- account_orig_id: long (nullable = true)\n",
            " |-- amount: double (nullable = true)\n",
            " |-- currency: string (nullable = true)\n",
            " |-- id: long (nullable = true)\n",
            "\n"
          ]
        }
      ]
    },
    {
      "cell_type": "markdown",
      "source": [
        "## 6. Read transformed data in parquet format"
      ],
      "metadata": {
        "id": "dnLQAFReSTN7"
      }
    },
    {
      "cell_type": "code",
      "source": [
        "!ls -la work/data/trusted/events/"
      ],
      "metadata": {
        "colab": {
          "base_uri": "https://localhost:8080/"
        },
        "id": "cKfCK5-e-CV_",
        "outputId": "4258a658-7f91-4538-f7e9-e8e7d906cd14"
      },
      "execution_count": 73,
      "outputs": [
        {
          "output_type": "stream",
          "name": "stdout",
          "text": [
            "total 52\n",
            "drwxr-xr-x   4 root root  4096 Jul 26 16:10  .\n",
            "drwxr-xr-x   3 root root  4096 Jul 26 13:26  ..\n",
            "drwxr-xr-x 418 root root 20480 Jul 26 16:10 'event_type=account-status-change'\n",
            "drwxr-xr-x 386 root root 20480 Jul 26 16:10 'event_type=transaction-new-value'\n",
            "-rw-r--r--   1 root root     0 Jul 26 16:10  _SUCCESS\n",
            "-rw-r--r--   1 root root     8 Jul 26 16:10  ._SUCCESS.crc\n"
          ]
        }
      ]
    },
    {
      "cell_type": "code",
      "source": [
        "trusted_transaction_events = spark.read.parquet('work/data/trusted/events/event_type=transaction-new-value')\n",
        "trusted_transaction_events.show()"
      ],
      "metadata": {
        "colab": {
          "base_uri": "https://localhost:8080/"
        },
        "id": "Bt-w_lgESWi2",
        "outputId": "de07cead-819e-4bd9-cc99-ec4f01fcf88c"
      },
      "execution_count": 74,
      "outputs": [
        {
          "output_type": "stream",
          "name": "stdout",
          "text": [
            "+--------------------+-------------------+-----------+---------------+---------------+-------------------+--------+------+----------+\n",
            "|            event_id|          timestamp|     domain|account_dest_id|account_orig_id|             amount|currency|    id|       day|\n",
            "+--------------------+-------------------+-----------+---------------+---------------+-------------------+--------+------+----------+\n",
            "|5044852d-fb35-44a...|2021-11-21 12:08:40|transaction|         214886|         976948|    7107716.6935541|     CRC|183871|2021-11-21|\n",
            "|8cfc8c24-d227-410...|2020-09-29 21:59:11|transaction|         932979|         805258|   41.6929606665716|     NGN|924010|2020-09-29|\n",
            "|4c85e7e2-836d-421...|2022-07-16 08:25:00|transaction|         543600|         988545| 2.0699236805332E12|     CUP|694442|2022-07-16|\n",
            "|dfc54258-c843-4f7...|2021-10-22 19:37:21|transaction|         896601|         910735|    579.93692554022|     ZMW|804403|2021-10-22|\n",
            "|b94149a0-f294-4a0...|2021-04-15 16:31:44|transaction|         988006|         195043|7.43347137401685E11|     PYG|678584|2021-04-15|\n",
            "|13d097c8-b025-4a8...|2022-06-22 23:15:09|transaction|         415746|         244461| 9.51744581510037E8|     NAD|628824|2022-06-22|\n",
            "|d878fa0d-b23e-4ce...|2023-01-14 13:02:55|transaction|         708267|         867054|5.77277195284348E11|     KGS|393526|2023-01-14|\n",
            "|fa6649d4-2016-4ce...|2023-01-14 12:59:33|transaction|         228058|         775191|   36813.8183322878|     PYG|210015|2023-01-14|\n",
            "|c2b5736d-2717-478...|2023-01-14 19:43:11|transaction|         405355|         854847|   359820.813409202|     AWG|647429|2023-01-14|\n",
            "|8ddad10f-c54b-4f9...|2020-11-17 01:14:49|transaction|         736552|         514784| 5.9187990874811E10|     SAR|786757|2020-11-17|\n",
            "|019c3fb2-13bf-450...|2022-07-05 04:28:13|transaction|         430117|         255159|  3.0621309896103E8|     HNL|778221|2022-07-05|\n",
            "|15e550c5-a06d-41b...|2022-11-22 21:14:54|transaction|         156732|         424938| 3.5447675842185E11|     XOF|657353|2022-11-22|\n",
            "|e7842114-4945-41c...|2022-11-22 08:38:02|transaction|         613266|         445326| 8.01557164642145E8|     CAD|774215|2022-11-22|\n",
            "|485a754e-84af-435...|2023-07-05 17:36:03|transaction|         249457|         532588| 5.8015589965975E12|     KES|414671|2023-07-05|\n",
            "|cc427a63-ade0-425...|2021-03-18 21:37:54|transaction|         255075|         895135|9.20589974624329E11|     AUD| 85400|2021-03-18|\n",
            "|d9b12020-ba35-409...|2021-03-18 10:21:21|transaction|         997235|         293132|3.78642384719757E11|     ARS|146567|2021-03-18|\n",
            "|b8f95404-e2f7-435...|2021-03-21 18:09:14|transaction|         869187|         507842|    63582.351959611|     BTN|663163|2021-03-21|\n",
            "|57376c76-df36-467...|2023-01-03 21:31:51|transaction|         594941|         746782|9.22161116862755E11|     LRD|644299|2023-01-03|\n",
            "|6faedee7-9b9f-4b4...|2023-01-03 05:11:16|transaction|         509672|         419982|8.36182361029165E10|     SVC|452143|2023-01-03|\n",
            "|3c923ffa-ad33-407...|2023-05-12 07:43:49|transaction|         102176|         794406|  2.6821883837964E8|     XOF|288421|2023-05-12|\n",
            "+--------------------+-------------------+-----------+---------------+---------------+-------------------+--------+------+----------+\n",
            "only showing top 20 rows\n",
            "\n"
          ]
        }
      ]
    },
    {
      "cell_type": "code",
      "source": [
        "trusted_transaction_events.count()"
      ],
      "metadata": {
        "colab": {
          "base_uri": "https://localhost:8080/"
        },
        "id": "cxlhPoW1Si_S",
        "outputId": "8276473c-7b1e-43fb-f09a-882881e7d8bf"
      },
      "execution_count": 75,
      "outputs": [
        {
          "output_type": "execute_result",
          "data": {
            "text/plain": [
              "491"
            ]
          },
          "metadata": {},
          "execution_count": 75
        }
      ]
    },
    {
      "cell_type": "code",
      "source": [
        "trusted_account_events = spark.read.parquet('work/data/trusted/events/event_type=account-status-change')\n",
        "trusted_account_events.show()"
      ],
      "metadata": {
        "colab": {
          "base_uri": "https://localhost:8080/"
        },
        "id": "l5ZPJWHB_FaC",
        "outputId": "57e7f3db-74f9-40f0-8545-3a1481f10f9b"
      },
      "execution_count": 76,
      "outputs": [
        {
          "output_type": "stream",
          "name": "stdout",
          "text": [
            "+--------------------+-------------------+-------+------+----------+----------+--------------------+----------+\n",
            "|            event_id|          timestamp| domain|    id|new_status|old_status|              reason|       day|\n",
            "+--------------------+-------------------+-------+------+----------+----------+--------------------+----------+\n",
            "|df0c68a8-a6ec-47b...|2021-11-09 04:14:35|account| 44324|  INACTIVE|   BLOCKED|Choose service co...|2021-11-09|\n",
            "|832c7add-2881-405...|2020-10-20 01:42:12|account|174884|  INACTIVE| SUSPENDED|Environment disco...|2020-10-20|\n",
            "|cf8f6836-25fa-4d1...|2021-06-22 21:39:07|account|575438| SUSPENDED|  INACTIVE|Result administra...|2021-06-22|\n",
            "|27839a5b-7f57-492...|2021-07-27 13:52:51|account|395226| SUSPENDED| SUSPENDED|International cas...|2021-07-27|\n",
            "|a02f2099-1dde-4cd...|2022-10-05 14:53:49|account|986889|  INACTIVE|    ACTIVE|Structure hospita...|2022-10-05|\n",
            "|89f61c64-3508-422...|2022-06-12 15:36:01|account|282756| SUSPENDED| SUSPENDED|Concern whom comp...|2022-06-12|\n",
            "|85759c7d-3101-4bc...|2021-09-16 11:28:56|account|480231|  INACTIVE| SUSPENDED|Price sister true...|2021-09-16|\n",
            "|5d649dde-8214-4b8...|2021-01-16 12:11:33|account|809266|   BLOCKED|   DELETED|Program to around...|2021-01-16|\n",
            "|f6d65b4d-8b38-4f9...|2022-02-21 20:38:38|account|379458|  INACTIVE|  INACTIVE|Successful commer...|2022-02-21|\n",
            "|2066b00e-8951-422...|2021-04-13 11:35:02|account|827790| SUSPENDED|   BLOCKED|Now particularly ...|2021-04-13|\n",
            "|cdaf2ba7-446d-498...|2022-06-05 06:44:00|account|903666|  INACTIVE| SUSPENDED|People plan secon...|2022-06-05|\n",
            "|7f0f511d-2cc2-459...|2022-11-09 19:52:57|account| 84634|  INACTIVE|   BLOCKED|Her clear society...|2022-11-09|\n",
            "|9d46e7ec-3c70-446...|2021-04-13 03:38:12|account| 47735| SUSPENDED|    ACTIVE|Million window mo...|2021-04-13|\n",
            "|23cfa417-db65-4ce...|2021-10-13 06:38:23|account|250119|  INACTIVE| SUSPENDED|Administration no...|2021-10-13|\n",
            "|41e74988-2bcc-419...|2021-02-07 13:34:14|account|638885|    ACTIVE| SUSPENDED|Myself effect rea...|2021-02-07|\n",
            "|70c0178f-2b8d-408...|2022-04-26 14:42:26|account|888540|   BLOCKED|  INACTIVE|Choice agent wear...|2022-04-26|\n",
            "|7d051047-e901-4f2...|2020-10-03 07:38:09|account|187381| SUSPENDED|    ACTIVE|Three open report...|2020-10-03|\n",
            "|41e2c325-ed9a-432...|2023-06-02 04:37:16|account|123927|   BLOCKED|   DELETED|Significant enjoy...|2023-06-02|\n",
            "|ce7dc917-d86f-458...|2023-05-24 09:02:03|account|396169|   BLOCKED|   DELETED|Southern edge beg...|2023-05-24|\n",
            "|3dfc5744-b4ca-45b...|2023-01-17 15:17:07|account|963685|   BLOCKED|   BLOCKED|Class close condi...|2023-01-17|\n",
            "+--------------------+-------------------+-------+------+----------+----------+--------------------+----------+\n",
            "only showing top 20 rows\n",
            "\n"
          ]
        }
      ]
    },
    {
      "cell_type": "code",
      "source": [
        "trusted_account_events.count()"
      ],
      "metadata": {
        "colab": {
          "base_uri": "https://localhost:8080/"
        },
        "id": "iA5WDri3_dHc",
        "outputId": "2adc3e9b-7765-4213-abc1-6a2c62adef33"
      },
      "execution_count": 77,
      "outputs": [
        {
          "output_type": "execute_result",
          "data": {
            "text/plain": [
              "512"
            ]
          },
          "metadata": {},
          "execution_count": 77
        }
      ]
    },
    {
      "cell_type": "markdown",
      "source": [
        "## 7. Move raw data to processed data folder"
      ],
      "metadata": {
        "id": "BkWMqFgDjOfp"
      }
    },
    {
      "cell_type": "code",
      "source": [
        "!mv work/data/raw/events/* work/data/processed/events/\n",
        "!ls work/data/processed/events/ -la"
      ],
      "metadata": {
        "colab": {
          "base_uri": "https://localhost:8080/"
        },
        "id": "bIBLhklQh_eR",
        "outputId": "486b6b42-9d4d-4898-fc1b-0f0eca4df52f"
      },
      "execution_count": 32,
      "outputs": [
        {
          "output_type": "stream",
          "name": "stdout",
          "text": [
            "total 384\n",
            "drwxr-xr-x 2 root root   4096 Jul 26 07:36 .\n",
            "drwxr-xr-x 3 root root   4096 Jul 26 07:29 ..\n",
            "-rw-r--r-- 1 root root 380467 Jul 26 07:33 fake_events_20230726073333.json\n",
            "-rw-r--r-- 1 root root   3809 Jul 26 07:33 fake_events_20230726073340.json\n"
          ]
        }
      ]
    },
    {
      "cell_type": "code",
      "source": [],
      "metadata": {
        "id": "ovLv8L_2iH3J"
      },
      "execution_count": null,
      "outputs": []
    }
  ]
}